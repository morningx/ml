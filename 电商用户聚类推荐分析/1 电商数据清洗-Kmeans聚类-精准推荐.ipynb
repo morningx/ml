{
 "cells": [
  {
   "cell_type": "markdown",
   "metadata": {},
   "source": [
    "# 分析思路"
   ]
  },
  {
   "cell_type": "markdown",
   "metadata": {},
   "source": [
    "## 清理数据\n",
    "\n",
    "\n",
    "\n",
    "- 每一张表，各自先做初步的清洗然后再合并到一起最终表再作一次清洗，主要是缺失值的处理\n",
    "- 对建模没作用，无关的字段及时删除，对建模有用，但是不是数值型，编码、分箱处理"
   ]
  },
  {
   "cell_type": "markdown",
   "metadata": {},
   "source": [
    "## 聚类Kmeans\n",
    "\n",
    "\n",
    "- 用户分群，打上客户标签簇类值\n",
    "- 对极大值字段进行归一化处理\n",
    "- 对聚类K取值进行for循环获取SSE、轮廓系数得分\n",
    "- 绘制得分曲线图，下降幅度最大则该结尾点为K簇心个数"
   ]
  },
  {
   "cell_type": "markdown",
   "metadata": {
    "ExecuteTime": {
     "end_time": "2020-03-09T08:17:28.739634Z",
     "start_time": "2020-03-09T08:17:28.732638Z"
    }
   },
   "source": [
    "## 同类群体商品推荐\n",
    "\n",
    "- 推荐给每个客户的产品，都是他没购买过的\n",
    "- 同类客户里面，购买数量（次数）最多的那款产品，就属于受欢迎产品\n",
    "- 同类客户里面，平均购买数量（平均购买次数）最多的那款产品，就属于受欢迎的产品"
   ]
  },
  {
   "cell_type": "markdown",
   "metadata": {},
   "source": [
    "# 数据导入及删异常值"
   ]
  },
  {
   "cell_type": "markdown",
   "metadata": {},
   "source": [
    "## 导入数据集"
   ]
  },
  {
   "cell_type": "code",
   "execution_count": 29,
   "metadata": {
    "ExecuteTime": {
     "end_time": "2020-03-09T08:41:08.315019Z",
     "start_time": "2020-03-09T08:41:08.174108Z"
    }
   },
   "outputs": [
    {
     "data": {
      "text/html": [
       "<div>\n",
       "<style scoped>\n",
       "    .dataframe tbody tr th:only-of-type {\n",
       "        vertical-align: middle;\n",
       "    }\n",
       "\n",
       "    .dataframe tbody tr th {\n",
       "        vertical-align: top;\n",
       "    }\n",
       "\n",
       "    .dataframe thead th {\n",
       "        text-align: right;\n",
       "    }\n",
       "</style>\n",
       "<table border=\"1\" class=\"dataframe\">\n",
       "  <thead>\n",
       "    <tr style=\"text-align: right;\">\n",
       "      <th></th>\n",
       "      <th>订单编号</th>\n",
       "      <th>买家会员名</th>\n",
       "      <th>买家应付货款</th>\n",
       "      <th>买家应付邮费</th>\n",
       "      <th>买家支付积分</th>\n",
       "      <th>总金额</th>\n",
       "      <th>返点积分</th>\n",
       "      <th>买家实际支付金额</th>\n",
       "      <th>买家实际支付积分</th>\n",
       "      <th>订单状态</th>\n",
       "      <th>...</th>\n",
       "      <th>是否代付</th>\n",
       "      <th>定金排名</th>\n",
       "      <th>修改后的sku</th>\n",
       "      <th>修改后的收货地址</th>\n",
       "      <th>异常信息</th>\n",
       "      <th>天猫卡券抵扣</th>\n",
       "      <th>集分宝抵扣</th>\n",
       "      <th>是否是O2O交易</th>\n",
       "      <th>退款金额</th>\n",
       "      <th>预约门店</th>\n",
       "    </tr>\n",
       "  </thead>\n",
       "  <tbody>\n",
       "    <tr>\n",
       "      <td>0</td>\n",
       "      <td>21407300627014900</td>\n",
       "      <td>1425</td>\n",
       "      <td>58.51</td>\n",
       "      <td>0.0</td>\n",
       "      <td>0</td>\n",
       "      <td>58.51</td>\n",
       "      <td>0</td>\n",
       "      <td>58.51</td>\n",
       "      <td>0</td>\n",
       "      <td>交易成功</td>\n",
       "      <td>...</td>\n",
       "      <td>否</td>\n",
       "      <td>NaN</td>\n",
       "      <td>NaN</td>\n",
       "      <td>NaN</td>\n",
       "      <td>NaN</td>\n",
       "      <td>NaN</td>\n",
       "      <td>NaN</td>\n",
       "      <td>NaN</td>\n",
       "      <td>0.0</td>\n",
       "      <td>NaN</td>\n",
       "    </tr>\n",
       "    <tr>\n",
       "      <td>1</td>\n",
       "      <td>24270488269081200</td>\n",
       "      <td>2163</td>\n",
       "      <td>15.70</td>\n",
       "      <td>5.0</td>\n",
       "      <td>0</td>\n",
       "      <td>20.70</td>\n",
       "      <td>0</td>\n",
       "      <td>20.70</td>\n",
       "      <td>0</td>\n",
       "      <td>交易成功</td>\n",
       "      <td>...</td>\n",
       "      <td>否</td>\n",
       "      <td>NaN</td>\n",
       "      <td>NaN</td>\n",
       "      <td>NaN</td>\n",
       "      <td>NaN</td>\n",
       "      <td>NaN</td>\n",
       "      <td>NaN</td>\n",
       "      <td>NaN</td>\n",
       "      <td>0.0</td>\n",
       "      <td>NaN</td>\n",
       "    </tr>\n",
       "  </tbody>\n",
       "</table>\n",
       "<p>2 rows × 45 columns</p>\n",
       "</div>"
      ],
      "text/plain": [
       "                订单编号  买家会员名  买家应付货款  买家应付邮费  买家支付积分    总金额  返点积分  买家实际支付金额  \\\n",
       "0  21407300627014900   1425   58.51     0.0       0  58.51     0     58.51   \n",
       "1  24270488269081200   2163   15.70     5.0       0  20.70     0     20.70   \n",
       "\n",
       "   买家实际支付积分  订单状态  ... 是否代付  定金排名 修改后的sku 修改后的收货地址 异常信息 天猫卡券抵扣 集分宝抵扣 是否是O2O交易  \\\n",
       "0         0  交易成功  ...    否   NaN     NaN      NaN  NaN    NaN   NaN      NaN   \n",
       "1         0  交易成功  ...    否   NaN     NaN      NaN  NaN    NaN   NaN      NaN   \n",
       "\n",
       "  退款金额  预约门店  \n",
       "0  0.0   NaN  \n",
       "1  0.0   NaN  \n",
       "\n",
       "[2 rows x 45 columns]"
      ]
     },
     "execution_count": 29,
     "metadata": {},
     "output_type": "execute_result"
    }
   ],
   "source": [
    "import numpy as np\n",
    "import pandas as pd\n",
    "road = r\"D:\\order.csv\"\n",
    "order=pd.read_csv(road,index_col=0)\n",
    "order.head(2)"
   ]
  },
  {
   "cell_type": "code",
   "execution_count": 3,
   "metadata": {
    "ExecuteTime": {
     "end_time": "2020-03-09T08:21:27.320402Z",
     "start_time": "2020-03-09T08:21:27.260440Z"
    }
   },
   "outputs": [
    {
     "name": "stdout",
     "output_type": "stream",
     "text": [
      "<class 'pandas.core.frame.DataFrame'>\n",
      "Int64Index: 3989 entries, 0 to 3988\n",
      "Data columns (total 45 columns):\n",
      "订单编号        3989 non-null int64\n",
      "买家会员名       3989 non-null int64\n",
      "买家应付货款      3989 non-null float64\n",
      "买家应付邮费      3989 non-null float64\n",
      "买家支付积分      3989 non-null int64\n",
      "总金额         3989 non-null float64\n",
      "返点积分        3989 non-null int64\n",
      "买家实际支付金额    3989 non-null float64\n",
      "买家实际支付积分    3989 non-null int64\n",
      "订单状态        3989 non-null object\n",
      "买家留言        384 non-null object\n",
      "收货人姓名       3989 non-null int64\n",
      "收货地址        3989 non-null object\n",
      "运送方式        3989 non-null object\n",
      "联系电话        142 non-null object\n",
      "联系手机        3986 non-null object\n",
      "订单创建时间      3989 non-null object\n",
      "订单付款时间      3989 non-null object\n",
      "宝贝标题        3989 non-null object\n",
      "宝贝种类        3989 non-null int64\n",
      "物流单号        3988 non-null object\n",
      "物流公司        3988 non-null object\n",
      "订单备注        460 non-null object\n",
      "宝贝总数量       3989 non-null int64\n",
      "店铺Id        3989 non-null int64\n",
      "店铺名称        3989 non-null int64\n",
      "订单关闭原因      3989 non-null object\n",
      "卖家服务费       3989 non-null int64\n",
      "买家服务费       3989 non-null object\n",
      "发票抬头        0 non-null float64\n",
      "是否手机订单      3728 non-null object\n",
      "分阶段订单信息     0 non-null float64\n",
      "特权订金订单id    0 non-null float64\n",
      "是否上传合同照片    3989 non-null object\n",
      "是否上传小票      3989 non-null object\n",
      "是否代付        3989 non-null object\n",
      "定金排名        0 non-null float64\n",
      "修改后的sku     0 non-null float64\n",
      "修改后的收货地址    61 non-null object\n",
      "异常信息        0 non-null float64\n",
      "天猫卡券抵扣      0 non-null float64\n",
      "集分宝抵扣       12 non-null float64\n",
      "是否是O2O交易    0 non-null float64\n",
      "退款金额        3989 non-null float64\n",
      "预约门店        0 non-null float64\n",
      "dtypes: float64(15), int64(11), object(19)\n",
      "memory usage: 1.4+ MB\n"
     ]
    }
   ],
   "source": [
    "order.info()"
   ]
  },
  {
   "cell_type": "markdown",
   "metadata": {},
   "source": [
    "## 删除缺失率90%字段"
   ]
  },
  {
   "cell_type": "code",
   "execution_count": 24,
   "metadata": {
    "ExecuteTime": {
     "end_time": "2020-03-09T08:37:58.067960Z",
     "start_time": "2020-03-09T08:37:58.060966Z"
    }
   },
   "outputs": [
    {
     "data": {
      "text/plain": [
       "(3989, 45)"
      ]
     },
     "execution_count": 24,
     "metadata": {},
     "output_type": "execute_result"
    }
   ],
   "source": [
    "order.shape"
   ]
  },
  {
   "cell_type": "code",
   "execution_count": 25,
   "metadata": {
    "ExecuteTime": {
     "end_time": "2020-03-09T08:38:12.823317Z",
     "start_time": "2020-03-09T08:38:12.816322Z"
    }
   },
   "outputs": [
    {
     "data": {
      "text/plain": [
       "398.90000000000003"
      ]
     },
     "execution_count": 25,
     "metadata": {},
     "output_type": "execute_result"
    }
   ],
   "source": [
    "order.shape[0]*0.1\n",
    "# 订单表内3989行83列，删除缺失率较多的字段，则该行总数只有少于10%的数据398行"
   ]
  },
  {
   "cell_type": "code",
   "execution_count": 30,
   "metadata": {
    "ExecuteTime": {
     "end_time": "2020-03-09T08:41:25.324966Z",
     "start_time": "2020-03-09T08:41:25.300982Z"
    }
   },
   "outputs": [
    {
     "data": {
      "text/plain": [
       "(3989, 32)"
      ]
     },
     "execution_count": 30,
     "metadata": {},
     "output_type": "execute_result"
    }
   ],
   "source": [
    "order=order.dropna(axis=1,thresh=order.shape[0]*0.1)     \n",
    "order.shape\n",
    "# thresh打谷；锤石；反复做脱粒\n",
    "# thresh=10 如果字段的非缺失值格式少于10的，该字段删除\n",
    "# 首先看非缺失值至少多少 --->order.shape[0]*0.1得到非缺失值最少个数（非缺失值个数的临界值）"
   ]
  },
  {
   "cell_type": "code",
   "execution_count": 9,
   "metadata": {
    "ExecuteTime": {
     "end_time": "2020-03-09T08:25:50.524255Z",
     "start_time": "2020-03-09T08:25:50.425319Z"
    }
   },
   "outputs": [
    {
     "data": {
      "text/html": [
       "<div>\n",
       "<style scoped>\n",
       "    .dataframe tbody tr th:only-of-type {\n",
       "        vertical-align: middle;\n",
       "    }\n",
       "\n",
       "    .dataframe tbody tr th {\n",
       "        vertical-align: top;\n",
       "    }\n",
       "\n",
       "    .dataframe thead th {\n",
       "        text-align: right;\n",
       "    }\n",
       "</style>\n",
       "<table border=\"1\" class=\"dataframe\">\n",
       "  <thead>\n",
       "    <tr style=\"text-align: right;\">\n",
       "      <th></th>\n",
       "      <th>订单编号</th>\n",
       "      <th>买家会员名</th>\n",
       "      <th>买家应付货款</th>\n",
       "      <th>买家应付邮费</th>\n",
       "      <th>买家支付积分</th>\n",
       "      <th>总金额</th>\n",
       "      <th>返点积分</th>\n",
       "      <th>买家实际支付金额</th>\n",
       "      <th>买家实际支付积分</th>\n",
       "      <th>收货人姓名</th>\n",
       "      <th>宝贝种类</th>\n",
       "      <th>宝贝总数量</th>\n",
       "      <th>店铺Id</th>\n",
       "      <th>店铺名称</th>\n",
       "      <th>卖家服务费</th>\n",
       "      <th>退款金额</th>\n",
       "    </tr>\n",
       "  </thead>\n",
       "  <tbody>\n",
       "    <tr>\n",
       "      <td>count</td>\n",
       "      <td>3.989000e+03</td>\n",
       "      <td>3989.000000</td>\n",
       "      <td>3989.000000</td>\n",
       "      <td>3989.000000</td>\n",
       "      <td>3989.0</td>\n",
       "      <td>3989.000000</td>\n",
       "      <td>3989.0</td>\n",
       "      <td>3989.000000</td>\n",
       "      <td>3989.0</td>\n",
       "      <td>3989.000000</td>\n",
       "      <td>3989.000000</td>\n",
       "      <td>3989.000000</td>\n",
       "      <td>3989.0</td>\n",
       "      <td>3989.0</td>\n",
       "      <td>3989.0</td>\n",
       "      <td>3989.000000</td>\n",
       "    </tr>\n",
       "    <tr>\n",
       "      <td>mean</td>\n",
       "      <td>1.768421e+16</td>\n",
       "      <td>1705.994736</td>\n",
       "      <td>70.403893</td>\n",
       "      <td>2.549586</td>\n",
       "      <td>0.0</td>\n",
       "      <td>72.953480</td>\n",
       "      <td>0.0</td>\n",
       "      <td>72.613673</td>\n",
       "      <td>0.0</td>\n",
       "      <td>1666.074455</td>\n",
       "      <td>5.489346</td>\n",
       "      <td>24.094009</td>\n",
       "      <td>0.0</td>\n",
       "      <td>0.0</td>\n",
       "      <td>0.0</td>\n",
       "      <td>0.339807</td>\n",
       "    </tr>\n",
       "    <tr>\n",
       "      <td>std</td>\n",
       "      <td>3.608683e+15</td>\n",
       "      <td>976.186265</td>\n",
       "      <td>113.019072</td>\n",
       "      <td>4.534389</td>\n",
       "      <td>0.0</td>\n",
       "      <td>112.446506</td>\n",
       "      <td>0.0</td>\n",
       "      <td>112.279791</td>\n",
       "      <td>0.0</td>\n",
       "      <td>960.433977</td>\n",
       "      <td>6.222972</td>\n",
       "      <td>46.014933</td>\n",
       "      <td>0.0</td>\n",
       "      <td>0.0</td>\n",
       "      <td>0.0</td>\n",
       "      <td>6.369523</td>\n",
       "    </tr>\n",
       "    <tr>\n",
       "      <td>min</td>\n",
       "      <td>4.931300e+15</td>\n",
       "      <td>0.000000</td>\n",
       "      <td>1.000000</td>\n",
       "      <td>0.000000</td>\n",
       "      <td>0.0</td>\n",
       "      <td>1.180000</td>\n",
       "      <td>0.0</td>\n",
       "      <td>0.000000</td>\n",
       "      <td>0.0</td>\n",
       "      <td>0.000000</td>\n",
       "      <td>1.000000</td>\n",
       "      <td>1.000000</td>\n",
       "      <td>0.0</td>\n",
       "      <td>0.0</td>\n",
       "      <td>0.0</td>\n",
       "      <td>0.000000</td>\n",
       "    </tr>\n",
       "    <tr>\n",
       "      <td>25%</td>\n",
       "      <td>1.502612e+16</td>\n",
       "      <td>870.000000</td>\n",
       "      <td>17.450000</td>\n",
       "      <td>0.000000</td>\n",
       "      <td>0.0</td>\n",
       "      <td>22.090000</td>\n",
       "      <td>0.0</td>\n",
       "      <td>22.080000</td>\n",
       "      <td>0.0</td>\n",
       "      <td>839.000000</td>\n",
       "      <td>1.000000</td>\n",
       "      <td>4.000000</td>\n",
       "      <td>0.0</td>\n",
       "      <td>0.0</td>\n",
       "      <td>0.0</td>\n",
       "      <td>0.000000</td>\n",
       "    </tr>\n",
       "    <tr>\n",
       "      <td>50%</td>\n",
       "      <td>1.791438e+16</td>\n",
       "      <td>1716.000000</td>\n",
       "      <td>48.530000</td>\n",
       "      <td>0.000000</td>\n",
       "      <td>0.0</td>\n",
       "      <td>53.070000</td>\n",
       "      <td>0.0</td>\n",
       "      <td>52.320000</td>\n",
       "      <td>0.0</td>\n",
       "      <td>1663.000000</td>\n",
       "      <td>3.000000</td>\n",
       "      <td>10.000000</td>\n",
       "      <td>0.0</td>\n",
       "      <td>0.0</td>\n",
       "      <td>0.0</td>\n",
       "      <td>0.000000</td>\n",
       "    </tr>\n",
       "    <tr>\n",
       "      <td>75%</td>\n",
       "      <td>2.035314e+16</td>\n",
       "      <td>2534.000000</td>\n",
       "      <td>77.970000</td>\n",
       "      <td>5.000000</td>\n",
       "      <td>0.0</td>\n",
       "      <td>78.000000</td>\n",
       "      <td>0.0</td>\n",
       "      <td>77.000000</td>\n",
       "      <td>0.0</td>\n",
       "      <td>2498.000000</td>\n",
       "      <td>8.000000</td>\n",
       "      <td>26.000000</td>\n",
       "      <td>0.0</td>\n",
       "      <td>0.0</td>\n",
       "      <td>0.0</td>\n",
       "      <td>0.000000</td>\n",
       "    </tr>\n",
       "    <tr>\n",
       "      <td>max</td>\n",
       "      <td>2.428163e+16</td>\n",
       "      <td>3410.000000</td>\n",
       "      <td>3521.000000</td>\n",
       "      <td>200.000000</td>\n",
       "      <td>0.0</td>\n",
       "      <td>3521.000000</td>\n",
       "      <td>0.0</td>\n",
       "      <td>3521.000000</td>\n",
       "      <td>0.0</td>\n",
       "      <td>3327.000000</td>\n",
       "      <td>50.000000</td>\n",
       "      <td>820.000000</td>\n",
       "      <td>0.0</td>\n",
       "      <td>0.0</td>\n",
       "      <td>0.0</td>\n",
       "      <td>315.490000</td>\n",
       "    </tr>\n",
       "  </tbody>\n",
       "</table>\n",
       "</div>"
      ],
      "text/plain": [
       "               订单编号        买家会员名       买家应付货款       买家应付邮费  买家支付积分  \\\n",
       "count  3.989000e+03  3989.000000  3989.000000  3989.000000  3989.0   \n",
       "mean   1.768421e+16  1705.994736    70.403893     2.549586     0.0   \n",
       "std    3.608683e+15   976.186265   113.019072     4.534389     0.0   \n",
       "min    4.931300e+15     0.000000     1.000000     0.000000     0.0   \n",
       "25%    1.502612e+16   870.000000    17.450000     0.000000     0.0   \n",
       "50%    1.791438e+16  1716.000000    48.530000     0.000000     0.0   \n",
       "75%    2.035314e+16  2534.000000    77.970000     5.000000     0.0   \n",
       "max    2.428163e+16  3410.000000  3521.000000   200.000000     0.0   \n",
       "\n",
       "               总金额    返点积分     买家实际支付金额  买家实际支付积分        收货人姓名         宝贝种类  \\\n",
       "count  3989.000000  3989.0  3989.000000    3989.0  3989.000000  3989.000000   \n",
       "mean     72.953480     0.0    72.613673       0.0  1666.074455     5.489346   \n",
       "std     112.446506     0.0   112.279791       0.0   960.433977     6.222972   \n",
       "min       1.180000     0.0     0.000000       0.0     0.000000     1.000000   \n",
       "25%      22.090000     0.0    22.080000       0.0   839.000000     1.000000   \n",
       "50%      53.070000     0.0    52.320000       0.0  1663.000000     3.000000   \n",
       "75%      78.000000     0.0    77.000000       0.0  2498.000000     8.000000   \n",
       "max    3521.000000     0.0  3521.000000       0.0  3327.000000    50.000000   \n",
       "\n",
       "             宝贝总数量    店铺Id    店铺名称   卖家服务费         退款金额  \n",
       "count  3989.000000  3989.0  3989.0  3989.0  3989.000000  \n",
       "mean     24.094009     0.0     0.0     0.0     0.339807  \n",
       "std      46.014933     0.0     0.0     0.0     6.369523  \n",
       "min       1.000000     0.0     0.0     0.0     0.000000  \n",
       "25%       4.000000     0.0     0.0     0.0     0.000000  \n",
       "50%      10.000000     0.0     0.0     0.0     0.000000  \n",
       "75%      26.000000     0.0     0.0     0.0     0.000000  \n",
       "max     820.000000     0.0     0.0     0.0   315.490000  "
      ]
     },
     "execution_count": 9,
     "metadata": {},
     "output_type": "execute_result"
    }
   ],
   "source": [
    "order.describe()"
   ]
  },
  {
   "cell_type": "markdown",
   "metadata": {},
   "source": [
    "## 删除一个值字段"
   ]
  },
  {
   "cell_type": "code",
   "execution_count": 31,
   "metadata": {
    "ExecuteTime": {
     "end_time": "2020-03-09T08:41:54.858147Z",
     "start_time": "2020-03-09T08:41:54.845156Z"
    }
   },
   "outputs": [
    {
     "data": {
      "text/plain": [
       "交易成功    3989\n",
       "Name: 订单状态, dtype: int64"
      ]
     },
     "execution_count": 31,
     "metadata": {},
     "output_type": "execute_result"
    }
   ],
   "source": [
    "order['订单状态'].value_counts()"
   ]
  },
  {
   "cell_type": "code",
   "execution_count": 35,
   "metadata": {
    "ExecuteTime": {
     "end_time": "2020-03-09T08:43:03.971496Z",
     "start_time": "2020-03-09T08:43:03.960502Z"
    }
   },
   "outputs": [
    {
     "data": {
      "text/plain": [
       "[True]"
      ]
     },
     "execution_count": 35,
     "metadata": {},
     "output_type": "execute_result"
    }
   ],
   "source": [
    "list(order['卖家服务费'].value_counts().index == 0)"
   ]
  },
  {
   "cell_type": "code",
   "execution_count": 20,
   "metadata": {
    "ExecuteTime": {
     "end_time": "2020-03-09T08:36:49.948563Z",
     "start_time": "2020-03-09T08:36:49.930578Z"
    },
    "scrolled": true
   },
   "outputs": [
    {
     "data": {
      "text/plain": [
       "False"
      ]
     },
     "execution_count": 20,
     "metadata": {},
     "output_type": "execute_result"
    }
   ],
   "source": [
    "order['宝贝标题 '].nunique() == 1\n",
    "# 字段名称有空格，判断是否为一个值则异常\n",
    "# order['宝贝标题'].nunique() == 0"
   ]
  },
  {
   "cell_type": "code",
   "execution_count": 27,
   "metadata": {
    "ExecuteTime": {
     "end_time": "2020-03-09T08:39:51.624025Z",
     "start_time": "2020-03-09T08:39:51.550071Z"
    }
   },
   "outputs": [
    {
     "name": "stdout",
     "output_type": "stream",
     "text": [
      "买家支付积分\n",
      "返点积分\n",
      "买家实际支付积分\n",
      "订单状态\n",
      "运送方式\n",
      "店铺Id\n",
      "店铺名称\n",
      "订单关闭原因\n",
      "卖家服务费\n",
      "买家服务费\n",
      "是否手机订单\n",
      "是否上传合同照片\n",
      "是否上传小票\n",
      "是否代付\n"
     ]
    },
    {
     "data": {
      "text/plain": [
       "(3989, 18)"
      ]
     },
     "execution_count": 27,
     "metadata": {},
     "output_type": "execute_result"
    }
   ],
   "source": [
    "# 都是一样的数值的列没有价值，可删除\n",
    "\n",
    "for i in order.columns:\n",
    "    if order[i].nunique()==1:\n",
    "        print(i)\n",
    "        # 打印删除的字段名称\n",
    "        del order[i]\n",
    "        # 在原表上进行字段删除\n",
    "\n",
    "order.shape"
   ]
  },
  {
   "cell_type": "code",
   "execution_count": 28,
   "metadata": {
    "ExecuteTime": {
     "end_time": "2020-03-09T08:39:58.328859Z",
     "start_time": "2020-03-09T08:39:58.321869Z"
    }
   },
   "outputs": [
    {
     "data": {
      "text/plain": [
       "Index(['订单编号', '买家会员名', '买家应付货款', '买家应付邮费', '总金额', '买家实际支付金额', '收货人姓名', '收货地址',\n",
       "       '联系手机', '订单创建时间', '订单付款时间 ', '宝贝标题 ', '宝贝种类', '物流单号 ', '物流公司', '订单备注',\n",
       "       '宝贝总数量', '退款金额'],\n",
       "      dtype='object')"
      ]
     },
     "execution_count": 28,
     "metadata": {},
     "output_type": "execute_result"
    }
   ],
   "source": [
    "order.columns"
   ]
  },
  {
   "cell_type": "code",
   "execution_count": 18,
   "metadata": {
    "ExecuteTime": {
     "end_time": "2020-03-09T08:32:32.267874Z",
     "start_time": "2020-03-09T08:32:32.258879Z"
    }
   },
   "outputs": [],
   "source": [
    "# 删除字段，邮费，应付付款，姓名，手机号，时间，物流，备注，这些信息对用户群聚类无明显价值\n",
    "# 订单编号价值在于可进行后期表进行连接使用\n",
    "\n",
    "order=order[['订单编号','买家会员名','买家实际支付金额','收货地址','宝贝标题 ', '宝贝种类','退款金额','宝贝总数量']]"
   ]
  },
  {
   "cell_type": "code",
   "execution_count": 19,
   "metadata": {
    "ExecuteTime": {
     "end_time": "2020-03-09T08:32:36.937503Z",
     "start_time": "2020-03-09T08:32:36.916517Z"
    }
   },
   "outputs": [
    {
     "data": {
      "text/html": [
       "<div>\n",
       "<style scoped>\n",
       "    .dataframe tbody tr th:only-of-type {\n",
       "        vertical-align: middle;\n",
       "    }\n",
       "\n",
       "    .dataframe tbody tr th {\n",
       "        vertical-align: top;\n",
       "    }\n",
       "\n",
       "    .dataframe thead th {\n",
       "        text-align: right;\n",
       "    }\n",
       "</style>\n",
       "<table border=\"1\" class=\"dataframe\">\n",
       "  <thead>\n",
       "    <tr style=\"text-align: right;\">\n",
       "      <th></th>\n",
       "      <th>订单编号</th>\n",
       "      <th>买家会员名</th>\n",
       "      <th>买家实际支付金额</th>\n",
       "      <th>收货地址</th>\n",
       "      <th>宝贝标题</th>\n",
       "      <th>宝贝种类</th>\n",
       "      <th>退款金额</th>\n",
       "      <th>宝贝总数量</th>\n",
       "    </tr>\n",
       "  </thead>\n",
       "  <tbody>\n",
       "    <tr>\n",
       "      <td>0</td>\n",
       "      <td>21407300627014900</td>\n",
       "      <td>1425</td>\n",
       "      <td>58.51</td>\n",
       "      <td>广东省 广州市 越秀区 华乐街道环市东路华侨新村光***</td>\n",
       "      <td>发光玩具批发光纤手指灯闪光夜市热卖货源儿童玩具地摊义乌厂家，特价5号AA普通干电池 电动玩具...</td>\n",
       "      <td>5</td>\n",
       "      <td>0.0</td>\n",
       "      <td>59</td>\n",
       "    </tr>\n",
       "    <tr>\n",
       "      <td>1</td>\n",
       "      <td>24270488269081200</td>\n",
       "      <td>2163</td>\n",
       "      <td>20.70</td>\n",
       "      <td>江西省 九江市 浔阳区 甘棠街道浔阳东路108号儿***</td>\n",
       "      <td>创意新款回力小车惯性坦克 军事儿童玩具模型地摊货源玩具车批发，创意新款回力小车惯性坦克 军事...</td>\n",
       "      <td>2</td>\n",
       "      <td>0.0</td>\n",
       "      <td>2</td>\n",
       "    </tr>\n",
       "  </tbody>\n",
       "</table>\n",
       "</div>"
      ],
      "text/plain": [
       "                订单编号  买家会员名  买家实际支付金额                          收货地址  \\\n",
       "0  21407300627014900   1425     58.51  广东省 广州市 越秀区 华乐街道环市东路华侨新村光***   \n",
       "1  24270488269081200   2163     20.70  江西省 九江市 浔阳区 甘棠街道浔阳东路108号儿***   \n",
       "\n",
       "                                               宝贝标题   宝贝种类  退款金额  宝贝总数量  \n",
       "0  发光玩具批发光纤手指灯闪光夜市热卖货源儿童玩具地摊义乌厂家，特价5号AA普通干电池 电动玩具...     5   0.0     59  \n",
       "1  创意新款回力小车惯性坦克 军事儿童玩具模型地摊货源玩具车批发，创意新款回力小车惯性坦克 军事...     2   0.0      2  "
      ]
     },
     "execution_count": 19,
     "metadata": {},
     "output_type": "execute_result"
    }
   ],
   "source": [
    "order.head(2)"
   ]
  },
  {
   "cell_type": "markdown",
   "metadata": {},
   "source": [
    "# 分类型变量编码"
   ]
  },
  {
   "cell_type": "markdown",
   "metadata": {},
   "source": [
    "## 退款金额0-1编码"
   ]
  },
  {
   "cell_type": "code",
   "execution_count": 37,
   "metadata": {
    "ExecuteTime": {
     "end_time": "2020-03-09T08:51:14.734332Z",
     "start_time": "2020-03-09T08:51:14.712349Z"
    }
   },
   "outputs": [
    {
     "data": {
      "text/html": [
       "<div>\n",
       "<style scoped>\n",
       "    .dataframe tbody tr th:only-of-type {\n",
       "        vertical-align: middle;\n",
       "    }\n",
       "\n",
       "    .dataframe tbody tr th {\n",
       "        vertical-align: top;\n",
       "    }\n",
       "\n",
       "    .dataframe thead th {\n",
       "        text-align: right;\n",
       "    }\n",
       "</style>\n",
       "<table border=\"1\" class=\"dataframe\">\n",
       "  <thead>\n",
       "    <tr style=\"text-align: right;\">\n",
       "      <th></th>\n",
       "      <th>退款金额</th>\n",
       "    </tr>\n",
       "  </thead>\n",
       "  <tbody>\n",
       "    <tr>\n",
       "      <td>count</td>\n",
       "      <td>3989.000000</td>\n",
       "    </tr>\n",
       "    <tr>\n",
       "      <td>mean</td>\n",
       "      <td>0.339807</td>\n",
       "    </tr>\n",
       "    <tr>\n",
       "      <td>std</td>\n",
       "      <td>6.369523</td>\n",
       "    </tr>\n",
       "    <tr>\n",
       "      <td>min</td>\n",
       "      <td>0.000000</td>\n",
       "    </tr>\n",
       "    <tr>\n",
       "      <td>25%</td>\n",
       "      <td>0.000000</td>\n",
       "    </tr>\n",
       "    <tr>\n",
       "      <td>50%</td>\n",
       "      <td>0.000000</td>\n",
       "    </tr>\n",
       "    <tr>\n",
       "      <td>75%</td>\n",
       "      <td>0.000000</td>\n",
       "    </tr>\n",
       "    <tr>\n",
       "      <td>max</td>\n",
       "      <td>315.490000</td>\n",
       "    </tr>\n",
       "  </tbody>\n",
       "</table>\n",
       "</div>"
      ],
      "text/plain": [
       "              退款金额\n",
       "count  3989.000000\n",
       "mean      0.339807\n",
       "std       6.369523\n",
       "min       0.000000\n",
       "25%       0.000000\n",
       "50%       0.000000\n",
       "75%       0.000000\n",
       "max     315.490000"
      ]
     },
     "execution_count": 37,
     "metadata": {},
     "output_type": "execute_result"
    }
   ],
   "source": [
    "pd.DataFrame(order.退款金额).describe()\n",
    "\n",
    "# 聚类之前将极大值极小值进行01编码后避免异常值归类问题\n",
    "# 大部分75%退款金额为0，少部分为真实退货信息"
   ]
  },
  {
   "cell_type": "code",
   "execution_count": 38,
   "metadata": {
    "ExecuteTime": {
     "end_time": "2020-03-09T08:53:19.981183Z",
     "start_time": "2020-03-09T08:53:19.924221Z"
    }
   },
   "outputs": [
    {
     "data": {
      "text/html": [
       "<div>\n",
       "<style scoped>\n",
       "    .dataframe tbody tr th:only-of-type {\n",
       "        vertical-align: middle;\n",
       "    }\n",
       "\n",
       "    .dataframe tbody tr th {\n",
       "        vertical-align: top;\n",
       "    }\n",
       "\n",
       "    .dataframe thead th {\n",
       "        text-align: right;\n",
       "    }\n",
       "</style>\n",
       "<table border=\"1\" class=\"dataframe\">\n",
       "  <thead>\n",
       "    <tr style=\"text-align: right;\">\n",
       "      <th></th>\n",
       "      <th>订单编号</th>\n",
       "      <th>买家会员名</th>\n",
       "      <th>买家应付货款</th>\n",
       "      <th>买家应付邮费</th>\n",
       "      <th>买家支付积分</th>\n",
       "      <th>总金额</th>\n",
       "      <th>返点积分</th>\n",
       "      <th>买家实际支付金额</th>\n",
       "      <th>买家实际支付积分</th>\n",
       "      <th>订单状态</th>\n",
       "      <th>...</th>\n",
       "      <th>店铺Id</th>\n",
       "      <th>店铺名称</th>\n",
       "      <th>订单关闭原因</th>\n",
       "      <th>卖家服务费</th>\n",
       "      <th>买家服务费</th>\n",
       "      <th>是否手机订单</th>\n",
       "      <th>是否上传合同照片</th>\n",
       "      <th>是否上传小票</th>\n",
       "      <th>是否代付</th>\n",
       "      <th>退款金额</th>\n",
       "    </tr>\n",
       "  </thead>\n",
       "  <tbody>\n",
       "    <tr>\n",
       "      <td>0</td>\n",
       "      <td>21407300627014900</td>\n",
       "      <td>1425</td>\n",
       "      <td>58.51</td>\n",
       "      <td>0.0</td>\n",
       "      <td>0</td>\n",
       "      <td>58.51</td>\n",
       "      <td>0</td>\n",
       "      <td>58.51</td>\n",
       "      <td>0</td>\n",
       "      <td>交易成功</td>\n",
       "      <td>...</td>\n",
       "      <td>0</td>\n",
       "      <td>0</td>\n",
       "      <td>订单未关闭</td>\n",
       "      <td>0</td>\n",
       "      <td>0元</td>\n",
       "      <td>NaN</td>\n",
       "      <td>否</td>\n",
       "      <td>否</td>\n",
       "      <td>否</td>\n",
       "      <td>0</td>\n",
       "    </tr>\n",
       "    <tr>\n",
       "      <td>1</td>\n",
       "      <td>24270488269081200</td>\n",
       "      <td>2163</td>\n",
       "      <td>15.70</td>\n",
       "      <td>5.0</td>\n",
       "      <td>0</td>\n",
       "      <td>20.70</td>\n",
       "      <td>0</td>\n",
       "      <td>20.70</td>\n",
       "      <td>0</td>\n",
       "      <td>交易成功</td>\n",
       "      <td>...</td>\n",
       "      <td>0</td>\n",
       "      <td>0</td>\n",
       "      <td>订单未关闭</td>\n",
       "      <td>0</td>\n",
       "      <td>0元</td>\n",
       "      <td>手机订单</td>\n",
       "      <td>否</td>\n",
       "      <td>否</td>\n",
       "      <td>否</td>\n",
       "      <td>0</td>\n",
       "    </tr>\n",
       "  </tbody>\n",
       "</table>\n",
       "<p>2 rows × 32 columns</p>\n",
       "</div>"
      ],
      "text/plain": [
       "                订单编号  买家会员名  买家应付货款  买家应付邮费  买家支付积分    总金额  返点积分  买家实际支付金额  \\\n",
       "0  21407300627014900   1425   58.51     0.0       0  58.51     0     58.51   \n",
       "1  24270488269081200   2163   15.70     5.0       0  20.70     0     20.70   \n",
       "\n",
       "   买家实际支付积分  订单状态  ...  店铺Id 店铺名称 订单关闭原因 卖家服务费 买家服务费 是否手机订单 是否上传合同照片  是否上传小票  \\\n",
       "0         0  交易成功  ...     0    0  订单未关闭     0    0元    NaN        否       否   \n",
       "1         0  交易成功  ...     0    0  订单未关闭     0    0元   手机订单        否       否   \n",
       "\n",
       "  是否代付 退款金额  \n",
       "0    否    0  \n",
       "1    否    0  \n",
       "\n",
       "[2 rows x 32 columns]"
      ]
     },
     "execution_count": 38,
     "metadata": {},
     "output_type": "execute_result"
    }
   ],
   "source": [
    "# np.where 满足条件(condition)，输出x，不满足输出y\n",
    "# 有无退款，有则1 无则0，退款字段影响到每个用户对不同商品的推荐\n",
    "\n",
    "order.退款金额=np.where(order.退款金额>0,1,0)\n",
    "order.head(2)"
   ]
  },
  {
   "cell_type": "code",
   "execution_count": 39,
   "metadata": {
    "ExecuteTime": {
     "end_time": "2020-03-09T08:53:26.401212Z",
     "start_time": "2020-03-09T08:53:26.389224Z"
    }
   },
   "outputs": [
    {
     "data": {
      "text/plain": [
       "0    3943\n",
       "1      46\n",
       "Name: 退款金额, dtype: int64"
      ]
     },
     "execution_count": 39,
     "metadata": {},
     "output_type": "execute_result"
    }
   ],
   "source": [
    "order.退款金额.value_counts()"
   ]
  },
  {
   "cell_type": "markdown",
   "metadata": {},
   "source": [
    "## 收货地址0-1编码"
   ]
  },
  {
   "cell_type": "code",
   "execution_count": null,
   "metadata": {
    "ExecuteTime": {
     "end_time": "2020-03-09T08:54:48.368665Z",
     "start_time": "2020-03-09T08:54:48.314699Z"
    }
   },
   "outputs": [],
   "source": [
    "list(order.收货地址)\n",
    "\n",
    "#  '北京 北京市 朝阳区 和平街街道和平西苑10号楼5***'\n",
    "#  '福建省 三明市 尤溪县 福建省三明市尤溪县埔头工业***'\n",
    "#  '广西壮族自治区 玉林市 兴业县 沙塘镇平塘沙井村(***',"
   ]
  },
  {
   "cell_type": "code",
   "execution_count": 41,
   "metadata": {
    "ExecuteTime": {
     "end_time": "2020-03-09T08:55:29.909556Z",
     "start_time": "2020-03-09T08:55:29.882573Z"
    }
   },
   "outputs": [
    {
     "data": {
      "text/plain": [
       "0       广东省\n",
       "1       江西省\n",
       "2       浙江省\n",
       "3       湖南省\n",
       "4       安徽省\n",
       "       ... \n",
       "3984    海南省\n",
       "3985    河北省\n",
       "3986    广东省\n",
       "3987    海南省\n",
       "3988    云南省\n",
       "Name: 收货地址, Length: 3989, dtype: object"
      ]
     },
     "execution_count": 41,
     "metadata": {},
     "output_type": "execute_result"
    }
   ],
   "source": [
    "address=order.收货地址.str[:3]\n",
    "address"
   ]
  },
  {
   "cell_type": "code",
   "execution_count": 42,
   "metadata": {
    "ExecuteTime": {
     "end_time": "2020-03-09T08:55:41.431927Z",
     "start_time": "2020-03-09T08:55:41.419941Z"
    }
   },
   "outputs": [
    {
     "data": {
      "text/plain": [
       "广东省    561\n",
       "浙江省    340\n",
       "江苏省    297\n",
       "福建省    251\n",
       "山东省    196\n",
       "河南省    186\n",
       "湖南省    177\n",
       "江西省    166\n",
       "湖北省    159\n",
       "四川省    157\n",
       "安徽省    142\n",
       "河北省    140\n",
       "上海     129\n",
       "黑龙江    115\n",
       "山西省    115\n",
       "广西壮    110\n",
       "北京     109\n",
       "辽宁省    104\n",
       "云南省     98\n",
       "贵州省     84\n",
       "重庆      84\n",
       "吉林省     70\n",
       "陕西省     69\n",
       "海南省     58\n",
       "天津      49\n",
       "内蒙古     15\n",
       "新疆维      5\n",
       "甘肃省      2\n",
       "青海省      1\n",
       "Name: 收货地址, dtype: int64"
      ]
     },
     "execution_count": 42,
     "metadata": {},
     "output_type": "execute_result"
    }
   ],
   "source": [
    "address.value_counts()\n",
    "\n",
    "# 广西壮    110\n",
    "# 黑龙江    115\n",
    "# 能区分不同地区即可，出现异常值名称可进行修改"
   ]
  },
  {
   "cell_type": "code",
   "execution_count": null,
   "metadata": {
    "ExecuteTime": {
     "end_time": "2020-03-09T09:05:53.555544Z",
     "start_time": "2020-03-09T09:05:53.532561Z"
    }
   },
   "outputs": [],
   "source": [
    "# address.value_counts().index[12] = '上海市'\n",
    "\n",
    "# TypeError: Index does not support mutable operations"
   ]
  },
  {
   "cell_type": "code",
   "execution_count": 50,
   "metadata": {
    "ExecuteTime": {
     "end_time": "2020-03-09T09:00:28.762721Z",
     "start_time": "2020-03-09T09:00:28.749727Z"
    }
   },
   "outputs": [
    {
     "data": {
      "text/html": [
       "<div>\n",
       "<style scoped>\n",
       "    .dataframe tbody tr th:only-of-type {\n",
       "        vertical-align: middle;\n",
       "    }\n",
       "\n",
       "    .dataframe tbody tr th {\n",
       "        vertical-align: top;\n",
       "    }\n",
       "\n",
       "    .dataframe thead th {\n",
       "        text-align: right;\n",
       "    }\n",
       "</style>\n",
       "<table border=\"1\" class=\"dataframe\">\n",
       "  <thead>\n",
       "    <tr style=\"text-align: right;\">\n",
       "      <th></th>\n",
       "      <th>0</th>\n",
       "    </tr>\n",
       "  </thead>\n",
       "  <tbody>\n",
       "    <tr>\n",
       "      <td>0</td>\n",
       "      <td>广西壮广西壮族自治区</td>\n",
       "    </tr>\n",
       "  </tbody>\n",
       "</table>\n",
       "</div>"
      ],
      "text/plain": [
       "            0\n",
       "0  广西壮广西壮族自治区"
      ]
     },
     "execution_count": 50,
     "metadata": {},
     "output_type": "execute_result"
    }
   ],
   "source": [
    "# 广西壮族自治区\n",
    "\n",
    "pd.DataFrame(['广西壮']).apply(lambda x:x+'广西壮族自治区')"
   ]
  },
  {
   "cell_type": "code",
   "execution_count": 51,
   "metadata": {
    "ExecuteTime": {
     "end_time": "2020-03-09T09:00:54.651241Z",
     "start_time": "2020-03-09T09:00:54.635254Z"
    }
   },
   "outputs": [
    {
     "data": {
      "text/html": [
       "<div>\n",
       "<style scoped>\n",
       "    .dataframe tbody tr th:only-of-type {\n",
       "        vertical-align: middle;\n",
       "    }\n",
       "\n",
       "    .dataframe tbody tr th {\n",
       "        vertical-align: top;\n",
       "    }\n",
       "\n",
       "    .dataframe thead th {\n",
       "        text-align: right;\n",
       "    }\n",
       "</style>\n",
       "<table border=\"1\" class=\"dataframe\">\n",
       "  <thead>\n",
       "    <tr style=\"text-align: right;\">\n",
       "      <th></th>\n",
       "      <th>0</th>\n",
       "    </tr>\n",
       "  </thead>\n",
       "  <tbody>\n",
       "    <tr>\n",
       "      <td>0</td>\n",
       "      <td>自治区自治区</td>\n",
       "    </tr>\n",
       "  </tbody>\n",
       "</table>\n",
       "</div>"
      ],
      "text/plain": [
       "        0\n",
       "0  自治区自治区"
      ]
     },
     "execution_count": 51,
     "metadata": {},
     "output_type": "execute_result"
    }
   ],
   "source": [
    "# 自治区自治区\n",
    "\n",
    "pd.DataFrame(['自治区']).apply(lambda x:x+'自治区')"
   ]
  },
  {
   "cell_type": "code",
   "execution_count": 52,
   "metadata": {
    "ExecuteTime": {
     "end_time": "2020-03-09T09:01:26.937230Z",
     "start_time": "2020-03-09T09:01:26.922241Z"
    }
   },
   "outputs": [
    {
     "data": {
      "text/html": [
       "<div>\n",
       "<style scoped>\n",
       "    .dataframe tbody tr th:only-of-type {\n",
       "        vertical-align: middle;\n",
       "    }\n",
       "\n",
       "    .dataframe tbody tr th {\n",
       "        vertical-align: top;\n",
       "    }\n",
       "\n",
       "    .dataframe thead th {\n",
       "        text-align: right;\n",
       "    }\n",
       "</style>\n",
       "<table border=\"1\" class=\"dataframe\">\n",
       "  <thead>\n",
       "    <tr style=\"text-align: right;\">\n",
       "      <th></th>\n",
       "      <th>0</th>\n",
       "    </tr>\n",
       "  </thead>\n",
       "  <tbody>\n",
       "    <tr>\n",
       "      <td>0</td>\n",
       "      <td>新疆维吾尔自治区</td>\n",
       "    </tr>\n",
       "  </tbody>\n",
       "</table>\n",
       "</div>"
      ],
      "text/plain": [
       "          0\n",
       "0  新疆维吾尔自治区"
      ]
     },
     "execution_count": 52,
     "metadata": {},
     "output_type": "execute_result"
    }
   ],
   "source": [
    "# 新疆维吾尔自治区\n",
    "\n",
    "pd.DataFrame(['新疆维']).apply(lambda x:x+'吾尔自治区')"
   ]
  },
  {
   "cell_type": "code",
   "execution_count": 47,
   "metadata": {
    "ExecuteTime": {
     "end_time": "2020-03-09T08:58:35.135909Z",
     "start_time": "2020-03-09T08:58:35.116920Z"
    }
   },
   "outputs": [
    {
     "data": {
      "text/html": [
       "<div>\n",
       "<style scoped>\n",
       "    .dataframe tbody tr th:only-of-type {\n",
       "        vertical-align: middle;\n",
       "    }\n",
       "\n",
       "    .dataframe tbody tr th {\n",
       "        vertical-align: top;\n",
       "    }\n",
       "\n",
       "    .dataframe thead th {\n",
       "        text-align: right;\n",
       "    }\n",
       "</style>\n",
       "<table border=\"1\" class=\"dataframe\">\n",
       "  <thead>\n",
       "    <tr style=\"text-align: right;\">\n",
       "      <th></th>\n",
       "      <th>0</th>\n",
       "    </tr>\n",
       "  </thead>\n",
       "  <tbody>\n",
       "    <tr>\n",
       "      <td>0</td>\n",
       "      <td>黑龙江省</td>\n",
       "    </tr>\n",
       "  </tbody>\n",
       "</table>\n",
       "</div>"
      ],
      "text/plain": [
       "      0\n",
       "0  黑龙江省"
      ]
     },
     "execution_count": 47,
     "metadata": {},
     "output_type": "execute_result"
    }
   ],
   "source": [
    "pd.DataFrame(['黑龙江']).apply(lambda x:x+'省')"
   ]
  },
  {
   "cell_type": "code",
   "execution_count": 49,
   "metadata": {
    "ExecuteTime": {
     "end_time": "2020-03-09T08:59:17.863503Z",
     "start_time": "2020-03-09T08:59:17.848512Z"
    }
   },
   "outputs": [
    {
     "data": {
      "text/html": [
       "<div>\n",
       "<style scoped>\n",
       "    .dataframe tbody tr th:only-of-type {\n",
       "        vertical-align: middle;\n",
       "    }\n",
       "\n",
       "    .dataframe tbody tr th {\n",
       "        vertical-align: top;\n",
       "    }\n",
       "\n",
       "    .dataframe thead th {\n",
       "        text-align: right;\n",
       "    }\n",
       "</style>\n",
       "<table border=\"1\" class=\"dataframe\">\n",
       "  <thead>\n",
       "    <tr style=\"text-align: right;\">\n",
       "      <th></th>\n",
       "      <th>0</th>\n",
       "    </tr>\n",
       "  </thead>\n",
       "  <tbody>\n",
       "    <tr>\n",
       "      <td>0</td>\n",
       "      <td>上海市</td>\n",
       "    </tr>\n",
       "    <tr>\n",
       "      <td>1</td>\n",
       "      <td>北京市</td>\n",
       "    </tr>\n",
       "    <tr>\n",
       "      <td>2</td>\n",
       "      <td>天津市</td>\n",
       "    </tr>\n",
       "    <tr>\n",
       "      <td>3</td>\n",
       "      <td>重庆市</td>\n",
       "    </tr>\n",
       "  </tbody>\n",
       "</table>\n",
       "</div>"
      ],
      "text/plain": [
       "     0\n",
       "0  上海市\n",
       "1  北京市\n",
       "2  天津市\n",
       "3  重庆市"
      ]
     },
     "execution_count": 49,
     "metadata": {},
     "output_type": "execute_result"
    }
   ],
   "source": [
    "pd.DataFrame(['上海','北京','天津','重庆']).apply(lambda x:x+'市')"
   ]
  },
  {
   "cell_type": "code",
   "execution_count": 60,
   "metadata": {
    "ExecuteTime": {
     "end_time": "2020-03-09T09:08:11.361486Z",
     "start_time": "2020-03-09T09:08:11.181599Z"
    }
   },
   "outputs": [
    {
     "data": {
      "text/html": [
       "<div>\n",
       "<style scoped>\n",
       "    .dataframe tbody tr th:only-of-type {\n",
       "        vertical-align: middle;\n",
       "    }\n",
       "\n",
       "    .dataframe tbody tr th {\n",
       "        vertical-align: top;\n",
       "    }\n",
       "\n",
       "    .dataframe thead th {\n",
       "        text-align: right;\n",
       "    }\n",
       "</style>\n",
       "<table border=\"1\" class=\"dataframe\">\n",
       "  <thead>\n",
       "    <tr style=\"text-align: right;\">\n",
       "      <th></th>\n",
       "      <th>上海</th>\n",
       "      <th>云南省</th>\n",
       "      <th>内蒙古</th>\n",
       "      <th>北京</th>\n",
       "      <th>吉林省</th>\n",
       "      <th>四川省</th>\n",
       "      <th>天津</th>\n",
       "      <th>安徽省</th>\n",
       "      <th>山东省</th>\n",
       "      <th>山西省</th>\n",
       "      <th>...</th>\n",
       "      <th>湖北省</th>\n",
       "      <th>湖南省</th>\n",
       "      <th>甘肃省</th>\n",
       "      <th>福建省</th>\n",
       "      <th>贵州省</th>\n",
       "      <th>辽宁省</th>\n",
       "      <th>重庆</th>\n",
       "      <th>陕西省</th>\n",
       "      <th>青海省</th>\n",
       "      <th>黑龙江</th>\n",
       "    </tr>\n",
       "  </thead>\n",
       "  <tbody>\n",
       "    <tr>\n",
       "      <td>0</td>\n",
       "      <td>0</td>\n",
       "      <td>0</td>\n",
       "      <td>0</td>\n",
       "      <td>0</td>\n",
       "      <td>0</td>\n",
       "      <td>0</td>\n",
       "      <td>0</td>\n",
       "      <td>0</td>\n",
       "      <td>0</td>\n",
       "      <td>0</td>\n",
       "      <td>...</td>\n",
       "      <td>0</td>\n",
       "      <td>0</td>\n",
       "      <td>0</td>\n",
       "      <td>0</td>\n",
       "      <td>0</td>\n",
       "      <td>0</td>\n",
       "      <td>0</td>\n",
       "      <td>0</td>\n",
       "      <td>0</td>\n",
       "      <td>0</td>\n",
       "    </tr>\n",
       "    <tr>\n",
       "      <td>1</td>\n",
       "      <td>0</td>\n",
       "      <td>0</td>\n",
       "      <td>0</td>\n",
       "      <td>0</td>\n",
       "      <td>0</td>\n",
       "      <td>0</td>\n",
       "      <td>0</td>\n",
       "      <td>0</td>\n",
       "      <td>0</td>\n",
       "      <td>0</td>\n",
       "      <td>...</td>\n",
       "      <td>0</td>\n",
       "      <td>0</td>\n",
       "      <td>0</td>\n",
       "      <td>0</td>\n",
       "      <td>0</td>\n",
       "      <td>0</td>\n",
       "      <td>0</td>\n",
       "      <td>0</td>\n",
       "      <td>0</td>\n",
       "      <td>0</td>\n",
       "    </tr>\n",
       "    <tr>\n",
       "      <td>2</td>\n",
       "      <td>0</td>\n",
       "      <td>0</td>\n",
       "      <td>0</td>\n",
       "      <td>0</td>\n",
       "      <td>0</td>\n",
       "      <td>0</td>\n",
       "      <td>0</td>\n",
       "      <td>0</td>\n",
       "      <td>0</td>\n",
       "      <td>0</td>\n",
       "      <td>...</td>\n",
       "      <td>0</td>\n",
       "      <td>0</td>\n",
       "      <td>0</td>\n",
       "      <td>0</td>\n",
       "      <td>0</td>\n",
       "      <td>0</td>\n",
       "      <td>0</td>\n",
       "      <td>0</td>\n",
       "      <td>0</td>\n",
       "      <td>0</td>\n",
       "    </tr>\n",
       "    <tr>\n",
       "      <td>3</td>\n",
       "      <td>0</td>\n",
       "      <td>0</td>\n",
       "      <td>0</td>\n",
       "      <td>0</td>\n",
       "      <td>0</td>\n",
       "      <td>0</td>\n",
       "      <td>0</td>\n",
       "      <td>0</td>\n",
       "      <td>0</td>\n",
       "      <td>0</td>\n",
       "      <td>...</td>\n",
       "      <td>0</td>\n",
       "      <td>1</td>\n",
       "      <td>0</td>\n",
       "      <td>0</td>\n",
       "      <td>0</td>\n",
       "      <td>0</td>\n",
       "      <td>0</td>\n",
       "      <td>0</td>\n",
       "      <td>0</td>\n",
       "      <td>0</td>\n",
       "    </tr>\n",
       "    <tr>\n",
       "      <td>4</td>\n",
       "      <td>0</td>\n",
       "      <td>0</td>\n",
       "      <td>0</td>\n",
       "      <td>0</td>\n",
       "      <td>0</td>\n",
       "      <td>0</td>\n",
       "      <td>0</td>\n",
       "      <td>1</td>\n",
       "      <td>0</td>\n",
       "      <td>0</td>\n",
       "      <td>...</td>\n",
       "      <td>0</td>\n",
       "      <td>0</td>\n",
       "      <td>0</td>\n",
       "      <td>0</td>\n",
       "      <td>0</td>\n",
       "      <td>0</td>\n",
       "      <td>0</td>\n",
       "      <td>0</td>\n",
       "      <td>0</td>\n",
       "      <td>0</td>\n",
       "    </tr>\n",
       "  </tbody>\n",
       "</table>\n",
       "<p>5 rows × 29 columns</p>\n",
       "</div>"
      ],
      "text/plain": [
       "   上海   云南省  内蒙古  北京   吉林省  四川省  天津   安徽省  山东省  山西省  ...  湖北省  湖南省  甘肃省  福建省  \\\n",
       "0    0    0    0    0    0    0    0    0    0    0  ...    0    0    0    0   \n",
       "1    0    0    0    0    0    0    0    0    0    0  ...    0    0    0    0   \n",
       "2    0    0    0    0    0    0    0    0    0    0  ...    0    0    0    0   \n",
       "3    0    0    0    0    0    0    0    0    0    0  ...    0    1    0    0   \n",
       "4    0    0    0    0    0    0    0    1    0    0  ...    0    0    0    0   \n",
       "\n",
       "   贵州省  辽宁省  重庆   陕西省  青海省  黑龙江  \n",
       "0    0    0    0    0    0    0  \n",
       "1    0    0    0    0    0    0  \n",
       "2    0    0    0    0    0    0  \n",
       "3    0    0    0    0    0    0  \n",
       "4    0    0    0    0    0    0  \n",
       "\n",
       "[5 rows x 29 columns]"
      ]
     },
     "execution_count": 60,
     "metadata": {},
     "output_type": "execute_result"
    }
   ],
   "source": [
    "address=address.str.get_dummies()\n",
    "# 不同字段生成不同 00001000 0-1处理\n",
    "# 生成结果为pandas类型，可对columns列名进行重命名\n",
    "address.head()"
   ]
  },
  {
   "cell_type": "code",
   "execution_count": 61,
   "metadata": {
    "ExecuteTime": {
     "end_time": "2020-03-09T09:08:27.117942Z",
     "start_time": "2020-03-09T09:08:27.108949Z"
    }
   },
   "outputs": [
    {
     "data": {
      "text/plain": [
       "Index(['上海 ', '云南省', '内蒙古', '北京 ', '吉林省', '四川省', '天津 ', '安徽省', '山东省', '山西省',\n",
       "       '广东省', '广西壮', '新疆维', '江苏省', '江西省', '河北省', '河南省', '浙江省', '海南省', '湖北省',\n",
       "       '湖南省', '甘肃省', '福建省', '贵州省', '辽宁省', '重庆 ', '陕西省', '青海省', '黑龙江'],\n",
       "      dtype='object')"
      ]
     },
     "execution_count": 61,
     "metadata": {},
     "output_type": "execute_result"
    }
   ],
   "source": [
    "address.columns"
   ]
  },
  {
   "cell_type": "code",
   "execution_count": 63,
   "metadata": {
    "ExecuteTime": {
     "end_time": "2020-03-09T09:09:53.233198Z",
     "start_time": "2020-03-09T09:09:53.224203Z"
    }
   },
   "outputs": [
    {
     "data": {
      "text/plain": [
       "Index(['上海市', '云南省', '内蒙古自治区', '北京市', '吉林省', '四川省', '天津市', '安徽省', '山东省', '山西省',\n",
       "       '广东省', '广西壮族自治区', '新疆维吾尔自治区', '江苏省', '江西省', '河北省', '河南省', '浙江省', '海南省',\n",
       "       '湖北省', '湖南省', '甘肃省', '福建省', '贵州省', '辽宁省', '重庆市', '陕西省', '青海省', '黑龙江省'],\n",
       "      dtype='object')"
      ]
     },
     "execution_count": 63,
     "metadata": {},
     "output_type": "execute_result"
    }
   ],
   "source": [
    "address.columns = ['上海市', '云南省', '内蒙古自治区', '北京市', '吉林省', '四川省', '天津市', '安徽省', '山东省', '山西省',\n",
    "       '广东省', '广西壮族自治区', '新疆维吾尔自治区', '江苏省', '江西省', '河北省', '河南省', '浙江省', '海南省', '湖北省',\n",
    "       '湖南省', '甘肃省', '福建省', '贵州省', '辽宁省', '重庆市', '陕西省', '青海省', '黑龙江省']\n",
    "\n",
    "address.columns"
   ]
  },
  {
   "cell_type": "code",
   "execution_count": 64,
   "metadata": {
    "ExecuteTime": {
     "end_time": "2020-03-09T09:09:59.352448Z",
     "start_time": "2020-03-09T09:09:59.311476Z"
    }
   },
   "outputs": [
    {
     "data": {
      "text/html": [
       "<div>\n",
       "<style scoped>\n",
       "    .dataframe tbody tr th:only-of-type {\n",
       "        vertical-align: middle;\n",
       "    }\n",
       "\n",
       "    .dataframe tbody tr th {\n",
       "        vertical-align: top;\n",
       "    }\n",
       "\n",
       "    .dataframe thead th {\n",
       "        text-align: right;\n",
       "    }\n",
       "</style>\n",
       "<table border=\"1\" class=\"dataframe\">\n",
       "  <thead>\n",
       "    <tr style=\"text-align: right;\">\n",
       "      <th></th>\n",
       "      <th>地址_上海市</th>\n",
       "      <th>地址_云南省</th>\n",
       "      <th>地址_内蒙古自治区</th>\n",
       "      <th>地址_北京市</th>\n",
       "      <th>地址_吉林省</th>\n",
       "      <th>地址_四川省</th>\n",
       "      <th>地址_天津市</th>\n",
       "      <th>地址_安徽省</th>\n",
       "      <th>地址_山东省</th>\n",
       "      <th>地址_山西省</th>\n",
       "      <th>...</th>\n",
       "      <th>地址_湖北省</th>\n",
       "      <th>地址_湖南省</th>\n",
       "      <th>地址_甘肃省</th>\n",
       "      <th>地址_福建省</th>\n",
       "      <th>地址_贵州省</th>\n",
       "      <th>地址_辽宁省</th>\n",
       "      <th>地址_重庆市</th>\n",
       "      <th>地址_陕西省</th>\n",
       "      <th>地址_青海省</th>\n",
       "      <th>地址_黑龙江省</th>\n",
       "    </tr>\n",
       "  </thead>\n",
       "  <tbody>\n",
       "    <tr>\n",
       "      <td>0</td>\n",
       "      <td>0</td>\n",
       "      <td>0</td>\n",
       "      <td>0</td>\n",
       "      <td>0</td>\n",
       "      <td>0</td>\n",
       "      <td>0</td>\n",
       "      <td>0</td>\n",
       "      <td>0</td>\n",
       "      <td>0</td>\n",
       "      <td>0</td>\n",
       "      <td>...</td>\n",
       "      <td>0</td>\n",
       "      <td>0</td>\n",
       "      <td>0</td>\n",
       "      <td>0</td>\n",
       "      <td>0</td>\n",
       "      <td>0</td>\n",
       "      <td>0</td>\n",
       "      <td>0</td>\n",
       "      <td>0</td>\n",
       "      <td>0</td>\n",
       "    </tr>\n",
       "    <tr>\n",
       "      <td>1</td>\n",
       "      <td>0</td>\n",
       "      <td>0</td>\n",
       "      <td>0</td>\n",
       "      <td>0</td>\n",
       "      <td>0</td>\n",
       "      <td>0</td>\n",
       "      <td>0</td>\n",
       "      <td>0</td>\n",
       "      <td>0</td>\n",
       "      <td>0</td>\n",
       "      <td>...</td>\n",
       "      <td>0</td>\n",
       "      <td>0</td>\n",
       "      <td>0</td>\n",
       "      <td>0</td>\n",
       "      <td>0</td>\n",
       "      <td>0</td>\n",
       "      <td>0</td>\n",
       "      <td>0</td>\n",
       "      <td>0</td>\n",
       "      <td>0</td>\n",
       "    </tr>\n",
       "    <tr>\n",
       "      <td>2</td>\n",
       "      <td>0</td>\n",
       "      <td>0</td>\n",
       "      <td>0</td>\n",
       "      <td>0</td>\n",
       "      <td>0</td>\n",
       "      <td>0</td>\n",
       "      <td>0</td>\n",
       "      <td>0</td>\n",
       "      <td>0</td>\n",
       "      <td>0</td>\n",
       "      <td>...</td>\n",
       "      <td>0</td>\n",
       "      <td>0</td>\n",
       "      <td>0</td>\n",
       "      <td>0</td>\n",
       "      <td>0</td>\n",
       "      <td>0</td>\n",
       "      <td>0</td>\n",
       "      <td>0</td>\n",
       "      <td>0</td>\n",
       "      <td>0</td>\n",
       "    </tr>\n",
       "    <tr>\n",
       "      <td>3</td>\n",
       "      <td>0</td>\n",
       "      <td>0</td>\n",
       "      <td>0</td>\n",
       "      <td>0</td>\n",
       "      <td>0</td>\n",
       "      <td>0</td>\n",
       "      <td>0</td>\n",
       "      <td>0</td>\n",
       "      <td>0</td>\n",
       "      <td>0</td>\n",
       "      <td>...</td>\n",
       "      <td>0</td>\n",
       "      <td>1</td>\n",
       "      <td>0</td>\n",
       "      <td>0</td>\n",
       "      <td>0</td>\n",
       "      <td>0</td>\n",
       "      <td>0</td>\n",
       "      <td>0</td>\n",
       "      <td>0</td>\n",
       "      <td>0</td>\n",
       "    </tr>\n",
       "    <tr>\n",
       "      <td>4</td>\n",
       "      <td>0</td>\n",
       "      <td>0</td>\n",
       "      <td>0</td>\n",
       "      <td>0</td>\n",
       "      <td>0</td>\n",
       "      <td>0</td>\n",
       "      <td>0</td>\n",
       "      <td>1</td>\n",
       "      <td>0</td>\n",
       "      <td>0</td>\n",
       "      <td>...</td>\n",
       "      <td>0</td>\n",
       "      <td>0</td>\n",
       "      <td>0</td>\n",
       "      <td>0</td>\n",
       "      <td>0</td>\n",
       "      <td>0</td>\n",
       "      <td>0</td>\n",
       "      <td>0</td>\n",
       "      <td>0</td>\n",
       "      <td>0</td>\n",
       "    </tr>\n",
       "    <tr>\n",
       "      <td>...</td>\n",
       "      <td>...</td>\n",
       "      <td>...</td>\n",
       "      <td>...</td>\n",
       "      <td>...</td>\n",
       "      <td>...</td>\n",
       "      <td>...</td>\n",
       "      <td>...</td>\n",
       "      <td>...</td>\n",
       "      <td>...</td>\n",
       "      <td>...</td>\n",
       "      <td>...</td>\n",
       "      <td>...</td>\n",
       "      <td>...</td>\n",
       "      <td>...</td>\n",
       "      <td>...</td>\n",
       "      <td>...</td>\n",
       "      <td>...</td>\n",
       "      <td>...</td>\n",
       "      <td>...</td>\n",
       "      <td>...</td>\n",
       "      <td>...</td>\n",
       "    </tr>\n",
       "    <tr>\n",
       "      <td>3984</td>\n",
       "      <td>0</td>\n",
       "      <td>0</td>\n",
       "      <td>0</td>\n",
       "      <td>0</td>\n",
       "      <td>0</td>\n",
       "      <td>0</td>\n",
       "      <td>0</td>\n",
       "      <td>0</td>\n",
       "      <td>0</td>\n",
       "      <td>0</td>\n",
       "      <td>...</td>\n",
       "      <td>0</td>\n",
       "      <td>0</td>\n",
       "      <td>0</td>\n",
       "      <td>0</td>\n",
       "      <td>0</td>\n",
       "      <td>0</td>\n",
       "      <td>0</td>\n",
       "      <td>0</td>\n",
       "      <td>0</td>\n",
       "      <td>0</td>\n",
       "    </tr>\n",
       "    <tr>\n",
       "      <td>3985</td>\n",
       "      <td>0</td>\n",
       "      <td>0</td>\n",
       "      <td>0</td>\n",
       "      <td>0</td>\n",
       "      <td>0</td>\n",
       "      <td>0</td>\n",
       "      <td>0</td>\n",
       "      <td>0</td>\n",
       "      <td>0</td>\n",
       "      <td>0</td>\n",
       "      <td>...</td>\n",
       "      <td>0</td>\n",
       "      <td>0</td>\n",
       "      <td>0</td>\n",
       "      <td>0</td>\n",
       "      <td>0</td>\n",
       "      <td>0</td>\n",
       "      <td>0</td>\n",
       "      <td>0</td>\n",
       "      <td>0</td>\n",
       "      <td>0</td>\n",
       "    </tr>\n",
       "    <tr>\n",
       "      <td>3986</td>\n",
       "      <td>0</td>\n",
       "      <td>0</td>\n",
       "      <td>0</td>\n",
       "      <td>0</td>\n",
       "      <td>0</td>\n",
       "      <td>0</td>\n",
       "      <td>0</td>\n",
       "      <td>0</td>\n",
       "      <td>0</td>\n",
       "      <td>0</td>\n",
       "      <td>...</td>\n",
       "      <td>0</td>\n",
       "      <td>0</td>\n",
       "      <td>0</td>\n",
       "      <td>0</td>\n",
       "      <td>0</td>\n",
       "      <td>0</td>\n",
       "      <td>0</td>\n",
       "      <td>0</td>\n",
       "      <td>0</td>\n",
       "      <td>0</td>\n",
       "    </tr>\n",
       "    <tr>\n",
       "      <td>3987</td>\n",
       "      <td>0</td>\n",
       "      <td>0</td>\n",
       "      <td>0</td>\n",
       "      <td>0</td>\n",
       "      <td>0</td>\n",
       "      <td>0</td>\n",
       "      <td>0</td>\n",
       "      <td>0</td>\n",
       "      <td>0</td>\n",
       "      <td>0</td>\n",
       "      <td>...</td>\n",
       "      <td>0</td>\n",
       "      <td>0</td>\n",
       "      <td>0</td>\n",
       "      <td>0</td>\n",
       "      <td>0</td>\n",
       "      <td>0</td>\n",
       "      <td>0</td>\n",
       "      <td>0</td>\n",
       "      <td>0</td>\n",
       "      <td>0</td>\n",
       "    </tr>\n",
       "    <tr>\n",
       "      <td>3988</td>\n",
       "      <td>0</td>\n",
       "      <td>1</td>\n",
       "      <td>0</td>\n",
       "      <td>0</td>\n",
       "      <td>0</td>\n",
       "      <td>0</td>\n",
       "      <td>0</td>\n",
       "      <td>0</td>\n",
       "      <td>0</td>\n",
       "      <td>0</td>\n",
       "      <td>...</td>\n",
       "      <td>0</td>\n",
       "      <td>0</td>\n",
       "      <td>0</td>\n",
       "      <td>0</td>\n",
       "      <td>0</td>\n",
       "      <td>0</td>\n",
       "      <td>0</td>\n",
       "      <td>0</td>\n",
       "      <td>0</td>\n",
       "      <td>0</td>\n",
       "    </tr>\n",
       "  </tbody>\n",
       "</table>\n",
       "<p>3989 rows × 29 columns</p>\n",
       "</div>"
      ],
      "text/plain": [
       "      地址_上海市  地址_云南省  地址_内蒙古自治区  地址_北京市  地址_吉林省  地址_四川省  地址_天津市  地址_安徽省  \\\n",
       "0          0       0          0       0       0       0       0       0   \n",
       "1          0       0          0       0       0       0       0       0   \n",
       "2          0       0          0       0       0       0       0       0   \n",
       "3          0       0          0       0       0       0       0       0   \n",
       "4          0       0          0       0       0       0       0       1   \n",
       "...      ...     ...        ...     ...     ...     ...     ...     ...   \n",
       "3984       0       0          0       0       0       0       0       0   \n",
       "3985       0       0          0       0       0       0       0       0   \n",
       "3986       0       0          0       0       0       0       0       0   \n",
       "3987       0       0          0       0       0       0       0       0   \n",
       "3988       0       1          0       0       0       0       0       0   \n",
       "\n",
       "      地址_山东省  地址_山西省  ...  地址_湖北省  地址_湖南省  地址_甘肃省  地址_福建省  地址_贵州省  地址_辽宁省  \\\n",
       "0          0       0  ...       0       0       0       0       0       0   \n",
       "1          0       0  ...       0       0       0       0       0       0   \n",
       "2          0       0  ...       0       0       0       0       0       0   \n",
       "3          0       0  ...       0       1       0       0       0       0   \n",
       "4          0       0  ...       0       0       0       0       0       0   \n",
       "...      ...     ...  ...     ...     ...     ...     ...     ...     ...   \n",
       "3984       0       0  ...       0       0       0       0       0       0   \n",
       "3985       0       0  ...       0       0       0       0       0       0   \n",
       "3986       0       0  ...       0       0       0       0       0       0   \n",
       "3987       0       0  ...       0       0       0       0       0       0   \n",
       "3988       0       0  ...       0       0       0       0       0       0   \n",
       "\n",
       "      地址_重庆市  地址_陕西省  地址_青海省  地址_黑龙江省  \n",
       "0          0       0       0        0  \n",
       "1          0       0       0        0  \n",
       "2          0       0       0        0  \n",
       "3          0       0       0        0  \n",
       "4          0       0       0        0  \n",
       "...      ...     ...     ...      ...  \n",
       "3984       0       0       0        0  \n",
       "3985       0       0       0        0  \n",
       "3986       0       0       0        0  \n",
       "3987       0       0       0        0  \n",
       "3988       0       0       0        0  \n",
       "\n",
       "[3989 rows x 29 columns]"
      ]
     },
     "execution_count": 64,
     "metadata": {},
     "output_type": "execute_result"
    }
   ],
   "source": [
    "# 对这类0-1编码后生成的新字段，字段名添加一个“记号”：\n",
    "\n",
    "address.columns=\"地址_\"+address.columns\n",
    "address"
   ]
  },
  {
   "cell_type": "markdown",
   "metadata": {},
   "source": [
    "## 宝贝种类0-1编码"
   ]
  },
  {
   "cell_type": "code",
   "execution_count": 66,
   "metadata": {
    "ExecuteTime": {
     "end_time": "2020-03-09T09:12:21.191211Z",
     "start_time": "2020-03-09T09:12:21.186214Z"
    }
   },
   "outputs": [],
   "source": [
    "order.宝贝种类.value_counts()\n",
    "# 1     1529\n",
    "# 2      299\n",
    "# 3      254\n",
    "# 4      244"
   ]
  },
  {
   "cell_type": "code",
   "execution_count": 70,
   "metadata": {
    "ExecuteTime": {
     "end_time": "2020-03-09T09:13:10.948380Z",
     "start_time": "2020-03-09T09:13:10.938385Z"
    }
   },
   "outputs": [
    {
     "data": {
      "text/plain": [
       "48"
      ]
     },
     "execution_count": 70,
     "metadata": {},
     "output_type": "execute_result"
    }
   ],
   "source": [
    "len(order.宝贝种类.value_counts().index)"
   ]
  },
  {
   "cell_type": "code",
   "execution_count": 81,
   "metadata": {
    "ExecuteTime": {
     "end_time": "2020-03-09T09:46:59.222270Z",
     "start_time": "2020-03-09T09:46:58.921459Z"
    }
   },
   "outputs": [
    {
     "data": {
      "text/html": [
       "<div>\n",
       "<style scoped>\n",
       "    .dataframe tbody tr th:only-of-type {\n",
       "        vertical-align: middle;\n",
       "    }\n",
       "\n",
       "    .dataframe tbody tr th {\n",
       "        vertical-align: top;\n",
       "    }\n",
       "\n",
       "    .dataframe thead th {\n",
       "        text-align: right;\n",
       "    }\n",
       "</style>\n",
       "<table border=\"1\" class=\"dataframe\">\n",
       "  <thead>\n",
       "    <tr style=\"text-align: right;\">\n",
       "      <th></th>\n",
       "      <th>1</th>\n",
       "      <th>10</th>\n",
       "      <th>11</th>\n",
       "      <th>12</th>\n",
       "      <th>13</th>\n",
       "      <th>14</th>\n",
       "      <th>15</th>\n",
       "      <th>16</th>\n",
       "      <th>17</th>\n",
       "      <th>18</th>\n",
       "      <th>...</th>\n",
       "      <th>46</th>\n",
       "      <th>47</th>\n",
       "      <th>48</th>\n",
       "      <th>49</th>\n",
       "      <th>5</th>\n",
       "      <th>50</th>\n",
       "      <th>6</th>\n",
       "      <th>7</th>\n",
       "      <th>8</th>\n",
       "      <th>9</th>\n",
       "    </tr>\n",
       "  </thead>\n",
       "  <tbody>\n",
       "    <tr>\n",
       "      <td>0</td>\n",
       "      <td>0</td>\n",
       "      <td>0</td>\n",
       "      <td>0</td>\n",
       "      <td>0</td>\n",
       "      <td>0</td>\n",
       "      <td>0</td>\n",
       "      <td>0</td>\n",
       "      <td>0</td>\n",
       "      <td>0</td>\n",
       "      <td>0</td>\n",
       "      <td>...</td>\n",
       "      <td>0</td>\n",
       "      <td>0</td>\n",
       "      <td>0</td>\n",
       "      <td>0</td>\n",
       "      <td>1</td>\n",
       "      <td>0</td>\n",
       "      <td>0</td>\n",
       "      <td>0</td>\n",
       "      <td>0</td>\n",
       "      <td>0</td>\n",
       "    </tr>\n",
       "    <tr>\n",
       "      <td>1</td>\n",
       "      <td>0</td>\n",
       "      <td>0</td>\n",
       "      <td>0</td>\n",
       "      <td>0</td>\n",
       "      <td>0</td>\n",
       "      <td>0</td>\n",
       "      <td>0</td>\n",
       "      <td>0</td>\n",
       "      <td>0</td>\n",
       "      <td>0</td>\n",
       "      <td>...</td>\n",
       "      <td>0</td>\n",
       "      <td>0</td>\n",
       "      <td>0</td>\n",
       "      <td>0</td>\n",
       "      <td>0</td>\n",
       "      <td>0</td>\n",
       "      <td>0</td>\n",
       "      <td>0</td>\n",
       "      <td>0</td>\n",
       "      <td>0</td>\n",
       "    </tr>\n",
       "    <tr>\n",
       "      <td>2</td>\n",
       "      <td>1</td>\n",
       "      <td>0</td>\n",
       "      <td>0</td>\n",
       "      <td>0</td>\n",
       "      <td>0</td>\n",
       "      <td>0</td>\n",
       "      <td>0</td>\n",
       "      <td>0</td>\n",
       "      <td>0</td>\n",
       "      <td>0</td>\n",
       "      <td>...</td>\n",
       "      <td>0</td>\n",
       "      <td>0</td>\n",
       "      <td>0</td>\n",
       "      <td>0</td>\n",
       "      <td>0</td>\n",
       "      <td>0</td>\n",
       "      <td>0</td>\n",
       "      <td>0</td>\n",
       "      <td>0</td>\n",
       "      <td>0</td>\n",
       "    </tr>\n",
       "    <tr>\n",
       "      <td>3</td>\n",
       "      <td>1</td>\n",
       "      <td>0</td>\n",
       "      <td>0</td>\n",
       "      <td>0</td>\n",
       "      <td>0</td>\n",
       "      <td>0</td>\n",
       "      <td>0</td>\n",
       "      <td>0</td>\n",
       "      <td>0</td>\n",
       "      <td>0</td>\n",
       "      <td>...</td>\n",
       "      <td>0</td>\n",
       "      <td>0</td>\n",
       "      <td>0</td>\n",
       "      <td>0</td>\n",
       "      <td>0</td>\n",
       "      <td>0</td>\n",
       "      <td>0</td>\n",
       "      <td>0</td>\n",
       "      <td>0</td>\n",
       "      <td>0</td>\n",
       "    </tr>\n",
       "    <tr>\n",
       "      <td>4</td>\n",
       "      <td>1</td>\n",
       "      <td>0</td>\n",
       "      <td>0</td>\n",
       "      <td>0</td>\n",
       "      <td>0</td>\n",
       "      <td>0</td>\n",
       "      <td>0</td>\n",
       "      <td>0</td>\n",
       "      <td>0</td>\n",
       "      <td>0</td>\n",
       "      <td>...</td>\n",
       "      <td>0</td>\n",
       "      <td>0</td>\n",
       "      <td>0</td>\n",
       "      <td>0</td>\n",
       "      <td>0</td>\n",
       "      <td>0</td>\n",
       "      <td>0</td>\n",
       "      <td>0</td>\n",
       "      <td>0</td>\n",
       "      <td>0</td>\n",
       "    </tr>\n",
       "    <tr>\n",
       "      <td>...</td>\n",
       "      <td>...</td>\n",
       "      <td>...</td>\n",
       "      <td>...</td>\n",
       "      <td>...</td>\n",
       "      <td>...</td>\n",
       "      <td>...</td>\n",
       "      <td>...</td>\n",
       "      <td>...</td>\n",
       "      <td>...</td>\n",
       "      <td>...</td>\n",
       "      <td>...</td>\n",
       "      <td>...</td>\n",
       "      <td>...</td>\n",
       "      <td>...</td>\n",
       "      <td>...</td>\n",
       "      <td>...</td>\n",
       "      <td>...</td>\n",
       "      <td>...</td>\n",
       "      <td>...</td>\n",
       "      <td>...</td>\n",
       "      <td>...</td>\n",
       "    </tr>\n",
       "    <tr>\n",
       "      <td>3984</td>\n",
       "      <td>1</td>\n",
       "      <td>0</td>\n",
       "      <td>0</td>\n",
       "      <td>0</td>\n",
       "      <td>0</td>\n",
       "      <td>0</td>\n",
       "      <td>0</td>\n",
       "      <td>0</td>\n",
       "      <td>0</td>\n",
       "      <td>0</td>\n",
       "      <td>...</td>\n",
       "      <td>0</td>\n",
       "      <td>0</td>\n",
       "      <td>0</td>\n",
       "      <td>0</td>\n",
       "      <td>0</td>\n",
       "      <td>0</td>\n",
       "      <td>0</td>\n",
       "      <td>0</td>\n",
       "      <td>0</td>\n",
       "      <td>0</td>\n",
       "    </tr>\n",
       "    <tr>\n",
       "      <td>3985</td>\n",
       "      <td>0</td>\n",
       "      <td>0</td>\n",
       "      <td>0</td>\n",
       "      <td>0</td>\n",
       "      <td>0</td>\n",
       "      <td>0</td>\n",
       "      <td>0</td>\n",
       "      <td>0</td>\n",
       "      <td>0</td>\n",
       "      <td>0</td>\n",
       "      <td>...</td>\n",
       "      <td>0</td>\n",
       "      <td>0</td>\n",
       "      <td>0</td>\n",
       "      <td>0</td>\n",
       "      <td>0</td>\n",
       "      <td>0</td>\n",
       "      <td>0</td>\n",
       "      <td>0</td>\n",
       "      <td>0</td>\n",
       "      <td>0</td>\n",
       "    </tr>\n",
       "    <tr>\n",
       "      <td>3986</td>\n",
       "      <td>0</td>\n",
       "      <td>0</td>\n",
       "      <td>0</td>\n",
       "      <td>0</td>\n",
       "      <td>0</td>\n",
       "      <td>0</td>\n",
       "      <td>0</td>\n",
       "      <td>0</td>\n",
       "      <td>0</td>\n",
       "      <td>0</td>\n",
       "      <td>...</td>\n",
       "      <td>0</td>\n",
       "      <td>0</td>\n",
       "      <td>0</td>\n",
       "      <td>0</td>\n",
       "      <td>0</td>\n",
       "      <td>0</td>\n",
       "      <td>0</td>\n",
       "      <td>0</td>\n",
       "      <td>0</td>\n",
       "      <td>0</td>\n",
       "    </tr>\n",
       "    <tr>\n",
       "      <td>3987</td>\n",
       "      <td>1</td>\n",
       "      <td>0</td>\n",
       "      <td>0</td>\n",
       "      <td>0</td>\n",
       "      <td>0</td>\n",
       "      <td>0</td>\n",
       "      <td>0</td>\n",
       "      <td>0</td>\n",
       "      <td>0</td>\n",
       "      <td>0</td>\n",
       "      <td>...</td>\n",
       "      <td>0</td>\n",
       "      <td>0</td>\n",
       "      <td>0</td>\n",
       "      <td>0</td>\n",
       "      <td>0</td>\n",
       "      <td>0</td>\n",
       "      <td>0</td>\n",
       "      <td>0</td>\n",
       "      <td>0</td>\n",
       "      <td>0</td>\n",
       "    </tr>\n",
       "    <tr>\n",
       "      <td>3988</td>\n",
       "      <td>0</td>\n",
       "      <td>0</td>\n",
       "      <td>0</td>\n",
       "      <td>0</td>\n",
       "      <td>0</td>\n",
       "      <td>0</td>\n",
       "      <td>0</td>\n",
       "      <td>0</td>\n",
       "      <td>0</td>\n",
       "      <td>0</td>\n",
       "      <td>...</td>\n",
       "      <td>1</td>\n",
       "      <td>0</td>\n",
       "      <td>0</td>\n",
       "      <td>0</td>\n",
       "      <td>0</td>\n",
       "      <td>0</td>\n",
       "      <td>0</td>\n",
       "      <td>0</td>\n",
       "      <td>0</td>\n",
       "      <td>0</td>\n",
       "    </tr>\n",
       "  </tbody>\n",
       "</table>\n",
       "<p>3989 rows × 48 columns</p>\n",
       "</div>"
      ],
      "text/plain": [
       "      1  10  11  12  13  14  15  16  17  18  ...  46  47  48  49  5  50  6  7  \\\n",
       "0     0   0   0   0   0   0   0   0   0   0  ...   0   0   0   0  1   0  0  0   \n",
       "1     0   0   0   0   0   0   0   0   0   0  ...   0   0   0   0  0   0  0  0   \n",
       "2     1   0   0   0   0   0   0   0   0   0  ...   0   0   0   0  0   0  0  0   \n",
       "3     1   0   0   0   0   0   0   0   0   0  ...   0   0   0   0  0   0  0  0   \n",
       "4     1   0   0   0   0   0   0   0   0   0  ...   0   0   0   0  0   0  0  0   \n",
       "...  ..  ..  ..  ..  ..  ..  ..  ..  ..  ..  ...  ..  ..  ..  .. ..  .. .. ..   \n",
       "3984  1   0   0   0   0   0   0   0   0   0  ...   0   0   0   0  0   0  0  0   \n",
       "3985  0   0   0   0   0   0   0   0   0   0  ...   0   0   0   0  0   0  0  0   \n",
       "3986  0   0   0   0   0   0   0   0   0   0  ...   0   0   0   0  0   0  0  0   \n",
       "3987  1   0   0   0   0   0   0   0   0   0  ...   0   0   0   0  0   0  0  0   \n",
       "3988  0   0   0   0   0   0   0   0   0   0  ...   1   0   0   0  0   0  0  0   \n",
       "\n",
       "      8  9  \n",
       "0     0  0  \n",
       "1     0  0  \n",
       "2     0  0  \n",
       "3     0  0  \n",
       "4     0  0  \n",
       "...  .. ..  \n",
       "3984  0  0  \n",
       "3985  0  0  \n",
       "3986  0  0  \n",
       "3987  0  0  \n",
       "3988  0  0  \n",
       "\n",
       "[3989 rows x 48 columns]"
      ]
     },
     "execution_count": 81,
     "metadata": {},
     "output_type": "execute_result"
    }
   ],
   "source": [
    "order.宝贝种类.astype(str).str.get_dummies()\n",
    "# 接受字符串类型 需要将int转为string\n",
    "# AttributeError: Can only use .str accessor with string values!"
   ]
  },
  {
   "cell_type": "code",
   "execution_count": 83,
   "metadata": {
    "ExecuteTime": {
     "end_time": "2020-03-09T09:51:11.396280Z",
     "start_time": "2020-03-09T09:51:11.164425Z"
    }
   },
   "outputs": [
    {
     "data": {
      "text/html": [
       "<div>\n",
       "<style scoped>\n",
       "    .dataframe tbody tr th:only-of-type {\n",
       "        vertical-align: middle;\n",
       "    }\n",
       "\n",
       "    .dataframe tbody tr th {\n",
       "        vertical-align: top;\n",
       "    }\n",
       "\n",
       "    .dataframe thead th {\n",
       "        text-align: right;\n",
       "    }\n",
       "</style>\n",
       "<table border=\"1\" class=\"dataframe\">\n",
       "  <thead>\n",
       "    <tr style=\"text-align: right;\">\n",
       "      <th></th>\n",
       "      <th>1</th>\n",
       "      <th>10</th>\n",
       "      <th>11</th>\n",
       "      <th>12</th>\n",
       "      <th>13</th>\n",
       "      <th>14</th>\n",
       "      <th>15</th>\n",
       "      <th>16</th>\n",
       "      <th>17</th>\n",
       "      <th>18</th>\n",
       "      <th>...</th>\n",
       "      <th>46</th>\n",
       "      <th>47</th>\n",
       "      <th>48</th>\n",
       "      <th>49</th>\n",
       "      <th>5</th>\n",
       "      <th>50</th>\n",
       "      <th>6</th>\n",
       "      <th>7</th>\n",
       "      <th>8</th>\n",
       "      <th>9</th>\n",
       "    </tr>\n",
       "  </thead>\n",
       "  <tbody>\n",
       "    <tr>\n",
       "      <td>0</td>\n",
       "      <td>0</td>\n",
       "      <td>0</td>\n",
       "      <td>0</td>\n",
       "      <td>0</td>\n",
       "      <td>0</td>\n",
       "      <td>0</td>\n",
       "      <td>0</td>\n",
       "      <td>0</td>\n",
       "      <td>0</td>\n",
       "      <td>0</td>\n",
       "      <td>...</td>\n",
       "      <td>0</td>\n",
       "      <td>0</td>\n",
       "      <td>0</td>\n",
       "      <td>0</td>\n",
       "      <td>1</td>\n",
       "      <td>0</td>\n",
       "      <td>0</td>\n",
       "      <td>0</td>\n",
       "      <td>0</td>\n",
       "      <td>0</td>\n",
       "    </tr>\n",
       "    <tr>\n",
       "      <td>1</td>\n",
       "      <td>0</td>\n",
       "      <td>0</td>\n",
       "      <td>0</td>\n",
       "      <td>0</td>\n",
       "      <td>0</td>\n",
       "      <td>0</td>\n",
       "      <td>0</td>\n",
       "      <td>0</td>\n",
       "      <td>0</td>\n",
       "      <td>0</td>\n",
       "      <td>...</td>\n",
       "      <td>0</td>\n",
       "      <td>0</td>\n",
       "      <td>0</td>\n",
       "      <td>0</td>\n",
       "      <td>0</td>\n",
       "      <td>0</td>\n",
       "      <td>0</td>\n",
       "      <td>0</td>\n",
       "      <td>0</td>\n",
       "      <td>0</td>\n",
       "    </tr>\n",
       "    <tr>\n",
       "      <td>2</td>\n",
       "      <td>1</td>\n",
       "      <td>0</td>\n",
       "      <td>0</td>\n",
       "      <td>0</td>\n",
       "      <td>0</td>\n",
       "      <td>0</td>\n",
       "      <td>0</td>\n",
       "      <td>0</td>\n",
       "      <td>0</td>\n",
       "      <td>0</td>\n",
       "      <td>...</td>\n",
       "      <td>0</td>\n",
       "      <td>0</td>\n",
       "      <td>0</td>\n",
       "      <td>0</td>\n",
       "      <td>0</td>\n",
       "      <td>0</td>\n",
       "      <td>0</td>\n",
       "      <td>0</td>\n",
       "      <td>0</td>\n",
       "      <td>0</td>\n",
       "    </tr>\n",
       "    <tr>\n",
       "      <td>3</td>\n",
       "      <td>1</td>\n",
       "      <td>0</td>\n",
       "      <td>0</td>\n",
       "      <td>0</td>\n",
       "      <td>0</td>\n",
       "      <td>0</td>\n",
       "      <td>0</td>\n",
       "      <td>0</td>\n",
       "      <td>0</td>\n",
       "      <td>0</td>\n",
       "      <td>...</td>\n",
       "      <td>0</td>\n",
       "      <td>0</td>\n",
       "      <td>0</td>\n",
       "      <td>0</td>\n",
       "      <td>0</td>\n",
       "      <td>0</td>\n",
       "      <td>0</td>\n",
       "      <td>0</td>\n",
       "      <td>0</td>\n",
       "      <td>0</td>\n",
       "    </tr>\n",
       "    <tr>\n",
       "      <td>4</td>\n",
       "      <td>1</td>\n",
       "      <td>0</td>\n",
       "      <td>0</td>\n",
       "      <td>0</td>\n",
       "      <td>0</td>\n",
       "      <td>0</td>\n",
       "      <td>0</td>\n",
       "      <td>0</td>\n",
       "      <td>0</td>\n",
       "      <td>0</td>\n",
       "      <td>...</td>\n",
       "      <td>0</td>\n",
       "      <td>0</td>\n",
       "      <td>0</td>\n",
       "      <td>0</td>\n",
       "      <td>0</td>\n",
       "      <td>0</td>\n",
       "      <td>0</td>\n",
       "      <td>0</td>\n",
       "      <td>0</td>\n",
       "      <td>0</td>\n",
       "    </tr>\n",
       "  </tbody>\n",
       "</table>\n",
       "<p>5 rows × 48 columns</p>\n",
       "</div>"
      ],
      "text/plain": [
       "   1  10  11  12  13  14  15  16  17  18  ...  46  47  48  49  5  50  6  7  8  \\\n",
       "0  0   0   0   0   0   0   0   0   0   0  ...   0   0   0   0  1   0  0  0  0   \n",
       "1  0   0   0   0   0   0   0   0   0   0  ...   0   0   0   0  0   0  0  0  0   \n",
       "2  1   0   0   0   0   0   0   0   0   0  ...   0   0   0   0  0   0  0  0  0   \n",
       "3  1   0   0   0   0   0   0   0   0   0  ...   0   0   0   0  0   0  0  0  0   \n",
       "4  1   0   0   0   0   0   0   0   0   0  ...   0   0   0   0  0   0  0  0  0   \n",
       "\n",
       "   9  \n",
       "0  0  \n",
       "1  0  \n",
       "2  0  \n",
       "3  0  \n",
       "4  0  \n",
       "\n",
       "[5 rows x 48 columns]"
      ]
     },
     "execution_count": 83,
     "metadata": {},
     "output_type": "execute_result"
    }
   ],
   "source": [
    "kinds=order.宝贝种类.astype(str).str.get_dummies()\n",
    "kinds.head()"
   ]
  },
  {
   "cell_type": "code",
   "execution_count": 84,
   "metadata": {
    "ExecuteTime": {
     "end_time": "2020-03-09T09:51:25.606514Z",
     "start_time": "2020-03-09T09:51:25.578530Z"
    }
   },
   "outputs": [
    {
     "data": {
      "text/html": [
       "<div>\n",
       "<style scoped>\n",
       "    .dataframe tbody tr th:only-of-type {\n",
       "        vertical-align: middle;\n",
       "    }\n",
       "\n",
       "    .dataframe tbody tr th {\n",
       "        vertical-align: top;\n",
       "    }\n",
       "\n",
       "    .dataframe thead th {\n",
       "        text-align: right;\n",
       "    }\n",
       "</style>\n",
       "<table border=\"1\" class=\"dataframe\">\n",
       "  <thead>\n",
       "    <tr style=\"text-align: right;\">\n",
       "      <th></th>\n",
       "      <th>宝贝种类_1</th>\n",
       "      <th>宝贝种类_10</th>\n",
       "      <th>宝贝种类_11</th>\n",
       "      <th>宝贝种类_12</th>\n",
       "      <th>宝贝种类_13</th>\n",
       "      <th>宝贝种类_14</th>\n",
       "      <th>宝贝种类_15</th>\n",
       "      <th>宝贝种类_16</th>\n",
       "      <th>宝贝种类_17</th>\n",
       "      <th>宝贝种类_18</th>\n",
       "      <th>...</th>\n",
       "      <th>宝贝种类_46</th>\n",
       "      <th>宝贝种类_47</th>\n",
       "      <th>宝贝种类_48</th>\n",
       "      <th>宝贝种类_49</th>\n",
       "      <th>宝贝种类_5</th>\n",
       "      <th>宝贝种类_50</th>\n",
       "      <th>宝贝种类_6</th>\n",
       "      <th>宝贝种类_7</th>\n",
       "      <th>宝贝种类_8</th>\n",
       "      <th>宝贝种类_9</th>\n",
       "    </tr>\n",
       "  </thead>\n",
       "  <tbody>\n",
       "    <tr>\n",
       "      <td>0</td>\n",
       "      <td>0</td>\n",
       "      <td>0</td>\n",
       "      <td>0</td>\n",
       "      <td>0</td>\n",
       "      <td>0</td>\n",
       "      <td>0</td>\n",
       "      <td>0</td>\n",
       "      <td>0</td>\n",
       "      <td>0</td>\n",
       "      <td>0</td>\n",
       "      <td>...</td>\n",
       "      <td>0</td>\n",
       "      <td>0</td>\n",
       "      <td>0</td>\n",
       "      <td>0</td>\n",
       "      <td>1</td>\n",
       "      <td>0</td>\n",
       "      <td>0</td>\n",
       "      <td>0</td>\n",
       "      <td>0</td>\n",
       "      <td>0</td>\n",
       "    </tr>\n",
       "    <tr>\n",
       "      <td>1</td>\n",
       "      <td>0</td>\n",
       "      <td>0</td>\n",
       "      <td>0</td>\n",
       "      <td>0</td>\n",
       "      <td>0</td>\n",
       "      <td>0</td>\n",
       "      <td>0</td>\n",
       "      <td>0</td>\n",
       "      <td>0</td>\n",
       "      <td>0</td>\n",
       "      <td>...</td>\n",
       "      <td>0</td>\n",
       "      <td>0</td>\n",
       "      <td>0</td>\n",
       "      <td>0</td>\n",
       "      <td>0</td>\n",
       "      <td>0</td>\n",
       "      <td>0</td>\n",
       "      <td>0</td>\n",
       "      <td>0</td>\n",
       "      <td>0</td>\n",
       "    </tr>\n",
       "    <tr>\n",
       "      <td>2</td>\n",
       "      <td>1</td>\n",
       "      <td>0</td>\n",
       "      <td>0</td>\n",
       "      <td>0</td>\n",
       "      <td>0</td>\n",
       "      <td>0</td>\n",
       "      <td>0</td>\n",
       "      <td>0</td>\n",
       "      <td>0</td>\n",
       "      <td>0</td>\n",
       "      <td>...</td>\n",
       "      <td>0</td>\n",
       "      <td>0</td>\n",
       "      <td>0</td>\n",
       "      <td>0</td>\n",
       "      <td>0</td>\n",
       "      <td>0</td>\n",
       "      <td>0</td>\n",
       "      <td>0</td>\n",
       "      <td>0</td>\n",
       "      <td>0</td>\n",
       "    </tr>\n",
       "    <tr>\n",
       "      <td>3</td>\n",
       "      <td>1</td>\n",
       "      <td>0</td>\n",
       "      <td>0</td>\n",
       "      <td>0</td>\n",
       "      <td>0</td>\n",
       "      <td>0</td>\n",
       "      <td>0</td>\n",
       "      <td>0</td>\n",
       "      <td>0</td>\n",
       "      <td>0</td>\n",
       "      <td>...</td>\n",
       "      <td>0</td>\n",
       "      <td>0</td>\n",
       "      <td>0</td>\n",
       "      <td>0</td>\n",
       "      <td>0</td>\n",
       "      <td>0</td>\n",
       "      <td>0</td>\n",
       "      <td>0</td>\n",
       "      <td>0</td>\n",
       "      <td>0</td>\n",
       "    </tr>\n",
       "    <tr>\n",
       "      <td>4</td>\n",
       "      <td>1</td>\n",
       "      <td>0</td>\n",
       "      <td>0</td>\n",
       "      <td>0</td>\n",
       "      <td>0</td>\n",
       "      <td>0</td>\n",
       "      <td>0</td>\n",
       "      <td>0</td>\n",
       "      <td>0</td>\n",
       "      <td>0</td>\n",
       "      <td>...</td>\n",
       "      <td>0</td>\n",
       "      <td>0</td>\n",
       "      <td>0</td>\n",
       "      <td>0</td>\n",
       "      <td>0</td>\n",
       "      <td>0</td>\n",
       "      <td>0</td>\n",
       "      <td>0</td>\n",
       "      <td>0</td>\n",
       "      <td>0</td>\n",
       "    </tr>\n",
       "  </tbody>\n",
       "</table>\n",
       "<p>5 rows × 48 columns</p>\n",
       "</div>"
      ],
      "text/plain": [
       "   宝贝种类_1  宝贝种类_10  宝贝种类_11  宝贝种类_12  宝贝种类_13  宝贝种类_14  宝贝种类_15  宝贝种类_16  \\\n",
       "0       0        0        0        0        0        0        0        0   \n",
       "1       0        0        0        0        0        0        0        0   \n",
       "2       1        0        0        0        0        0        0        0   \n",
       "3       1        0        0        0        0        0        0        0   \n",
       "4       1        0        0        0        0        0        0        0   \n",
       "\n",
       "   宝贝种类_17  宝贝种类_18  ...  宝贝种类_46  宝贝种类_47  宝贝种类_48  宝贝种类_49  宝贝种类_5  宝贝种类_50  \\\n",
       "0        0        0  ...        0        0        0        0       1        0   \n",
       "1        0        0  ...        0        0        0        0       0        0   \n",
       "2        0        0  ...        0        0        0        0       0        0   \n",
       "3        0        0  ...        0        0        0        0       0        0   \n",
       "4        0        0  ...        0        0        0        0       0        0   \n",
       "\n",
       "   宝贝种类_6  宝贝种类_7  宝贝种类_8  宝贝种类_9  \n",
       "0       0       0       0       0  \n",
       "1       0       0       0       0  \n",
       "2       0       0       0       0  \n",
       "3       0       0       0       0  \n",
       "4       0       0       0       0  \n",
       "\n",
       "[5 rows x 48 columns]"
      ]
     },
     "execution_count": 84,
     "metadata": {},
     "output_type": "execute_result"
    }
   ],
   "source": [
    "kinds.columns='宝贝种类_'+kinds.columns\n",
    "kinds.head()"
   ]
  },
  {
   "cell_type": "markdown",
   "metadata": {},
   "source": [
    "# 合并表-地址编码-种类编码"
   ]
  },
  {
   "cell_type": "code",
   "execution_count": 85,
   "metadata": {
    "ExecuteTime": {
     "end_time": "2020-03-09T09:51:55.083790Z",
     "start_time": "2020-03-09T09:51:55.032821Z"
    }
   },
   "outputs": [
    {
     "data": {
      "text/html": [
       "<div>\n",
       "<style scoped>\n",
       "    .dataframe tbody tr th:only-of-type {\n",
       "        vertical-align: middle;\n",
       "    }\n",
       "\n",
       "    .dataframe tbody tr th {\n",
       "        vertical-align: top;\n",
       "    }\n",
       "\n",
       "    .dataframe thead th {\n",
       "        text-align: right;\n",
       "    }\n",
       "</style>\n",
       "<table border=\"1\" class=\"dataframe\">\n",
       "  <thead>\n",
       "    <tr style=\"text-align: right;\">\n",
       "      <th></th>\n",
       "      <th>订单编号</th>\n",
       "      <th>买家会员名</th>\n",
       "      <th>买家应付货款</th>\n",
       "      <th>买家应付邮费</th>\n",
       "      <th>买家支付积分</th>\n",
       "      <th>总金额</th>\n",
       "      <th>返点积分</th>\n",
       "      <th>买家实际支付金额</th>\n",
       "      <th>买家实际支付积分</th>\n",
       "      <th>订单状态</th>\n",
       "      <th>...</th>\n",
       "      <th>宝贝种类_46</th>\n",
       "      <th>宝贝种类_47</th>\n",
       "      <th>宝贝种类_48</th>\n",
       "      <th>宝贝种类_49</th>\n",
       "      <th>宝贝种类_5</th>\n",
       "      <th>宝贝种类_50</th>\n",
       "      <th>宝贝种类_6</th>\n",
       "      <th>宝贝种类_7</th>\n",
       "      <th>宝贝种类_8</th>\n",
       "      <th>宝贝种类_9</th>\n",
       "    </tr>\n",
       "  </thead>\n",
       "  <tbody>\n",
       "    <tr>\n",
       "      <td>0</td>\n",
       "      <td>21407300627014900</td>\n",
       "      <td>1425</td>\n",
       "      <td>58.51</td>\n",
       "      <td>0.0</td>\n",
       "      <td>0</td>\n",
       "      <td>58.51</td>\n",
       "      <td>0</td>\n",
       "      <td>58.51</td>\n",
       "      <td>0</td>\n",
       "      <td>交易成功</td>\n",
       "      <td>...</td>\n",
       "      <td>0</td>\n",
       "      <td>0</td>\n",
       "      <td>0</td>\n",
       "      <td>0</td>\n",
       "      <td>1</td>\n",
       "      <td>0</td>\n",
       "      <td>0</td>\n",
       "      <td>0</td>\n",
       "      <td>0</td>\n",
       "      <td>0</td>\n",
       "    </tr>\n",
       "    <tr>\n",
       "      <td>1</td>\n",
       "      <td>24270488269081200</td>\n",
       "      <td>2163</td>\n",
       "      <td>15.70</td>\n",
       "      <td>5.0</td>\n",
       "      <td>0</td>\n",
       "      <td>20.70</td>\n",
       "      <td>0</td>\n",
       "      <td>20.70</td>\n",
       "      <td>0</td>\n",
       "      <td>交易成功</td>\n",
       "      <td>...</td>\n",
       "      <td>0</td>\n",
       "      <td>0</td>\n",
       "      <td>0</td>\n",
       "      <td>0</td>\n",
       "      <td>0</td>\n",
       "      <td>0</td>\n",
       "      <td>0</td>\n",
       "      <td>0</td>\n",
       "      <td>0</td>\n",
       "      <td>0</td>\n",
       "    </tr>\n",
       "  </tbody>\n",
       "</table>\n",
       "<p>2 rows × 107 columns</p>\n",
       "</div>"
      ],
      "text/plain": [
       "                订单编号  买家会员名  买家应付货款  买家应付邮费  买家支付积分    总金额  返点积分  买家实际支付金额  \\\n",
       "0  21407300627014900   1425   58.51     0.0       0  58.51     0     58.51   \n",
       "1  24270488269081200   2163   15.70     5.0       0  20.70     0     20.70   \n",
       "\n",
       "   买家实际支付积分  订单状态  ...  宝贝种类_46 宝贝种类_47 宝贝种类_48 宝贝种类_49 宝贝种类_5 宝贝种类_50 宝贝种类_6  \\\n",
       "0         0  交易成功  ...        0       0       0       0      1       0      0   \n",
       "1         0  交易成功  ...        0       0       0       0      0       0      0   \n",
       "\n",
       "  宝贝种类_7 宝贝种类_8  宝贝种类_9  \n",
       "0      0      0       0  \n",
       "1      0      0       0  \n",
       "\n",
       "[2 rows x 107 columns]"
      ]
     },
     "execution_count": 85,
     "metadata": {},
     "output_type": "execute_result"
    }
   ],
   "source": [
    "order.drop(['收货地址','宝贝种类'],axis=1,inplace=True)\n",
    "\n",
    "order=pd.concat([order,address,kinds],axis=1)\n",
    "\n",
    "order.head(2)"
   ]
  },
  {
   "cell_type": "code",
   "execution_count": 86,
   "metadata": {
    "ExecuteTime": {
     "end_time": "2020-03-09T09:51:59.432090Z",
     "start_time": "2020-03-09T09:51:59.406110Z"
    }
   },
   "outputs": [
    {
     "data": {
      "text/plain": [
       "订单编号       0\n",
       "买家会员名      0\n",
       "买家应付货款     0\n",
       "买家应付邮费     0\n",
       "买家支付积分     0\n",
       "          ..\n",
       "宝贝种类_50    0\n",
       "宝贝种类_6     0\n",
       "宝贝种类_7     0\n",
       "宝贝种类_8     0\n",
       "宝贝种类_9     0\n",
       "Length: 107, dtype: int64"
      ]
     },
     "execution_count": 86,
     "metadata": {},
     "output_type": "execute_result"
    }
   ],
   "source": [
    "order.isnull().sum()"
   ]
  },
  {
   "cell_type": "markdown",
   "metadata": {},
   "source": [
    "# 订单详情表清洗"
   ]
  },
  {
   "cell_type": "code",
   "execution_count": 87,
   "metadata": {
    "ExecuteTime": {
     "end_time": "2020-03-09T09:52:44.538047Z",
     "start_time": "2020-03-09T09:52:44.349167Z"
    }
   },
   "outputs": [
    {
     "data": {
      "text/html": [
       "<div>\n",
       "<style scoped>\n",
       "    .dataframe tbody tr th:only-of-type {\n",
       "        vertical-align: middle;\n",
       "    }\n",
       "\n",
       "    .dataframe tbody tr th {\n",
       "        vertical-align: top;\n",
       "    }\n",
       "\n",
       "    .dataframe thead th {\n",
       "        text-align: right;\n",
       "    }\n",
       "</style>\n",
       "<table border=\"1\" class=\"dataframe\">\n",
       "  <thead>\n",
       "    <tr style=\"text-align: right;\">\n",
       "      <th></th>\n",
       "      <th>订单编号</th>\n",
       "      <th>标题</th>\n",
       "      <th>价格</th>\n",
       "      <th>购买数量</th>\n",
       "      <th>外部系统编号</th>\n",
       "      <th>商品属性</th>\n",
       "      <th>套餐信息</th>\n",
       "      <th>备注</th>\n",
       "      <th>订单状态</th>\n",
       "      <th>商家编码</th>\n",
       "    </tr>\n",
       "  </thead>\n",
       "  <tbody>\n",
       "    <tr>\n",
       "      <td>0</td>\n",
       "      <td>21407300627014900</td>\n",
       "      <td>发光玩具批发光纤手指灯闪光夜市热卖货源儿童玩具地摊义乌厂家</td>\n",
       "      <td>0.58</td>\n",
       "      <td>12</td>\n",
       "      <td>WY013-2SZD0426</td>\n",
       "      <td>颜色分类：小号</td>\n",
       "      <td>NaN</td>\n",
       "      <td>NaN</td>\n",
       "      <td>交易成功</td>\n",
       "      <td>WY013-2SZD0426</td>\n",
       "    </tr>\n",
       "    <tr>\n",
       "      <td>1</td>\n",
       "      <td>21407300627014900</td>\n",
       "      <td>特价5号AA普通干电池 电动玩具配件 厂家直销批</td>\n",
       "      <td>1.00</td>\n",
       "      <td>20</td>\n",
       "      <td>HT-5H0094</td>\n",
       "      <td>NaN</td>\n",
       "      <td>NaN</td>\n",
       "      <td>NaN</td>\n",
       "      <td>交易成功</td>\n",
       "      <td>HT-5H0094</td>\n",
       "    </tr>\n",
       "  </tbody>\n",
       "</table>\n",
       "</div>"
      ],
      "text/plain": [
       "                订单编号                             标题    价格  购买数量  \\\n",
       "0  21407300627014900  发光玩具批发光纤手指灯闪光夜市热卖货源儿童玩具地摊义乌厂家  0.58    12   \n",
       "1  21407300627014900       特价5号AA普通干电池 电动玩具配件 厂家直销批  1.00    20   \n",
       "\n",
       "           外部系统编号     商品属性  套餐信息   备注  订单状态            商家编码  \n",
       "0  WY013-2SZD0426  颜色分类：小号   NaN  NaN  交易成功  WY013-2SZD0426  \n",
       "1       HT-5H0094      NaN   NaN  NaN  交易成功       HT-5H0094  "
      ]
     },
     "execution_count": 87,
     "metadata": {},
     "output_type": "execute_result"
    }
   ],
   "source": [
    "roaddetail = r\"D:\\Items_order.csv\"\n",
    "order_detail=pd.read_csv(roaddetail)\n",
    "order_detail.head(2)"
   ]
  },
  {
   "cell_type": "code",
   "execution_count": 88,
   "metadata": {
    "ExecuteTime": {
     "end_time": "2020-03-09T09:54:07.163028Z",
     "start_time": "2020-03-09T09:54:07.141043Z"
    }
   },
   "outputs": [
    {
     "data": {
      "text/plain": [
       "(21897, 8)"
      ]
     },
     "execution_count": 88,
     "metadata": {},
     "output_type": "execute_result"
    }
   ],
   "source": [
    "order_detail=order_detail.dropna(axis=1,thresh=order_detail.shape[0]*0.1) \n",
    "order_detail.shape\n",
    "# 删除列1axis字段，字段的行0列1，行的数量为10%，则删除该字段\n",
    "# thresh=10 如果字段的非缺失值格式少于10的，该字段删除"
   ]
  },
  {
   "cell_type": "code",
   "execution_count": 89,
   "metadata": {
    "ExecuteTime": {
     "end_time": "2020-03-09T09:54:34.943894Z",
     "start_time": "2020-03-09T09:54:34.914912Z"
    }
   },
   "outputs": [
    {
     "data": {
      "text/plain": [
       "(21897, 8)"
      ]
     },
     "execution_count": 89,
     "metadata": {},
     "output_type": "execute_result"
    }
   ],
   "source": [
    "for i in order_detail.columns:\n",
    "    if order_detail[i].nunique()==1:\n",
    "        del order_detail[i]\n",
    "\n",
    "order_detail.shape\n",
    "\n",
    "# 删除数值结果只有1个的，代入聚类算法无价值，进行删除处理"
   ]
  },
  {
   "cell_type": "code",
   "execution_count": 90,
   "metadata": {
    "ExecuteTime": {
     "end_time": "2020-03-09T09:56:45.997322Z",
     "start_time": "2020-03-09T09:56:45.988332Z"
    }
   },
   "outputs": [
    {
     "data": {
      "text/plain": [
       "Index(['订单编号', '标题', '价格', '购买数量', '外部系统编号', '商品属性', '订单状态', '商家编码'], dtype='object')"
      ]
     },
     "execution_count": 90,
     "metadata": {},
     "output_type": "execute_result"
    }
   ],
   "source": [
    "order_detail.columns"
   ]
  },
  {
   "cell_type": "code",
   "execution_count": 91,
   "metadata": {
    "ExecuteTime": {
     "end_time": "2020-03-09T09:56:53.420230Z",
     "start_time": "2020-03-09T09:56:53.404239Z"
    }
   },
   "outputs": [
    {
     "data": {
      "text/html": [
       "<div>\n",
       "<style scoped>\n",
       "    .dataframe tbody tr th:only-of-type {\n",
       "        vertical-align: middle;\n",
       "    }\n",
       "\n",
       "    .dataframe tbody tr th {\n",
       "        vertical-align: top;\n",
       "    }\n",
       "\n",
       "    .dataframe thead th {\n",
       "        text-align: right;\n",
       "    }\n",
       "</style>\n",
       "<table border=\"1\" class=\"dataframe\">\n",
       "  <thead>\n",
       "    <tr style=\"text-align: right;\">\n",
       "      <th></th>\n",
       "      <th>订单编号</th>\n",
       "      <th>标题</th>\n",
       "      <th>价格</th>\n",
       "      <th>购买数量</th>\n",
       "    </tr>\n",
       "  </thead>\n",
       "  <tbody>\n",
       "    <tr>\n",
       "      <td>0</td>\n",
       "      <td>21407300627014900</td>\n",
       "      <td>发光玩具批发光纤手指灯闪光夜市热卖货源儿童玩具地摊义乌厂家</td>\n",
       "      <td>0.58</td>\n",
       "      <td>12</td>\n",
       "    </tr>\n",
       "    <tr>\n",
       "      <td>1</td>\n",
       "      <td>21407300627014900</td>\n",
       "      <td>特价5号AA普通干电池 电动玩具配件 厂家直销批</td>\n",
       "      <td>1.00</td>\n",
       "      <td>20</td>\n",
       "    </tr>\n",
       "  </tbody>\n",
       "</table>\n",
       "</div>"
      ],
      "text/plain": [
       "                订单编号                             标题    价格  购买数量\n",
       "0  21407300627014900  发光玩具批发光纤手指灯闪光夜市热卖货源儿童玩具地摊义乌厂家  0.58    12\n",
       "1  21407300627014900       特价5号AA普通干电池 电动玩具配件 厂家直销批  1.00    20"
      ]
     },
     "execution_count": 91,
     "metadata": {},
     "output_type": "execute_result"
    }
   ],
   "source": [
    "order_detail=order_detail[['订单编号', '标题', '价格', '购买数量']]\n",
    "order_detail.head(2)"
   ]
  },
  {
   "cell_type": "code",
   "execution_count": 92,
   "metadata": {
    "ExecuteTime": {
     "end_time": "2020-03-09T09:56:56.943062Z",
     "start_time": "2020-03-09T09:56:56.930070Z"
    }
   },
   "outputs": [
    {
     "data": {
      "text/plain": [
       "订单编号    0\n",
       "标题      0\n",
       "价格      0\n",
       "购买数量    0\n",
       "dtype: int64"
      ]
     },
     "execution_count": 92,
     "metadata": {},
     "output_type": "execute_result"
    }
   ],
   "source": [
    "order_detail.isnull().sum()"
   ]
  },
  {
   "cell_type": "markdown",
   "metadata": {},
   "source": [
    "# 商品详情表清洗"
   ]
  },
  {
   "cell_type": "code",
   "execution_count": 94,
   "metadata": {
    "ExecuteTime": {
     "end_time": "2020-03-09T09:57:50.923016Z",
     "start_time": "2020-03-09T09:57:50.900027Z"
    }
   },
   "outputs": [
    {
     "data": {
      "text/html": [
       "<div>\n",
       "<style scoped>\n",
       "    .dataframe tbody tr th:only-of-type {\n",
       "        vertical-align: middle;\n",
       "    }\n",
       "\n",
       "    .dataframe tbody tr th {\n",
       "        vertical-align: top;\n",
       "    }\n",
       "\n",
       "    .dataframe thead th {\n",
       "        text-align: right;\n",
       "    }\n",
       "</style>\n",
       "<table border=\"1\" class=\"dataframe\">\n",
       "  <thead>\n",
       "    <tr style=\"text-align: right;\">\n",
       "      <th></th>\n",
       "      <th>宝贝ID</th>\n",
       "      <th>标题</th>\n",
       "      <th>价格</th>\n",
       "      <th>玩具类型</th>\n",
       "      <th>适用年龄</th>\n",
       "      <th>品牌</th>\n",
       "    </tr>\n",
       "  </thead>\n",
       "  <tbody>\n",
       "    <tr>\n",
       "      <td>0</td>\n",
       "      <td>537396783238</td>\n",
       "      <td>创意新款回力小车惯性坦克 军事儿童玩具模型地摊货源玩具车批发</td>\n",
       "      <td>8.9</td>\n",
       "      <td>塑胶玩具</td>\n",
       "      <td>3岁,4岁,5岁,6岁</td>\n",
       "      <td>3</td>\n",
       "    </tr>\n",
       "    <tr>\n",
       "      <td>1</td>\n",
       "      <td>36286235128</td>\n",
       "      <td>2017热卖大号仿真惯性挖土机儿童益智礼品创意义乌地摊货玩具批发</td>\n",
       "      <td>3.9</td>\n",
       "      <td>其它玩具</td>\n",
       "      <td>3岁,4岁,5岁,6岁</td>\n",
       "      <td>3</td>\n",
       "    </tr>\n",
       "  </tbody>\n",
       "</table>\n",
       "</div>"
      ],
      "text/plain": [
       "           宝贝ID                                标题   价格  玩具类型         适用年龄  品牌\n",
       "0  537396783238    创意新款回力小车惯性坦克 军事儿童玩具模型地摊货源玩具车批发  8.9  塑胶玩具  3岁,4岁,5岁,6岁   3\n",
       "1   36286235128  2017热卖大号仿真惯性挖土机儿童益智礼品创意义乌地摊货玩具批发  3.9  其它玩具  3岁,4岁,5岁,6岁   3"
      ]
     },
     "execution_count": 94,
     "metadata": {},
     "output_type": "execute_result"
    }
   ],
   "source": [
    "roaditem = r\"D:\\Items_attribute.csv\"\n",
    "item_detail=pd.read_csv(roaditem)\n",
    "item_detail.head(2)"
   ]
  },
  {
   "cell_type": "markdown",
   "metadata": {},
   "source": [
    "## 缺失值处理"
   ]
  },
  {
   "cell_type": "code",
   "execution_count": 95,
   "metadata": {
    "ExecuteTime": {
     "end_time": "2020-03-09T09:58:08.781921Z",
     "start_time": "2020-03-09T09:58:08.770927Z"
    }
   },
   "outputs": [
    {
     "data": {
      "text/plain": [
       "宝贝ID     0\n",
       "标题       0\n",
       "价格       0\n",
       "玩具类型    36\n",
       "适用年龄     4\n",
       "品牌       0\n",
       "dtype: int64"
      ]
     },
     "execution_count": 95,
     "metadata": {},
     "output_type": "execute_result"
    }
   ],
   "source": [
    "item_detail.isnull().sum()"
   ]
  },
  {
   "cell_type": "code",
   "execution_count": 96,
   "metadata": {
    "ExecuteTime": {
     "end_time": "2020-03-09T09:58:12.213835Z",
     "start_time": "2020-03-09T09:58:12.201845Z"
    }
   },
   "outputs": [
    {
     "data": {
      "text/plain": [
       "其它玩具       165\n",
       "塑胶玩具        27\n",
       "其他          24\n",
       "电玩具         11\n",
       "仿真生活家电       9\n",
       "普通娃娃         5\n",
       "拼搭积木         3\n",
       "单杆手推玩具       2\n",
       "仿真医生玩具       1\n",
       "仿真房间/家具      1\n",
       "发泄           1\n",
       "娃娃玩具         1\n",
       "陀螺           1\n",
       "仿真厨房类        1\n",
       "Name: 玩具类型, dtype: int64"
      ]
     },
     "execution_count": 96,
     "metadata": {},
     "output_type": "execute_result"
    }
   ],
   "source": [
    "item_detail.玩具类型.value_counts()"
   ]
  },
  {
   "cell_type": "markdown",
   "metadata": {},
   "source": [
    "# 年龄字段填补缺失值"
   ]
  },
  {
   "cell_type": "code",
   "execution_count": 97,
   "metadata": {
    "ExecuteTime": {
     "end_time": "2020-03-09T09:59:02.855661Z",
     "start_time": "2020-03-09T09:59:02.845672Z"
    }
   },
   "outputs": [
    {
     "data": {
      "text/plain": [
       "0    3岁,4岁,5岁,6岁,7岁,8岁,9岁,10岁,11岁,12岁,13岁,14岁\n",
       "dtype: object"
      ]
     },
     "execution_count": 97,
     "metadata": {},
     "output_type": "execute_result"
    }
   ],
   "source": [
    "item_detail.适用年龄.mode()"
   ]
  },
  {
   "cell_type": "code",
   "execution_count": 105,
   "metadata": {
    "ExecuteTime": {
     "end_time": "2020-03-09T10:10:18.476658Z",
     "start_time": "2020-03-09T10:10:18.471663Z"
    },
    "scrolled": true
   },
   "outputs": [],
   "source": [
    "item_detail.适用年龄.value_counts()\n",
    "# 3岁的选择mode最多\n",
    "# 3岁,4岁,5岁,6岁,7岁,8岁,9岁,10岁,11岁,12岁,13岁,14岁             54\n",
    "# 3岁,4岁,5岁,6岁,7岁,8岁,9岁,10岁,11岁,12岁                     36\n",
    "# 3岁,4岁,5岁,6岁                                          36\n",
    "# 2岁,3岁,4岁,5岁,6岁                                       30"
   ]
  },
  {
   "cell_type": "code",
   "execution_count": 102,
   "metadata": {
    "ExecuteTime": {
     "end_time": "2020-03-09T10:00:52.976534Z",
     "start_time": "2020-03-09T10:00:52.968540Z"
    }
   },
   "outputs": [
    {
     "data": {
      "text/plain": [
       "4"
      ]
     },
     "execution_count": 102,
     "metadata": {},
     "output_type": "execute_result"
    }
   ],
   "source": [
    "item_detail.适用年龄.isnull().sum()"
   ]
  },
  {
   "cell_type": "code",
   "execution_count": 103,
   "metadata": {
    "ExecuteTime": {
     "end_time": "2020-03-09T10:01:11.403091Z",
     "start_time": "2020-03-09T10:01:11.357121Z"
    }
   },
   "outputs": [
    {
     "data": {
      "text/html": [
       "<div>\n",
       "<style scoped>\n",
       "    .dataframe tbody tr th:only-of-type {\n",
       "        vertical-align: middle;\n",
       "    }\n",
       "\n",
       "    .dataframe tbody tr th {\n",
       "        vertical-align: top;\n",
       "    }\n",
       "\n",
       "    .dataframe thead th {\n",
       "        text-align: right;\n",
       "    }\n",
       "</style>\n",
       "<table border=\"1\" class=\"dataframe\">\n",
       "  <thead>\n",
       "    <tr style=\"text-align: right;\">\n",
       "      <th></th>\n",
       "      <th>宝贝ID</th>\n",
       "      <th>标题</th>\n",
       "      <th>价格</th>\n",
       "      <th>玩具类型</th>\n",
       "      <th>适用年龄</th>\n",
       "      <th>品牌</th>\n",
       "    </tr>\n",
       "  </thead>\n",
       "  <tbody>\n",
       "    <tr>\n",
       "      <td>0</td>\n",
       "      <td>537396783238</td>\n",
       "      <td>创意新款回力小车惯性坦克 军事儿童玩具模型地摊货源玩具车批发</td>\n",
       "      <td>8.9</td>\n",
       "      <td>塑胶玩具</td>\n",
       "      <td>3岁,4岁,5岁,6岁</td>\n",
       "      <td>3</td>\n",
       "    </tr>\n",
       "    <tr>\n",
       "      <td>1</td>\n",
       "      <td>36286235128</td>\n",
       "      <td>2017热卖大号仿真惯性挖土机儿童益智礼品创意义乌地摊货玩具批发</td>\n",
       "      <td>3.9</td>\n",
       "      <td>其它玩具</td>\n",
       "      <td>3岁,4岁,5岁,6岁</td>\n",
       "      <td>3</td>\n",
       "    </tr>\n",
       "  </tbody>\n",
       "</table>\n",
       "</div>"
      ],
      "text/plain": [
       "           宝贝ID                                标题   价格  玩具类型         适用年龄  品牌\n",
       "0  537396783238    创意新款回力小车惯性坦克 军事儿童玩具模型地摊货源玩具车批发  8.9  塑胶玩具  3岁,4岁,5岁,6岁   3\n",
       "1   36286235128  2017热卖大号仿真惯性挖土机儿童益智礼品创意义乌地摊货玩具批发  3.9  其它玩具  3岁,4岁,5岁,6岁   3"
      ]
     },
     "execution_count": 103,
     "metadata": {},
     "output_type": "execute_result"
    }
   ],
   "source": [
    "item_detail.适用年龄=item_detail.适用年龄.fillna(item_detail.适用年龄.mode()[0])\n",
    "item_detail.head(2)"
   ]
  },
  {
   "cell_type": "code",
   "execution_count": 104,
   "metadata": {
    "ExecuteTime": {
     "end_time": "2020-03-09T10:09:44.305812Z",
     "start_time": "2020-03-09T10:09:44.295818Z"
    }
   },
   "outputs": [
    {
     "data": {
      "text/plain": [
       "宝贝ID     0\n",
       "标题       0\n",
       "价格       0\n",
       "玩具类型    36\n",
       "适用年龄     0\n",
       "品牌       0\n",
       "dtype: int64"
      ]
     },
     "execution_count": 104,
     "metadata": {},
     "output_type": "execute_result"
    }
   ],
   "source": [
    "item_detail.isnull().sum()"
   ]
  },
  {
   "cell_type": "markdown",
   "metadata": {},
   "source": [
    "## 年龄字段分箱"
   ]
  },
  {
   "cell_type": "code",
   "execution_count": 32,
   "metadata": {
    "ExecuteTime": {
     "end_time": "2020-03-08T06:33:01.288102Z",
     "start_time": "2020-03-08T06:33:01.278107Z"
    }
   },
   "outputs": [
    {
     "data": {
      "text/plain": [
       "43"
      ]
     },
     "execution_count": 32,
     "metadata": {},
     "output_type": "execute_result"
    }
   ],
   "source": [
    "item_detail.适用年龄.nunique()\n",
    "# nunique() 方法用于获取 'Team’列中所有唯一值的数量"
   ]
  },
  {
   "cell_type": "code",
   "execution_count": 106,
   "metadata": {
    "ExecuteTime": {
     "end_time": "2020-03-09T10:11:47.171953Z",
     "start_time": "2020-03-09T10:11:47.156963Z"
    }
   },
   "outputs": [
    {
     "data": {
      "text/plain": [
       "A    2\n",
       "B    3\n",
       "dtype: int64"
      ]
     },
     "execution_count": 106,
     "metadata": {},
     "output_type": "execute_result"
    }
   ],
   "source": [
    "df=pd.DataFrame({'A':[1,1,2],'B':[4,5,6]})\n",
    "df.nunique()"
   ]
  },
  {
   "cell_type": "code",
   "execution_count": 33,
   "metadata": {
    "ExecuteTime": {
     "end_time": "2020-03-08T06:33:01.792788Z",
     "start_time": "2020-03-08T06:33:01.781796Z"
    }
   },
   "outputs": [
    {
     "data": {
      "text/plain": [
       "0                                   3岁,4岁,5岁,6岁\n",
       "1                                   3岁,4岁,5岁,6岁\n",
       "2              3岁,4岁,5岁,6岁,7岁,8岁,9岁,10岁,11岁,12岁\n",
       "3      3岁,4岁,5岁,6岁,7岁,8岁,9岁,10岁,11岁,12岁,13岁,14岁\n",
       "4                                         3岁,4岁\n",
       "                         ...                   \n",
       "283    3岁,4岁,5岁,6岁,7岁,8岁,9岁,10岁,11岁,12岁,13岁,14岁\n",
       "284                              3岁,4岁,5岁,6岁,7岁\n",
       "285                               6个月,12个月,18个月\n",
       "286            3岁,4岁,5岁,6岁,7岁,8岁,9岁,10岁,11岁,12岁\n",
       "287            3岁,4岁,5岁,6岁,7岁,8岁,9岁,10岁,11岁,12岁\n",
       "Name: 适用年龄, Length: 288, dtype: object"
      ]
     },
     "execution_count": 33,
     "metadata": {},
     "output_type": "execute_result"
    }
   ],
   "source": [
    "item_detail.适用年龄"
   ]
  },
  {
   "cell_type": "code",
   "execution_count": 107,
   "metadata": {
    "ExecuteTime": {
     "end_time": "2020-03-09T10:12:42.696094Z",
     "start_time": "2020-03-09T10:12:42.682105Z"
    }
   },
   "outputs": [
    {
     "data": {
      "text/plain": [
       "0                                       [3岁, 4岁, 5岁, 6岁]\n",
       "1                                       [3岁, 4岁, 5岁, 6岁]\n",
       "2            [3岁, 4岁, 5岁, 6岁, 7岁, 8岁, 9岁, 10岁, 11岁, 12岁]\n",
       "3      [3岁, 4岁, 5岁, 6岁, 7岁, 8岁, 9岁, 10岁, 11岁, 12岁, 13...\n",
       "4                                               [3岁, 4岁]\n",
       "                             ...                        \n",
       "283    [3岁, 4岁, 5岁, 6岁, 7岁, 8岁, 9岁, 10岁, 11岁, 12岁, 13...\n",
       "284                                 [3岁, 4岁, 5岁, 6岁, 7岁]\n",
       "285                                    [6个月, 12个月, 18个月]\n",
       "286          [3岁, 4岁, 5岁, 6岁, 7岁, 8岁, 9岁, 10岁, 11岁, 12岁]\n",
       "287          [3岁, 4岁, 5岁, 6岁, 7岁, 8岁, 9岁, 10岁, 11岁, 12岁]\n",
       "Name: 适用年龄, Length: 288, dtype: object"
      ]
     },
     "execution_count": 107,
     "metadata": {},
     "output_type": "execute_result"
    }
   ],
   "source": [
    "age=item_detail.适用年龄.str.split(',')    # 对Series里面的字符串进行拆分\n",
    "age  "
   ]
  },
  {
   "cell_type": "code",
   "execution_count": 109,
   "metadata": {
    "ExecuteTime": {
     "end_time": "2020-03-09T10:13:05.823573Z",
     "start_time": "2020-03-09T10:13:05.815579Z"
    }
   },
   "outputs": [
    {
     "data": {
      "text/plain": [
       "(['3岁', '4岁', '5岁', '6岁'], '3岁')"
      ]
     },
     "execution_count": 109,
     "metadata": {},
     "output_type": "execute_result"
    }
   ],
   "source": [
    "age[0],age[0][0]"
   ]
  },
  {
   "cell_type": "code",
   "execution_count": 110,
   "metadata": {
    "ExecuteTime": {
     "end_time": "2020-03-09T10:13:25.157087Z",
     "start_time": "2020-03-09T10:13:25.147094Z"
    }
   },
   "outputs": [
    {
     "data": {
      "text/plain": [
       "{'10岁',\n",
       " '11岁',\n",
       " '12个月',\n",
       " '12岁',\n",
       " '13岁',\n",
       " '14岁',\n",
       " '14岁以上',\n",
       " '18个月',\n",
       " '2岁',\n",
       " '3个月',\n",
       " '3岁',\n",
       " '4岁',\n",
       " '5岁',\n",
       " '6个月',\n",
       " '6岁',\n",
       " '7岁',\n",
       " '8岁',\n",
       " '9岁'}"
      ]
     },
     "execution_count": 110,
     "metadata": {},
     "output_type": "execute_result"
    }
   ],
   "source": [
    "a=set()\n",
    "# 集合可自动去重处理\n",
    "for i in age:\n",
    "    for j in i:\n",
    "        a.add(j)\n",
    "        \n",
    "a"
   ]
  },
  {
   "cell_type": "markdown",
   "metadata": {},
   "source": [
    "对上面的年龄标签作分类："
   ]
  },
  {
   "cell_type": "code",
   "execution_count": 111,
   "metadata": {
    "ExecuteTime": {
     "end_time": "2020-03-09T10:14:39.990231Z",
     "start_time": "2020-03-09T10:14:39.963248Z"
    }
   },
   "outputs": [
    {
     "data": {
      "text/plain": [
       "0         幼儿|学前|\n",
       "1         幼儿|学前|\n",
       "2      幼儿|学前|学生|\n",
       "3      幼儿|学前|学生|\n",
       "4         幼儿|学前|\n",
       "         ...    \n",
       "283    幼儿|学前|学生|\n",
       "284       幼儿|学前|\n",
       "285       婴儿|幼儿|\n",
       "286    幼儿|学前|学生|\n",
       "287    幼儿|学前|学生|\n",
       "Name: 适用年龄, Length: 288, dtype: object"
      ]
     },
     "execution_count": 111,
     "metadata": {},
     "output_type": "execute_result"
    }
   ],
   "source": [
    "baby=['3个月','6个月', '12个月']\n",
    "little_child=['18个月','2岁','3岁']\n",
    "child=['4岁','5岁','6岁','7岁']\n",
    "\n",
    "# '幼儿|学前'\n",
    "def change(x):\n",
    "    a=''\n",
    "    for i in x:                    # 对age里面列表的年龄元素抽出来\n",
    "        if i in baby:              # 判断这个年龄元素是否属于baby范围\n",
    "            if '婴儿|' in a:       # 如果年龄元素属于baby，再判断字符串a是否已经打好了“婴儿|”这个标记\n",
    "                continue           # 如果“婴儿|”这个标签已经在字符串a里面，就跳过for循环一次，不再添加“婴儿|”\n",
    "            a+='婴儿|'              # 如果“婴儿|”这个标签还没在字符串a里面，就添加“婴儿|”进字符串a里面\n",
    "        elif i in little_child:\n",
    "            if \"幼儿|\" in a:\n",
    "                continue\n",
    "            a+='幼儿|'\n",
    "        elif i in child:\n",
    "            if \"学前|\" in a:\n",
    "                continue\n",
    "            a+='学前|'\n",
    "        else:\n",
    "            if \"学生|\" in a:\n",
    "                continue\n",
    "            a+='学生|'\n",
    "    return a\n",
    "\n",
    "\n",
    "age=age.apply(change)\n",
    "age"
   ]
  },
  {
   "cell_type": "markdown",
   "metadata": {},
   "source": [
    "## 年龄字段0-1编码"
   ]
  },
  {
   "cell_type": "code",
   "execution_count": 112,
   "metadata": {
    "ExecuteTime": {
     "end_time": "2020-03-09T10:15:02.554661Z",
     "start_time": "2020-03-09T10:15:02.531676Z"
    }
   },
   "outputs": [
    {
     "data": {
      "text/html": [
       "<div>\n",
       "<style scoped>\n",
       "    .dataframe tbody tr th:only-of-type {\n",
       "        vertical-align: middle;\n",
       "    }\n",
       "\n",
       "    .dataframe tbody tr th {\n",
       "        vertical-align: top;\n",
       "    }\n",
       "\n",
       "    .dataframe thead th {\n",
       "        text-align: right;\n",
       "    }\n",
       "</style>\n",
       "<table border=\"1\" class=\"dataframe\">\n",
       "  <thead>\n",
       "    <tr style=\"text-align: right;\">\n",
       "      <th></th>\n",
       "      <th>婴儿</th>\n",
       "      <th>学前</th>\n",
       "      <th>学生</th>\n",
       "      <th>幼儿</th>\n",
       "    </tr>\n",
       "  </thead>\n",
       "  <tbody>\n",
       "    <tr>\n",
       "      <td>0</td>\n",
       "      <td>0</td>\n",
       "      <td>1</td>\n",
       "      <td>0</td>\n",
       "      <td>1</td>\n",
       "    </tr>\n",
       "    <tr>\n",
       "      <td>1</td>\n",
       "      <td>0</td>\n",
       "      <td>1</td>\n",
       "      <td>0</td>\n",
       "      <td>1</td>\n",
       "    </tr>\n",
       "    <tr>\n",
       "      <td>2</td>\n",
       "      <td>0</td>\n",
       "      <td>1</td>\n",
       "      <td>1</td>\n",
       "      <td>1</td>\n",
       "    </tr>\n",
       "    <tr>\n",
       "      <td>3</td>\n",
       "      <td>0</td>\n",
       "      <td>1</td>\n",
       "      <td>1</td>\n",
       "      <td>1</td>\n",
       "    </tr>\n",
       "    <tr>\n",
       "      <td>4</td>\n",
       "      <td>0</td>\n",
       "      <td>1</td>\n",
       "      <td>0</td>\n",
       "      <td>1</td>\n",
       "    </tr>\n",
       "    <tr>\n",
       "      <td>...</td>\n",
       "      <td>...</td>\n",
       "      <td>...</td>\n",
       "      <td>...</td>\n",
       "      <td>...</td>\n",
       "    </tr>\n",
       "    <tr>\n",
       "      <td>283</td>\n",
       "      <td>0</td>\n",
       "      <td>1</td>\n",
       "      <td>1</td>\n",
       "      <td>1</td>\n",
       "    </tr>\n",
       "    <tr>\n",
       "      <td>284</td>\n",
       "      <td>0</td>\n",
       "      <td>1</td>\n",
       "      <td>0</td>\n",
       "      <td>1</td>\n",
       "    </tr>\n",
       "    <tr>\n",
       "      <td>285</td>\n",
       "      <td>1</td>\n",
       "      <td>0</td>\n",
       "      <td>0</td>\n",
       "      <td>1</td>\n",
       "    </tr>\n",
       "    <tr>\n",
       "      <td>286</td>\n",
       "      <td>0</td>\n",
       "      <td>1</td>\n",
       "      <td>1</td>\n",
       "      <td>1</td>\n",
       "    </tr>\n",
       "    <tr>\n",
       "      <td>287</td>\n",
       "      <td>0</td>\n",
       "      <td>1</td>\n",
       "      <td>1</td>\n",
       "      <td>1</td>\n",
       "    </tr>\n",
       "  </tbody>\n",
       "</table>\n",
       "<p>288 rows × 4 columns</p>\n",
       "</div>"
      ],
      "text/plain": [
       "     婴儿  学前  学生  幼儿\n",
       "0     0   1   0   1\n",
       "1     0   1   0   1\n",
       "2     0   1   1   1\n",
       "3     0   1   1   1\n",
       "4     0   1   0   1\n",
       "..   ..  ..  ..  ..\n",
       "283   0   1   1   1\n",
       "284   0   1   0   1\n",
       "285   1   0   0   1\n",
       "286   0   1   1   1\n",
       "287   0   1   1   1\n",
       "\n",
       "[288 rows x 4 columns]"
      ]
     },
     "execution_count": 112,
     "metadata": {},
     "output_type": "execute_result"
    }
   ],
   "source": [
    "age.str.get_dummies('|')"
   ]
  },
  {
   "cell_type": "code",
   "execution_count": 113,
   "metadata": {
    "ExecuteTime": {
     "end_time": "2020-03-09T10:16:53.452401Z",
     "start_time": "2020-03-09T10:16:53.441409Z"
    }
   },
   "outputs": [],
   "source": [
    "age=age.str.get_dummies('|')"
   ]
  },
  {
   "cell_type": "code",
   "execution_count": 114,
   "metadata": {
    "ExecuteTime": {
     "end_time": "2020-03-09T10:16:58.737119Z",
     "start_time": "2020-03-09T10:16:58.722132Z"
    }
   },
   "outputs": [
    {
     "data": {
      "text/html": [
       "<div>\n",
       "<style scoped>\n",
       "    .dataframe tbody tr th:only-of-type {\n",
       "        vertical-align: middle;\n",
       "    }\n",
       "\n",
       "    .dataframe tbody tr th {\n",
       "        vertical-align: top;\n",
       "    }\n",
       "\n",
       "    .dataframe thead th {\n",
       "        text-align: right;\n",
       "    }\n",
       "</style>\n",
       "<table border=\"1\" class=\"dataframe\">\n",
       "  <thead>\n",
       "    <tr style=\"text-align: right;\">\n",
       "      <th></th>\n",
       "      <th>婴儿</th>\n",
       "      <th>学前</th>\n",
       "      <th>学生</th>\n",
       "      <th>幼儿</th>\n",
       "    </tr>\n",
       "  </thead>\n",
       "  <tbody>\n",
       "    <tr>\n",
       "      <td>0</td>\n",
       "      <td>0</td>\n",
       "      <td>1</td>\n",
       "      <td>0</td>\n",
       "      <td>1</td>\n",
       "    </tr>\n",
       "    <tr>\n",
       "      <td>1</td>\n",
       "      <td>0</td>\n",
       "      <td>1</td>\n",
       "      <td>0</td>\n",
       "      <td>1</td>\n",
       "    </tr>\n",
       "    <tr>\n",
       "      <td>2</td>\n",
       "      <td>0</td>\n",
       "      <td>1</td>\n",
       "      <td>1</td>\n",
       "      <td>1</td>\n",
       "    </tr>\n",
       "    <tr>\n",
       "      <td>3</td>\n",
       "      <td>0</td>\n",
       "      <td>1</td>\n",
       "      <td>1</td>\n",
       "      <td>1</td>\n",
       "    </tr>\n",
       "    <tr>\n",
       "      <td>4</td>\n",
       "      <td>0</td>\n",
       "      <td>1</td>\n",
       "      <td>0</td>\n",
       "      <td>1</td>\n",
       "    </tr>\n",
       "    <tr>\n",
       "      <td>...</td>\n",
       "      <td>...</td>\n",
       "      <td>...</td>\n",
       "      <td>...</td>\n",
       "      <td>...</td>\n",
       "    </tr>\n",
       "    <tr>\n",
       "      <td>283</td>\n",
       "      <td>0</td>\n",
       "      <td>1</td>\n",
       "      <td>1</td>\n",
       "      <td>1</td>\n",
       "    </tr>\n",
       "    <tr>\n",
       "      <td>284</td>\n",
       "      <td>0</td>\n",
       "      <td>1</td>\n",
       "      <td>0</td>\n",
       "      <td>1</td>\n",
       "    </tr>\n",
       "    <tr>\n",
       "      <td>285</td>\n",
       "      <td>1</td>\n",
       "      <td>0</td>\n",
       "      <td>0</td>\n",
       "      <td>1</td>\n",
       "    </tr>\n",
       "    <tr>\n",
       "      <td>286</td>\n",
       "      <td>0</td>\n",
       "      <td>1</td>\n",
       "      <td>1</td>\n",
       "      <td>1</td>\n",
       "    </tr>\n",
       "    <tr>\n",
       "      <td>287</td>\n",
       "      <td>0</td>\n",
       "      <td>1</td>\n",
       "      <td>1</td>\n",
       "      <td>1</td>\n",
       "    </tr>\n",
       "  </tbody>\n",
       "</table>\n",
       "<p>288 rows × 4 columns</p>\n",
       "</div>"
      ],
      "text/plain": [
       "     婴儿  学前  学生  幼儿\n",
       "0     0   1   0   1\n",
       "1     0   1   0   1\n",
       "2     0   1   1   1\n",
       "3     0   1   1   1\n",
       "4     0   1   0   1\n",
       "..   ..  ..  ..  ..\n",
       "283   0   1   1   1\n",
       "284   0   1   0   1\n",
       "285   1   0   0   1\n",
       "286   0   1   1   1\n",
       "287   0   1   1   1\n",
       "\n",
       "[288 rows x 4 columns]"
      ]
     },
     "execution_count": 114,
     "metadata": {},
     "output_type": "execute_result"
    }
   ],
   "source": [
    "age"
   ]
  },
  {
   "cell_type": "code",
   "execution_count": 115,
   "metadata": {
    "ExecuteTime": {
     "end_time": "2020-03-09T10:22:22.910044Z",
     "start_time": "2020-03-09T10:22:22.890054Z"
    }
   },
   "outputs": [
    {
     "data": {
      "text/html": [
       "<div>\n",
       "<style scoped>\n",
       "    .dataframe tbody tr th:only-of-type {\n",
       "        vertical-align: middle;\n",
       "    }\n",
       "\n",
       "    .dataframe tbody tr th {\n",
       "        vertical-align: top;\n",
       "    }\n",
       "\n",
       "    .dataframe thead th {\n",
       "        text-align: right;\n",
       "    }\n",
       "</style>\n",
       "<table border=\"1\" class=\"dataframe\">\n",
       "  <thead>\n",
       "    <tr style=\"text-align: right;\">\n",
       "      <th></th>\n",
       "      <th>婴儿</th>\n",
       "      <th>幼儿</th>\n",
       "      <th>学前</th>\n",
       "      <th>学生</th>\n",
       "    </tr>\n",
       "  </thead>\n",
       "  <tbody>\n",
       "    <tr>\n",
       "      <td>0</td>\n",
       "      <td>0</td>\n",
       "      <td>1</td>\n",
       "      <td>1</td>\n",
       "      <td>0</td>\n",
       "    </tr>\n",
       "    <tr>\n",
       "      <td>1</td>\n",
       "      <td>0</td>\n",
       "      <td>1</td>\n",
       "      <td>1</td>\n",
       "      <td>0</td>\n",
       "    </tr>\n",
       "    <tr>\n",
       "      <td>2</td>\n",
       "      <td>0</td>\n",
       "      <td>1</td>\n",
       "      <td>1</td>\n",
       "      <td>1</td>\n",
       "    </tr>\n",
       "    <tr>\n",
       "      <td>3</td>\n",
       "      <td>0</td>\n",
       "      <td>1</td>\n",
       "      <td>1</td>\n",
       "      <td>1</td>\n",
       "    </tr>\n",
       "    <tr>\n",
       "      <td>4</td>\n",
       "      <td>0</td>\n",
       "      <td>1</td>\n",
       "      <td>1</td>\n",
       "      <td>0</td>\n",
       "    </tr>\n",
       "    <tr>\n",
       "      <td>...</td>\n",
       "      <td>...</td>\n",
       "      <td>...</td>\n",
       "      <td>...</td>\n",
       "      <td>...</td>\n",
       "    </tr>\n",
       "    <tr>\n",
       "      <td>283</td>\n",
       "      <td>0</td>\n",
       "      <td>1</td>\n",
       "      <td>1</td>\n",
       "      <td>1</td>\n",
       "    </tr>\n",
       "    <tr>\n",
       "      <td>284</td>\n",
       "      <td>0</td>\n",
       "      <td>1</td>\n",
       "      <td>1</td>\n",
       "      <td>0</td>\n",
       "    </tr>\n",
       "    <tr>\n",
       "      <td>285</td>\n",
       "      <td>1</td>\n",
       "      <td>1</td>\n",
       "      <td>0</td>\n",
       "      <td>0</td>\n",
       "    </tr>\n",
       "    <tr>\n",
       "      <td>286</td>\n",
       "      <td>0</td>\n",
       "      <td>1</td>\n",
       "      <td>1</td>\n",
       "      <td>1</td>\n",
       "    </tr>\n",
       "    <tr>\n",
       "      <td>287</td>\n",
       "      <td>0</td>\n",
       "      <td>1</td>\n",
       "      <td>1</td>\n",
       "      <td>1</td>\n",
       "    </tr>\n",
       "  </tbody>\n",
       "</table>\n",
       "<p>288 rows × 4 columns</p>\n",
       "</div>"
      ],
      "text/plain": [
       "     婴儿  幼儿  学前  学生\n",
       "0     0   1   1   0\n",
       "1     0   1   1   0\n",
       "2     0   1   1   1\n",
       "3     0   1   1   1\n",
       "4     0   1   1   0\n",
       "..   ..  ..  ..  ..\n",
       "283   0   1   1   1\n",
       "284   0   1   1   0\n",
       "285   1   1   0   0\n",
       "286   0   1   1   1\n",
       "287   0   1   1   1\n",
       "\n",
       "[288 rows x 4 columns]"
      ]
     },
     "execution_count": 115,
     "metadata": {},
     "output_type": "execute_result"
    }
   ],
   "source": [
    "age=age[['婴儿','幼儿','学前','学生']]\n",
    "\n",
    "age"
   ]
  },
  {
   "cell_type": "code",
   "execution_count": 116,
   "metadata": {
    "ExecuteTime": {
     "end_time": "2020-03-09T10:22:31.258727Z",
     "start_time": "2020-03-09T10:22:31.242739Z"
    }
   },
   "outputs": [
    {
     "data": {
      "text/html": [
       "<div>\n",
       "<style scoped>\n",
       "    .dataframe tbody tr th:only-of-type {\n",
       "        vertical-align: middle;\n",
       "    }\n",
       "\n",
       "    .dataframe tbody tr th {\n",
       "        vertical-align: top;\n",
       "    }\n",
       "\n",
       "    .dataframe thead th {\n",
       "        text-align: right;\n",
       "    }\n",
       "</style>\n",
       "<table border=\"1\" class=\"dataframe\">\n",
       "  <thead>\n",
       "    <tr style=\"text-align: right;\">\n",
       "      <th></th>\n",
       "      <th>年龄段_婴儿</th>\n",
       "      <th>年龄段_幼儿</th>\n",
       "      <th>年龄段_学前</th>\n",
       "      <th>年龄段_学生</th>\n",
       "    </tr>\n",
       "  </thead>\n",
       "  <tbody>\n",
       "    <tr>\n",
       "      <td>0</td>\n",
       "      <td>0</td>\n",
       "      <td>1</td>\n",
       "      <td>1</td>\n",
       "      <td>0</td>\n",
       "    </tr>\n",
       "    <tr>\n",
       "      <td>1</td>\n",
       "      <td>0</td>\n",
       "      <td>1</td>\n",
       "      <td>1</td>\n",
       "      <td>0</td>\n",
       "    </tr>\n",
       "    <tr>\n",
       "      <td>2</td>\n",
       "      <td>0</td>\n",
       "      <td>1</td>\n",
       "      <td>1</td>\n",
       "      <td>1</td>\n",
       "    </tr>\n",
       "    <tr>\n",
       "      <td>3</td>\n",
       "      <td>0</td>\n",
       "      <td>1</td>\n",
       "      <td>1</td>\n",
       "      <td>1</td>\n",
       "    </tr>\n",
       "    <tr>\n",
       "      <td>4</td>\n",
       "      <td>0</td>\n",
       "      <td>1</td>\n",
       "      <td>1</td>\n",
       "      <td>0</td>\n",
       "    </tr>\n",
       "    <tr>\n",
       "      <td>...</td>\n",
       "      <td>...</td>\n",
       "      <td>...</td>\n",
       "      <td>...</td>\n",
       "      <td>...</td>\n",
       "    </tr>\n",
       "    <tr>\n",
       "      <td>283</td>\n",
       "      <td>0</td>\n",
       "      <td>1</td>\n",
       "      <td>1</td>\n",
       "      <td>1</td>\n",
       "    </tr>\n",
       "    <tr>\n",
       "      <td>284</td>\n",
       "      <td>0</td>\n",
       "      <td>1</td>\n",
       "      <td>1</td>\n",
       "      <td>0</td>\n",
       "    </tr>\n",
       "    <tr>\n",
       "      <td>285</td>\n",
       "      <td>1</td>\n",
       "      <td>1</td>\n",
       "      <td>0</td>\n",
       "      <td>0</td>\n",
       "    </tr>\n",
       "    <tr>\n",
       "      <td>286</td>\n",
       "      <td>0</td>\n",
       "      <td>1</td>\n",
       "      <td>1</td>\n",
       "      <td>1</td>\n",
       "    </tr>\n",
       "    <tr>\n",
       "      <td>287</td>\n",
       "      <td>0</td>\n",
       "      <td>1</td>\n",
       "      <td>1</td>\n",
       "      <td>1</td>\n",
       "    </tr>\n",
       "  </tbody>\n",
       "</table>\n",
       "<p>288 rows × 4 columns</p>\n",
       "</div>"
      ],
      "text/plain": [
       "     年龄段_婴儿  年龄段_幼儿  年龄段_学前  年龄段_学生\n",
       "0         0       1       1       0\n",
       "1         0       1       1       0\n",
       "2         0       1       1       1\n",
       "3         0       1       1       1\n",
       "4         0       1       1       0\n",
       "..      ...     ...     ...     ...\n",
       "283       0       1       1       1\n",
       "284       0       1       1       0\n",
       "285       1       1       0       0\n",
       "286       0       1       1       1\n",
       "287       0       1       1       1\n",
       "\n",
       "[288 rows x 4 columns]"
      ]
     },
     "execution_count": 116,
     "metadata": {},
     "output_type": "execute_result"
    }
   ],
   "source": [
    "age.columns='年龄段_'+age.columns\n",
    "age"
   ]
  },
  {
   "cell_type": "markdown",
   "metadata": {},
   "source": [
    "# 品牌字段0-1编码"
   ]
  },
  {
   "cell_type": "code",
   "execution_count": 117,
   "metadata": {
    "ExecuteTime": {
     "end_time": "2020-03-09T10:22:45.981153Z",
     "start_time": "2020-03-09T10:22:45.960167Z"
    }
   },
   "outputs": [],
   "source": [
    "brand=item_detail.品牌.astype(str).str.get_dummies()"
   ]
  },
  {
   "cell_type": "code",
   "execution_count": 118,
   "metadata": {
    "ExecuteTime": {
     "end_time": "2020-03-09T10:22:47.911954Z",
     "start_time": "2020-03-09T10:22:47.886969Z"
    }
   },
   "outputs": [
    {
     "data": {
      "text/html": [
       "<div>\n",
       "<style scoped>\n",
       "    .dataframe tbody tr th:only-of-type {\n",
       "        vertical-align: middle;\n",
       "    }\n",
       "\n",
       "    .dataframe tbody tr th {\n",
       "        vertical-align: top;\n",
       "    }\n",
       "\n",
       "    .dataframe thead th {\n",
       "        text-align: right;\n",
       "    }\n",
       "</style>\n",
       "<table border=\"1\" class=\"dataframe\">\n",
       "  <thead>\n",
       "    <tr style=\"text-align: right;\">\n",
       "      <th></th>\n",
       "      <th>0</th>\n",
       "      <th>1</th>\n",
       "      <th>10</th>\n",
       "      <th>11</th>\n",
       "      <th>12</th>\n",
       "      <th>13</th>\n",
       "      <th>14</th>\n",
       "      <th>15</th>\n",
       "      <th>16</th>\n",
       "      <th>17</th>\n",
       "      <th>...</th>\n",
       "      <th>20</th>\n",
       "      <th>21</th>\n",
       "      <th>22</th>\n",
       "      <th>3</th>\n",
       "      <th>4</th>\n",
       "      <th>5</th>\n",
       "      <th>6</th>\n",
       "      <th>7</th>\n",
       "      <th>8</th>\n",
       "      <th>9</th>\n",
       "    </tr>\n",
       "  </thead>\n",
       "  <tbody>\n",
       "    <tr>\n",
       "      <td>0</td>\n",
       "      <td>0</td>\n",
       "      <td>0</td>\n",
       "      <td>0</td>\n",
       "      <td>0</td>\n",
       "      <td>0</td>\n",
       "      <td>0</td>\n",
       "      <td>0</td>\n",
       "      <td>0</td>\n",
       "      <td>0</td>\n",
       "      <td>0</td>\n",
       "      <td>...</td>\n",
       "      <td>0</td>\n",
       "      <td>0</td>\n",
       "      <td>0</td>\n",
       "      <td>1</td>\n",
       "      <td>0</td>\n",
       "      <td>0</td>\n",
       "      <td>0</td>\n",
       "      <td>0</td>\n",
       "      <td>0</td>\n",
       "      <td>0</td>\n",
       "    </tr>\n",
       "    <tr>\n",
       "      <td>1</td>\n",
       "      <td>0</td>\n",
       "      <td>0</td>\n",
       "      <td>0</td>\n",
       "      <td>0</td>\n",
       "      <td>0</td>\n",
       "      <td>0</td>\n",
       "      <td>0</td>\n",
       "      <td>0</td>\n",
       "      <td>0</td>\n",
       "      <td>0</td>\n",
       "      <td>...</td>\n",
       "      <td>0</td>\n",
       "      <td>0</td>\n",
       "      <td>0</td>\n",
       "      <td>1</td>\n",
       "      <td>0</td>\n",
       "      <td>0</td>\n",
       "      <td>0</td>\n",
       "      <td>0</td>\n",
       "      <td>0</td>\n",
       "      <td>0</td>\n",
       "    </tr>\n",
       "    <tr>\n",
       "      <td>2</td>\n",
       "      <td>0</td>\n",
       "      <td>0</td>\n",
       "      <td>0</td>\n",
       "      <td>0</td>\n",
       "      <td>0</td>\n",
       "      <td>0</td>\n",
       "      <td>0</td>\n",
       "      <td>0</td>\n",
       "      <td>0</td>\n",
       "      <td>0</td>\n",
       "      <td>...</td>\n",
       "      <td>0</td>\n",
       "      <td>0</td>\n",
       "      <td>0</td>\n",
       "      <td>1</td>\n",
       "      <td>0</td>\n",
       "      <td>0</td>\n",
       "      <td>0</td>\n",
       "      <td>0</td>\n",
       "      <td>0</td>\n",
       "      <td>0</td>\n",
       "    </tr>\n",
       "    <tr>\n",
       "      <td>3</td>\n",
       "      <td>0</td>\n",
       "      <td>0</td>\n",
       "      <td>0</td>\n",
       "      <td>0</td>\n",
       "      <td>0</td>\n",
       "      <td>0</td>\n",
       "      <td>0</td>\n",
       "      <td>0</td>\n",
       "      <td>0</td>\n",
       "      <td>0</td>\n",
       "      <td>...</td>\n",
       "      <td>0</td>\n",
       "      <td>0</td>\n",
       "      <td>0</td>\n",
       "      <td>1</td>\n",
       "      <td>0</td>\n",
       "      <td>0</td>\n",
       "      <td>0</td>\n",
       "      <td>0</td>\n",
       "      <td>0</td>\n",
       "      <td>0</td>\n",
       "    </tr>\n",
       "    <tr>\n",
       "      <td>4</td>\n",
       "      <td>0</td>\n",
       "      <td>0</td>\n",
       "      <td>0</td>\n",
       "      <td>0</td>\n",
       "      <td>0</td>\n",
       "      <td>0</td>\n",
       "      <td>0</td>\n",
       "      <td>0</td>\n",
       "      <td>0</td>\n",
       "      <td>0</td>\n",
       "      <td>...</td>\n",
       "      <td>0</td>\n",
       "      <td>0</td>\n",
       "      <td>0</td>\n",
       "      <td>1</td>\n",
       "      <td>0</td>\n",
       "      <td>0</td>\n",
       "      <td>0</td>\n",
       "      <td>0</td>\n",
       "      <td>0</td>\n",
       "      <td>0</td>\n",
       "    </tr>\n",
       "  </tbody>\n",
       "</table>\n",
       "<p>5 rows × 23 columns</p>\n",
       "</div>"
      ],
      "text/plain": [
       "   0  1  10  11  12  13  14  15  16  17  ...  20  21  22  3  4  5  6  7  8  9\n",
       "0  0  0   0   0   0   0   0   0   0   0  ...   0   0   0  1  0  0  0  0  0  0\n",
       "1  0  0   0   0   0   0   0   0   0   0  ...   0   0   0  1  0  0  0  0  0  0\n",
       "2  0  0   0   0   0   0   0   0   0   0  ...   0   0   0  1  0  0  0  0  0  0\n",
       "3  0  0   0   0   0   0   0   0   0   0  ...   0   0   0  1  0  0  0  0  0  0\n",
       "4  0  0   0   0   0   0   0   0   0   0  ...   0   0   0  1  0  0  0  0  0  0\n",
       "\n",
       "[5 rows x 23 columns]"
      ]
     },
     "execution_count": 118,
     "metadata": {},
     "output_type": "execute_result"
    }
   ],
   "source": [
    "brand.head()"
   ]
  },
  {
   "cell_type": "code",
   "execution_count": 119,
   "metadata": {
    "ExecuteTime": {
     "end_time": "2020-03-09T10:22:51.186919Z",
     "start_time": "2020-03-09T10:22:51.154942Z"
    }
   },
   "outputs": [
    {
     "data": {
      "text/html": [
       "<div>\n",
       "<style scoped>\n",
       "    .dataframe tbody tr th:only-of-type {\n",
       "        vertical-align: middle;\n",
       "    }\n",
       "\n",
       "    .dataframe tbody tr th {\n",
       "        vertical-align: top;\n",
       "    }\n",
       "\n",
       "    .dataframe thead th {\n",
       "        text-align: right;\n",
       "    }\n",
       "</style>\n",
       "<table border=\"1\" class=\"dataframe\">\n",
       "  <thead>\n",
       "    <tr style=\"text-align: right;\">\n",
       "      <th></th>\n",
       "      <th>品牌_0</th>\n",
       "      <th>品牌_1</th>\n",
       "      <th>品牌_10</th>\n",
       "      <th>品牌_11</th>\n",
       "      <th>品牌_12</th>\n",
       "      <th>品牌_13</th>\n",
       "      <th>品牌_14</th>\n",
       "      <th>品牌_15</th>\n",
       "      <th>品牌_16</th>\n",
       "      <th>品牌_17</th>\n",
       "      <th>...</th>\n",
       "      <th>品牌_20</th>\n",
       "      <th>品牌_21</th>\n",
       "      <th>品牌_22</th>\n",
       "      <th>品牌_3</th>\n",
       "      <th>品牌_4</th>\n",
       "      <th>品牌_5</th>\n",
       "      <th>品牌_6</th>\n",
       "      <th>品牌_7</th>\n",
       "      <th>品牌_8</th>\n",
       "      <th>品牌_9</th>\n",
       "    </tr>\n",
       "  </thead>\n",
       "  <tbody>\n",
       "    <tr>\n",
       "      <td>0</td>\n",
       "      <td>0</td>\n",
       "      <td>0</td>\n",
       "      <td>0</td>\n",
       "      <td>0</td>\n",
       "      <td>0</td>\n",
       "      <td>0</td>\n",
       "      <td>0</td>\n",
       "      <td>0</td>\n",
       "      <td>0</td>\n",
       "      <td>0</td>\n",
       "      <td>...</td>\n",
       "      <td>0</td>\n",
       "      <td>0</td>\n",
       "      <td>0</td>\n",
       "      <td>1</td>\n",
       "      <td>0</td>\n",
       "      <td>0</td>\n",
       "      <td>0</td>\n",
       "      <td>0</td>\n",
       "      <td>0</td>\n",
       "      <td>0</td>\n",
       "    </tr>\n",
       "    <tr>\n",
       "      <td>1</td>\n",
       "      <td>0</td>\n",
       "      <td>0</td>\n",
       "      <td>0</td>\n",
       "      <td>0</td>\n",
       "      <td>0</td>\n",
       "      <td>0</td>\n",
       "      <td>0</td>\n",
       "      <td>0</td>\n",
       "      <td>0</td>\n",
       "      <td>0</td>\n",
       "      <td>...</td>\n",
       "      <td>0</td>\n",
       "      <td>0</td>\n",
       "      <td>0</td>\n",
       "      <td>1</td>\n",
       "      <td>0</td>\n",
       "      <td>0</td>\n",
       "      <td>0</td>\n",
       "      <td>0</td>\n",
       "      <td>0</td>\n",
       "      <td>0</td>\n",
       "    </tr>\n",
       "    <tr>\n",
       "      <td>2</td>\n",
       "      <td>0</td>\n",
       "      <td>0</td>\n",
       "      <td>0</td>\n",
       "      <td>0</td>\n",
       "      <td>0</td>\n",
       "      <td>0</td>\n",
       "      <td>0</td>\n",
       "      <td>0</td>\n",
       "      <td>0</td>\n",
       "      <td>0</td>\n",
       "      <td>...</td>\n",
       "      <td>0</td>\n",
       "      <td>0</td>\n",
       "      <td>0</td>\n",
       "      <td>1</td>\n",
       "      <td>0</td>\n",
       "      <td>0</td>\n",
       "      <td>0</td>\n",
       "      <td>0</td>\n",
       "      <td>0</td>\n",
       "      <td>0</td>\n",
       "    </tr>\n",
       "    <tr>\n",
       "      <td>3</td>\n",
       "      <td>0</td>\n",
       "      <td>0</td>\n",
       "      <td>0</td>\n",
       "      <td>0</td>\n",
       "      <td>0</td>\n",
       "      <td>0</td>\n",
       "      <td>0</td>\n",
       "      <td>0</td>\n",
       "      <td>0</td>\n",
       "      <td>0</td>\n",
       "      <td>...</td>\n",
       "      <td>0</td>\n",
       "      <td>0</td>\n",
       "      <td>0</td>\n",
       "      <td>1</td>\n",
       "      <td>0</td>\n",
       "      <td>0</td>\n",
       "      <td>0</td>\n",
       "      <td>0</td>\n",
       "      <td>0</td>\n",
       "      <td>0</td>\n",
       "    </tr>\n",
       "    <tr>\n",
       "      <td>4</td>\n",
       "      <td>0</td>\n",
       "      <td>0</td>\n",
       "      <td>0</td>\n",
       "      <td>0</td>\n",
       "      <td>0</td>\n",
       "      <td>0</td>\n",
       "      <td>0</td>\n",
       "      <td>0</td>\n",
       "      <td>0</td>\n",
       "      <td>0</td>\n",
       "      <td>...</td>\n",
       "      <td>0</td>\n",
       "      <td>0</td>\n",
       "      <td>0</td>\n",
       "      <td>1</td>\n",
       "      <td>0</td>\n",
       "      <td>0</td>\n",
       "      <td>0</td>\n",
       "      <td>0</td>\n",
       "      <td>0</td>\n",
       "      <td>0</td>\n",
       "    </tr>\n",
       "  </tbody>\n",
       "</table>\n",
       "<p>5 rows × 23 columns</p>\n",
       "</div>"
      ],
      "text/plain": [
       "   品牌_0  品牌_1  品牌_10  品牌_11  品牌_12  品牌_13  品牌_14  品牌_15  品牌_16  品牌_17  ...  \\\n",
       "0     0     0      0      0      0      0      0      0      0      0  ...   \n",
       "1     0     0      0      0      0      0      0      0      0      0  ...   \n",
       "2     0     0      0      0      0      0      0      0      0      0  ...   \n",
       "3     0     0      0      0      0      0      0      0      0      0  ...   \n",
       "4     0     0      0      0      0      0      0      0      0      0  ...   \n",
       "\n",
       "   品牌_20  品牌_21  品牌_22  品牌_3  品牌_4  品牌_5  品牌_6  品牌_7  品牌_8  品牌_9  \n",
       "0      0      0      0     1     0     0     0     0     0     0  \n",
       "1      0      0      0     1     0     0     0     0     0     0  \n",
       "2      0      0      0     1     0     0     0     0     0     0  \n",
       "3      0      0      0     1     0     0     0     0     0     0  \n",
       "4      0      0      0     1     0     0     0     0     0     0  \n",
       "\n",
       "[5 rows x 23 columns]"
      ]
     },
     "execution_count": 119,
     "metadata": {},
     "output_type": "execute_result"
    }
   ],
   "source": [
    "brand.columns='品牌_'+brand.columns\n",
    "brand.head()"
   ]
  },
  {
   "cell_type": "markdown",
   "metadata": {},
   "source": [
    "# 合并订单表"
   ]
  },
  {
   "cell_type": "markdown",
   "metadata": {},
   "source": [
    "## 商品明细表+年龄01+品牌01"
   ]
  },
  {
   "cell_type": "code",
   "execution_count": 121,
   "metadata": {
    "ExecuteTime": {
     "end_time": "2020-03-09T10:23:18.965259Z",
     "start_time": "2020-03-09T10:23:18.948270Z"
    }
   },
   "outputs": [
    {
     "data": {
      "text/html": [
       "<div>\n",
       "<style scoped>\n",
       "    .dataframe tbody tr th:only-of-type {\n",
       "        vertical-align: middle;\n",
       "    }\n",
       "\n",
       "    .dataframe tbody tr th {\n",
       "        vertical-align: top;\n",
       "    }\n",
       "\n",
       "    .dataframe thead th {\n",
       "        text-align: right;\n",
       "    }\n",
       "</style>\n",
       "<table border=\"1\" class=\"dataframe\">\n",
       "  <thead>\n",
       "    <tr style=\"text-align: right;\">\n",
       "      <th></th>\n",
       "      <th>宝贝ID</th>\n",
       "      <th>标题</th>\n",
       "      <th>价格</th>\n",
       "      <th>玩具类型</th>\n",
       "      <th>适用年龄</th>\n",
       "      <th>品牌</th>\n",
       "    </tr>\n",
       "  </thead>\n",
       "  <tbody>\n",
       "    <tr>\n",
       "      <td>0</td>\n",
       "      <td>537396783238</td>\n",
       "      <td>创意新款回力小车惯性坦克 军事儿童玩具模型地摊货源玩具车批发</td>\n",
       "      <td>8.9</td>\n",
       "      <td>塑胶玩具</td>\n",
       "      <td>3岁,4岁,5岁,6岁</td>\n",
       "      <td>3</td>\n",
       "    </tr>\n",
       "    <tr>\n",
       "      <td>1</td>\n",
       "      <td>36286235128</td>\n",
       "      <td>2017热卖大号仿真惯性挖土机儿童益智礼品创意义乌地摊货玩具批发</td>\n",
       "      <td>3.9</td>\n",
       "      <td>其它玩具</td>\n",
       "      <td>3岁,4岁,5岁,6岁</td>\n",
       "      <td>3</td>\n",
       "    </tr>\n",
       "  </tbody>\n",
       "</table>\n",
       "</div>"
      ],
      "text/plain": [
       "           宝贝ID                                标题   价格  玩具类型         适用年龄  品牌\n",
       "0  537396783238    创意新款回力小车惯性坦克 军事儿童玩具模型地摊货源玩具车批发  8.9  塑胶玩具  3岁,4岁,5岁,6岁   3\n",
       "1   36286235128  2017热卖大号仿真惯性挖土机儿童益智礼品创意义乌地摊货玩具批发  3.9  其它玩具  3岁,4岁,5岁,6岁   3"
      ]
     },
     "execution_count": 121,
     "metadata": {},
     "output_type": "execute_result"
    }
   ],
   "source": [
    "item_detail.head(2)"
   ]
  },
  {
   "cell_type": "markdown",
   "metadata": {},
   "source": [
    "删除转码前的字段："
   ]
  },
  {
   "cell_type": "code",
   "execution_count": 122,
   "metadata": {
    "ExecuteTime": {
     "end_time": "2020-03-09T10:26:05.313583Z",
     "start_time": "2020-03-09T10:26:05.304589Z"
    }
   },
   "outputs": [],
   "source": [
    "item_detail.drop(['玩具类型','适用年龄','品牌'],axis=1,inplace=True)"
   ]
  },
  {
   "cell_type": "code",
   "execution_count": 123,
   "metadata": {
    "ExecuteTime": {
     "end_time": "2020-03-09T10:26:08.713496Z",
     "start_time": "2020-03-09T10:26:08.698508Z"
    }
   },
   "outputs": [
    {
     "data": {
      "text/html": [
       "<div>\n",
       "<style scoped>\n",
       "    .dataframe tbody tr th:only-of-type {\n",
       "        vertical-align: middle;\n",
       "    }\n",
       "\n",
       "    .dataframe tbody tr th {\n",
       "        vertical-align: top;\n",
       "    }\n",
       "\n",
       "    .dataframe thead th {\n",
       "        text-align: right;\n",
       "    }\n",
       "</style>\n",
       "<table border=\"1\" class=\"dataframe\">\n",
       "  <thead>\n",
       "    <tr style=\"text-align: right;\">\n",
       "      <th></th>\n",
       "      <th>宝贝ID</th>\n",
       "      <th>标题</th>\n",
       "      <th>价格</th>\n",
       "    </tr>\n",
       "  </thead>\n",
       "  <tbody>\n",
       "    <tr>\n",
       "      <td>0</td>\n",
       "      <td>537396783238</td>\n",
       "      <td>创意新款回力小车惯性坦克 军事儿童玩具模型地摊货源玩具车批发</td>\n",
       "      <td>8.9</td>\n",
       "    </tr>\n",
       "    <tr>\n",
       "      <td>1</td>\n",
       "      <td>36286235128</td>\n",
       "      <td>2017热卖大号仿真惯性挖土机儿童益智礼品创意义乌地摊货玩具批发</td>\n",
       "      <td>3.9</td>\n",
       "    </tr>\n",
       "  </tbody>\n",
       "</table>\n",
       "</div>"
      ],
      "text/plain": [
       "           宝贝ID                                标题   价格\n",
       "0  537396783238    创意新款回力小车惯性坦克 军事儿童玩具模型地摊货源玩具车批发  8.9\n",
       "1   36286235128  2017热卖大号仿真惯性挖土机儿童益智礼品创意义乌地摊货玩具批发  3.9"
      ]
     },
     "execution_count": 123,
     "metadata": {},
     "output_type": "execute_result"
    }
   ],
   "source": [
    "item_detail.head(2)"
   ]
  },
  {
   "cell_type": "markdown",
   "metadata": {},
   "source": [
    "把上面删除完多余字段的表与前面转码完成后的表横向合并："
   ]
  },
  {
   "cell_type": "code",
   "execution_count": 124,
   "metadata": {
    "ExecuteTime": {
     "end_time": "2020-03-09T10:27:53.028115Z",
     "start_time": "2020-03-09T10:27:52.994138Z"
    }
   },
   "outputs": [
    {
     "data": {
      "text/html": [
       "<div>\n",
       "<style scoped>\n",
       "    .dataframe tbody tr th:only-of-type {\n",
       "        vertical-align: middle;\n",
       "    }\n",
       "\n",
       "    .dataframe tbody tr th {\n",
       "        vertical-align: top;\n",
       "    }\n",
       "\n",
       "    .dataframe thead th {\n",
       "        text-align: right;\n",
       "    }\n",
       "</style>\n",
       "<table border=\"1\" class=\"dataframe\">\n",
       "  <thead>\n",
       "    <tr style=\"text-align: right;\">\n",
       "      <th></th>\n",
       "      <th>宝贝ID</th>\n",
       "      <th>标题</th>\n",
       "      <th>价格</th>\n",
       "      <th>年龄段_婴儿</th>\n",
       "      <th>年龄段_幼儿</th>\n",
       "      <th>年龄段_学前</th>\n",
       "      <th>年龄段_学生</th>\n",
       "      <th>品牌_0</th>\n",
       "      <th>品牌_1</th>\n",
       "      <th>品牌_10</th>\n",
       "      <th>...</th>\n",
       "      <th>品牌_20</th>\n",
       "      <th>品牌_21</th>\n",
       "      <th>品牌_22</th>\n",
       "      <th>品牌_3</th>\n",
       "      <th>品牌_4</th>\n",
       "      <th>品牌_5</th>\n",
       "      <th>品牌_6</th>\n",
       "      <th>品牌_7</th>\n",
       "      <th>品牌_8</th>\n",
       "      <th>品牌_9</th>\n",
       "    </tr>\n",
       "  </thead>\n",
       "  <tbody>\n",
       "    <tr>\n",
       "      <td>0</td>\n",
       "      <td>537396783238</td>\n",
       "      <td>创意新款回力小车惯性坦克 军事儿童玩具模型地摊货源玩具车批发</td>\n",
       "      <td>8.90</td>\n",
       "      <td>0</td>\n",
       "      <td>1</td>\n",
       "      <td>1</td>\n",
       "      <td>0</td>\n",
       "      <td>0</td>\n",
       "      <td>0</td>\n",
       "      <td>0</td>\n",
       "      <td>...</td>\n",
       "      <td>0</td>\n",
       "      <td>0</td>\n",
       "      <td>0</td>\n",
       "      <td>1</td>\n",
       "      <td>0</td>\n",
       "      <td>0</td>\n",
       "      <td>0</td>\n",
       "      <td>0</td>\n",
       "      <td>0</td>\n",
       "      <td>0</td>\n",
       "    </tr>\n",
       "    <tr>\n",
       "      <td>1</td>\n",
       "      <td>36286235128</td>\n",
       "      <td>2017热卖大号仿真惯性挖土机儿童益智礼品创意义乌地摊货玩具批发</td>\n",
       "      <td>3.90</td>\n",
       "      <td>0</td>\n",
       "      <td>1</td>\n",
       "      <td>1</td>\n",
       "      <td>0</td>\n",
       "      <td>0</td>\n",
       "      <td>0</td>\n",
       "      <td>0</td>\n",
       "      <td>...</td>\n",
       "      <td>0</td>\n",
       "      <td>0</td>\n",
       "      <td>0</td>\n",
       "      <td>1</td>\n",
       "      <td>0</td>\n",
       "      <td>0</td>\n",
       "      <td>0</td>\n",
       "      <td>0</td>\n",
       "      <td>0</td>\n",
       "      <td>0</td>\n",
       "    </tr>\n",
       "    <tr>\n",
       "      <td>2</td>\n",
       "      <td>35722000205</td>\n",
       "      <td>创意发光球闪光透明发光水晶弹力球儿童小玩具 夜市地摊货源批发</td>\n",
       "      <td>1.65</td>\n",
       "      <td>0</td>\n",
       "      <td>1</td>\n",
       "      <td>1</td>\n",
       "      <td>1</td>\n",
       "      <td>0</td>\n",
       "      <td>0</td>\n",
       "      <td>0</td>\n",
       "      <td>...</td>\n",
       "      <td>0</td>\n",
       "      <td>0</td>\n",
       "      <td>0</td>\n",
       "      <td>1</td>\n",
       "      <td>0</td>\n",
       "      <td>0</td>\n",
       "      <td>0</td>\n",
       "      <td>0</td>\n",
       "      <td>0</td>\n",
       "      <td>0</td>\n",
       "    </tr>\n",
       "    <tr>\n",
       "      <td>3</td>\n",
       "      <td>550659732532</td>\n",
       "      <td>新款创意六一儿童节礼物音乐投影电动枪夜市地摊货源批发男孩玩具</td>\n",
       "      <td>9.90</td>\n",
       "      <td>0</td>\n",
       "      <td>1</td>\n",
       "      <td>1</td>\n",
       "      <td>1</td>\n",
       "      <td>0</td>\n",
       "      <td>0</td>\n",
       "      <td>0</td>\n",
       "      <td>...</td>\n",
       "      <td>0</td>\n",
       "      <td>0</td>\n",
       "      <td>0</td>\n",
       "      <td>1</td>\n",
       "      <td>0</td>\n",
       "      <td>0</td>\n",
       "      <td>0</td>\n",
       "      <td>0</td>\n",
       "      <td>0</td>\n",
       "      <td>0</td>\n",
       "    </tr>\n",
       "    <tr>\n",
       "      <td>4</td>\n",
       "      <td>531877266868</td>\n",
       "      <td>发条玩具批发上链卡通动物青蛙儿童礼物宝宝玩具经典80后益智地摊</td>\n",
       "      <td>1.85</td>\n",
       "      <td>0</td>\n",
       "      <td>1</td>\n",
       "      <td>1</td>\n",
       "      <td>0</td>\n",
       "      <td>0</td>\n",
       "      <td>0</td>\n",
       "      <td>0</td>\n",
       "      <td>...</td>\n",
       "      <td>0</td>\n",
       "      <td>0</td>\n",
       "      <td>0</td>\n",
       "      <td>1</td>\n",
       "      <td>0</td>\n",
       "      <td>0</td>\n",
       "      <td>0</td>\n",
       "      <td>0</td>\n",
       "      <td>0</td>\n",
       "      <td>0</td>\n",
       "    </tr>\n",
       "  </tbody>\n",
       "</table>\n",
       "<p>5 rows × 30 columns</p>\n",
       "</div>"
      ],
      "text/plain": [
       "           宝贝ID                                标题    价格  年龄段_婴儿  年龄段_幼儿  \\\n",
       "0  537396783238    创意新款回力小车惯性坦克 军事儿童玩具模型地摊货源玩具车批发  8.90       0       1   \n",
       "1   36286235128  2017热卖大号仿真惯性挖土机儿童益智礼品创意义乌地摊货玩具批发  3.90       0       1   \n",
       "2   35722000205    创意发光球闪光透明发光水晶弹力球儿童小玩具 夜市地摊货源批发  1.65       0       1   \n",
       "3  550659732532    新款创意六一儿童节礼物音乐投影电动枪夜市地摊货源批发男孩玩具  9.90       0       1   \n",
       "4  531877266868   发条玩具批发上链卡通动物青蛙儿童礼物宝宝玩具经典80后益智地摊  1.85       0       1   \n",
       "\n",
       "   年龄段_学前  年龄段_学生  品牌_0  品牌_1  品牌_10  ...  品牌_20  品牌_21  品牌_22  品牌_3  品牌_4  \\\n",
       "0       1       0     0     0      0  ...      0      0      0     1     0   \n",
       "1       1       0     0     0      0  ...      0      0      0     1     0   \n",
       "2       1       1     0     0      0  ...      0      0      0     1     0   \n",
       "3       1       1     0     0      0  ...      0      0      0     1     0   \n",
       "4       1       0     0     0      0  ...      0      0      0     1     0   \n",
       "\n",
       "   品牌_5  品牌_6  品牌_7  品牌_8  品牌_9  \n",
       "0     0     0     0     0     0  \n",
       "1     0     0     0     0     0  \n",
       "2     0     0     0     0     0  \n",
       "3     0     0     0     0     0  \n",
       "4     0     0     0     0     0  \n",
       "\n",
       "[5 rows x 30 columns]"
      ]
     },
     "execution_count": 124,
     "metadata": {},
     "output_type": "execute_result"
    }
   ],
   "source": [
    "item_detail=pd.concat([item_detail,age,brand],axis=1)\n",
    "item_detail.head()"
   ]
  },
  {
   "cell_type": "markdown",
   "metadata": {},
   "source": [
    "## 保留有订单的商品明细表"
   ]
  },
  {
   "cell_type": "code",
   "execution_count": 125,
   "metadata": {
    "ExecuteTime": {
     "end_time": "2020-03-09T10:29:24.475955Z",
     "start_time": "2020-03-09T10:29:24.466962Z"
    }
   },
   "outputs": [
    {
     "data": {
      "text/plain": [
       "Index(['订单编号', '标题', '价格', '购买数量'], dtype='object')"
      ]
     },
     "execution_count": 125,
     "metadata": {},
     "output_type": "execute_result"
    }
   ],
   "source": [
    "order_detail.columns"
   ]
  },
  {
   "cell_type": "code",
   "execution_count": 129,
   "metadata": {
    "ExecuteTime": {
     "end_time": "2020-03-09T14:00:24.530205Z",
     "start_time": "2020-03-09T14:00:24.521213Z"
    }
   },
   "outputs": [
    {
     "data": {
      "text/plain": [
       "Index(['宝贝ID', '标题', '价格', '年龄段_婴儿', '年龄段_幼儿', '年龄段_学前', '年龄段_学生', '品牌_0',\n",
       "       '品牌_1', '品牌_10', '品牌_11', '品牌_12', '品牌_13', '品牌_14', '品牌_15', '品牌_16',\n",
       "       '品牌_17', '品牌_18', '品牌_19', '品牌_2', '品牌_20', '品牌_21', '品牌_22', '品牌_3',\n",
       "       '品牌_4', '品牌_5', '品牌_6', '品牌_7', '品牌_8', '品牌_9'],\n",
       "      dtype='object')"
      ]
     },
     "execution_count": 129,
     "metadata": {},
     "output_type": "execute_result"
    }
   ],
   "source": [
    "item_detail.columns"
   ]
  },
  {
   "cell_type": "code",
   "execution_count": 130,
   "metadata": {
    "ExecuteTime": {
     "end_time": "2020-03-09T14:00:26.674144Z",
     "start_time": "2020-03-09T14:00:26.618178Z"
    }
   },
   "outputs": [
    {
     "data": {
      "text/html": [
       "<div>\n",
       "<style scoped>\n",
       "    .dataframe tbody tr th:only-of-type {\n",
       "        vertical-align: middle;\n",
       "    }\n",
       "\n",
       "    .dataframe tbody tr th {\n",
       "        vertical-align: top;\n",
       "    }\n",
       "\n",
       "    .dataframe thead th {\n",
       "        text-align: right;\n",
       "    }\n",
       "</style>\n",
       "<table border=\"1\" class=\"dataframe\">\n",
       "  <thead>\n",
       "    <tr style=\"text-align: right;\">\n",
       "      <th></th>\n",
       "      <th>订单编号</th>\n",
       "      <th>标题</th>\n",
       "      <th>价格_x</th>\n",
       "      <th>购买数量</th>\n",
       "      <th>宝贝ID</th>\n",
       "      <th>价格_y</th>\n",
       "      <th>年龄段_婴儿</th>\n",
       "      <th>年龄段_幼儿</th>\n",
       "      <th>年龄段_学前</th>\n",
       "      <th>年龄段_学生</th>\n",
       "      <th>...</th>\n",
       "      <th>品牌_20</th>\n",
       "      <th>品牌_21</th>\n",
       "      <th>品牌_22</th>\n",
       "      <th>品牌_3</th>\n",
       "      <th>品牌_4</th>\n",
       "      <th>品牌_5</th>\n",
       "      <th>品牌_6</th>\n",
       "      <th>品牌_7</th>\n",
       "      <th>品牌_8</th>\n",
       "      <th>品牌_9</th>\n",
       "    </tr>\n",
       "  </thead>\n",
       "  <tbody>\n",
       "    <tr>\n",
       "      <td>0</td>\n",
       "      <td>21407300627014900</td>\n",
       "      <td>发光玩具批发光纤手指灯闪光夜市热卖货源儿童玩具地摊义乌厂家</td>\n",
       "      <td>0.58</td>\n",
       "      <td>12</td>\n",
       "      <td>530449665002</td>\n",
       "      <td>0.58</td>\n",
       "      <td>0</td>\n",
       "      <td>1</td>\n",
       "      <td>1</td>\n",
       "      <td>1</td>\n",
       "      <td>...</td>\n",
       "      <td>0</td>\n",
       "      <td>0</td>\n",
       "      <td>0</td>\n",
       "      <td>1</td>\n",
       "      <td>0</td>\n",
       "      <td>0</td>\n",
       "      <td>0</td>\n",
       "      <td>0</td>\n",
       "      <td>0</td>\n",
       "      <td>0</td>\n",
       "    </tr>\n",
       "    <tr>\n",
       "      <td>1</td>\n",
       "      <td>24043728806509300</td>\n",
       "      <td>发光玩具批发光纤手指灯闪光夜市热卖货源儿童玩具地摊义乌厂家</td>\n",
       "      <td>0.58</td>\n",
       "      <td>1</td>\n",
       "      <td>530449665002</td>\n",
       "      <td>0.58</td>\n",
       "      <td>0</td>\n",
       "      <td>1</td>\n",
       "      <td>1</td>\n",
       "      <td>1</td>\n",
       "      <td>...</td>\n",
       "      <td>0</td>\n",
       "      <td>0</td>\n",
       "      <td>0</td>\n",
       "      <td>1</td>\n",
       "      <td>0</td>\n",
       "      <td>0</td>\n",
       "      <td>0</td>\n",
       "      <td>0</td>\n",
       "      <td>0</td>\n",
       "      <td>0</td>\n",
       "    </tr>\n",
       "    <tr>\n",
       "      <td>2</td>\n",
       "      <td>24043728806509300</td>\n",
       "      <td>发光玩具批发光纤手指灯闪光夜市热卖货源儿童玩具地摊义乌厂家</td>\n",
       "      <td>0.68</td>\n",
       "      <td>1</td>\n",
       "      <td>530449665002</td>\n",
       "      <td>0.58</td>\n",
       "      <td>0</td>\n",
       "      <td>1</td>\n",
       "      <td>1</td>\n",
       "      <td>1</td>\n",
       "      <td>...</td>\n",
       "      <td>0</td>\n",
       "      <td>0</td>\n",
       "      <td>0</td>\n",
       "      <td>1</td>\n",
       "      <td>0</td>\n",
       "      <td>0</td>\n",
       "      <td>0</td>\n",
       "      <td>0</td>\n",
       "      <td>0</td>\n",
       "      <td>0</td>\n",
       "    </tr>\n",
       "    <tr>\n",
       "      <td>3</td>\n",
       "      <td>20885882368182100</td>\n",
       "      <td>发光玩具批发光纤手指灯闪光夜市热卖货源儿童玩具地摊义乌厂家</td>\n",
       "      <td>0.68</td>\n",
       "      <td>50</td>\n",
       "      <td>530449665002</td>\n",
       "      <td>0.58</td>\n",
       "      <td>0</td>\n",
       "      <td>1</td>\n",
       "      <td>1</td>\n",
       "      <td>1</td>\n",
       "      <td>...</td>\n",
       "      <td>0</td>\n",
       "      <td>0</td>\n",
       "      <td>0</td>\n",
       "      <td>1</td>\n",
       "      <td>0</td>\n",
       "      <td>0</td>\n",
       "      <td>0</td>\n",
       "      <td>0</td>\n",
       "      <td>0</td>\n",
       "      <td>0</td>\n",
       "    </tr>\n",
       "    <tr>\n",
       "      <td>4</td>\n",
       "      <td>20885882368182100</td>\n",
       "      <td>发光玩具批发光纤手指灯闪光夜市热卖货源儿童玩具地摊义乌厂家</td>\n",
       "      <td>0.58</td>\n",
       "      <td>50</td>\n",
       "      <td>530449665002</td>\n",
       "      <td>0.58</td>\n",
       "      <td>0</td>\n",
       "      <td>1</td>\n",
       "      <td>1</td>\n",
       "      <td>1</td>\n",
       "      <td>...</td>\n",
       "      <td>0</td>\n",
       "      <td>0</td>\n",
       "      <td>0</td>\n",
       "      <td>1</td>\n",
       "      <td>0</td>\n",
       "      <td>0</td>\n",
       "      <td>0</td>\n",
       "      <td>0</td>\n",
       "      <td>0</td>\n",
       "      <td>0</td>\n",
       "    </tr>\n",
       "  </tbody>\n",
       "</table>\n",
       "<p>5 rows × 33 columns</p>\n",
       "</div>"
      ],
      "text/plain": [
       "                订单编号                             标题  价格_x  购买数量          宝贝ID  \\\n",
       "0  21407300627014900  发光玩具批发光纤手指灯闪光夜市热卖货源儿童玩具地摊义乌厂家  0.58    12  530449665002   \n",
       "1  24043728806509300  发光玩具批发光纤手指灯闪光夜市热卖货源儿童玩具地摊义乌厂家  0.58     1  530449665002   \n",
       "2  24043728806509300  发光玩具批发光纤手指灯闪光夜市热卖货源儿童玩具地摊义乌厂家  0.68     1  530449665002   \n",
       "3  20885882368182100  发光玩具批发光纤手指灯闪光夜市热卖货源儿童玩具地摊义乌厂家  0.68    50  530449665002   \n",
       "4  20885882368182100  发光玩具批发光纤手指灯闪光夜市热卖货源儿童玩具地摊义乌厂家  0.58    50  530449665002   \n",
       "\n",
       "   价格_y  年龄段_婴儿  年龄段_幼儿  年龄段_学前  年龄段_学生  ...  品牌_20  品牌_21  品牌_22  品牌_3  品牌_4  \\\n",
       "0  0.58       0       1       1       1  ...      0      0      0     1     0   \n",
       "1  0.58       0       1       1       1  ...      0      0      0     1     0   \n",
       "2  0.58       0       1       1       1  ...      0      0      0     1     0   \n",
       "3  0.58       0       1       1       1  ...      0      0      0     1     0   \n",
       "4  0.58       0       1       1       1  ...      0      0      0     1     0   \n",
       "\n",
       "   品牌_5  品牌_6  品牌_7  品牌_8  品牌_9  \n",
       "0     0     0     0     0     0  \n",
       "1     0     0     0     0     0  \n",
       "2     0     0     0     0     0  \n",
       "3     0     0     0     0     0  \n",
       "4     0     0     0     0     0  \n",
       "\n",
       "[5 rows x 33 columns]"
      ]
     },
     "execution_count": 130,
     "metadata": {},
     "output_type": "execute_result"
    }
   ],
   "source": [
    "# merge合并；融合；归并\n",
    "# 订单表和商品详情表合并\n",
    "# 订单信息和被哪些年龄段人买了及该订单标题商品属于哪个品牌分类\n",
    "# 存在订单表数据，则一定有商品详细信息，但有商品详细信息不一定有订单数据\n",
    "# inner则只保留两者都存在的信息，去除商品详细信息没购买记录的\n",
    "\n",
    "table_01=pd.merge(order_detail,item_detail,on='标题',how='inner')\n",
    "table_01.head()"
   ]
  },
  {
   "cell_type": "code",
   "execution_count": 131,
   "metadata": {
    "ExecuteTime": {
     "end_time": "2020-03-09T14:00:32.809876Z",
     "start_time": "2020-03-09T14:00:32.801884Z"
    }
   },
   "outputs": [
    {
     "data": {
      "text/plain": [
       "(19943, 33)"
      ]
     },
     "execution_count": 131,
     "metadata": {},
     "output_type": "execute_result"
    }
   ],
   "source": [
    "table_01.shape"
   ]
  },
  {
   "cell_type": "code",
   "execution_count": 132,
   "metadata": {
    "ExecuteTime": {
     "end_time": "2020-03-09T14:01:40.703838Z",
     "start_time": "2020-03-09T14:01:40.400025Z"
    }
   },
   "outputs": [
    {
     "data": {
      "text/plain": [
       "(17999, 33)"
      ]
     },
     "execution_count": 132,
     "metadata": {},
     "output_type": "execute_result"
    }
   ],
   "source": [
    "# 订单表及商品明细表去重处理\n",
    "# duplicates重复；复制；双折；使成双\n",
    "\n",
    "table_01.drop_duplicates().shape"
   ]
  },
  {
   "cell_type": "code",
   "execution_count": 133,
   "metadata": {
    "ExecuteTime": {
     "end_time": "2020-03-09T14:01:44.234012Z",
     "start_time": "2020-03-09T14:01:44.179048Z"
    }
   },
   "outputs": [],
   "source": [
    "table_01=table_01.drop_duplicates()"
   ]
  },
  {
   "cell_type": "markdown",
   "metadata": {},
   "source": [
    "删除重复多余的字段："
   ]
  },
  {
   "cell_type": "code",
   "execution_count": 134,
   "metadata": {
    "ExecuteTime": {
     "end_time": "2020-03-09T14:01:47.760254Z",
     "start_time": "2020-03-09T14:01:47.750260Z"
    }
   },
   "outputs": [],
   "source": [
    "table_01.drop('价格_y',axis=1,inplace=True)"
   ]
  },
  {
   "cell_type": "code",
   "execution_count": 135,
   "metadata": {
    "ExecuteTime": {
     "end_time": "2020-03-09T14:01:52.389624Z",
     "start_time": "2020-03-09T14:01:52.344652Z"
    }
   },
   "outputs": [
    {
     "data": {
      "text/html": [
       "<div>\n",
       "<style scoped>\n",
       "    .dataframe tbody tr th:only-of-type {\n",
       "        vertical-align: middle;\n",
       "    }\n",
       "\n",
       "    .dataframe tbody tr th {\n",
       "        vertical-align: top;\n",
       "    }\n",
       "\n",
       "    .dataframe thead th {\n",
       "        text-align: right;\n",
       "    }\n",
       "</style>\n",
       "<table border=\"1\" class=\"dataframe\">\n",
       "  <thead>\n",
       "    <tr style=\"text-align: right;\">\n",
       "      <th></th>\n",
       "      <th>订单编号</th>\n",
       "      <th>标题</th>\n",
       "      <th>价格</th>\n",
       "      <th>购买数量</th>\n",
       "      <th>宝贝ID</th>\n",
       "      <th>年龄段_婴儿</th>\n",
       "      <th>年龄段_幼儿</th>\n",
       "      <th>年龄段_学前</th>\n",
       "      <th>年龄段_学生</th>\n",
       "      <th>品牌_0</th>\n",
       "      <th>...</th>\n",
       "      <th>品牌_20</th>\n",
       "      <th>品牌_21</th>\n",
       "      <th>品牌_22</th>\n",
       "      <th>品牌_3</th>\n",
       "      <th>品牌_4</th>\n",
       "      <th>品牌_5</th>\n",
       "      <th>品牌_6</th>\n",
       "      <th>品牌_7</th>\n",
       "      <th>品牌_8</th>\n",
       "      <th>品牌_9</th>\n",
       "    </tr>\n",
       "  </thead>\n",
       "  <tbody>\n",
       "    <tr>\n",
       "      <td>0</td>\n",
       "      <td>21407300627014900</td>\n",
       "      <td>发光玩具批发光纤手指灯闪光夜市热卖货源儿童玩具地摊义乌厂家</td>\n",
       "      <td>0.58</td>\n",
       "      <td>12</td>\n",
       "      <td>530449665002</td>\n",
       "      <td>0</td>\n",
       "      <td>1</td>\n",
       "      <td>1</td>\n",
       "      <td>1</td>\n",
       "      <td>0</td>\n",
       "      <td>...</td>\n",
       "      <td>0</td>\n",
       "      <td>0</td>\n",
       "      <td>0</td>\n",
       "      <td>1</td>\n",
       "      <td>0</td>\n",
       "      <td>0</td>\n",
       "      <td>0</td>\n",
       "      <td>0</td>\n",
       "      <td>0</td>\n",
       "      <td>0</td>\n",
       "    </tr>\n",
       "    <tr>\n",
       "      <td>1</td>\n",
       "      <td>24043728806509300</td>\n",
       "      <td>发光玩具批发光纤手指灯闪光夜市热卖货源儿童玩具地摊义乌厂家</td>\n",
       "      <td>0.58</td>\n",
       "      <td>1</td>\n",
       "      <td>530449665002</td>\n",
       "      <td>0</td>\n",
       "      <td>1</td>\n",
       "      <td>1</td>\n",
       "      <td>1</td>\n",
       "      <td>0</td>\n",
       "      <td>...</td>\n",
       "      <td>0</td>\n",
       "      <td>0</td>\n",
       "      <td>0</td>\n",
       "      <td>1</td>\n",
       "      <td>0</td>\n",
       "      <td>0</td>\n",
       "      <td>0</td>\n",
       "      <td>0</td>\n",
       "      <td>0</td>\n",
       "      <td>0</td>\n",
       "    </tr>\n",
       "    <tr>\n",
       "      <td>2</td>\n",
       "      <td>24043728806509300</td>\n",
       "      <td>发光玩具批发光纤手指灯闪光夜市热卖货源儿童玩具地摊义乌厂家</td>\n",
       "      <td>0.68</td>\n",
       "      <td>1</td>\n",
       "      <td>530449665002</td>\n",
       "      <td>0</td>\n",
       "      <td>1</td>\n",
       "      <td>1</td>\n",
       "      <td>1</td>\n",
       "      <td>0</td>\n",
       "      <td>...</td>\n",
       "      <td>0</td>\n",
       "      <td>0</td>\n",
       "      <td>0</td>\n",
       "      <td>1</td>\n",
       "      <td>0</td>\n",
       "      <td>0</td>\n",
       "      <td>0</td>\n",
       "      <td>0</td>\n",
       "      <td>0</td>\n",
       "      <td>0</td>\n",
       "    </tr>\n",
       "    <tr>\n",
       "      <td>3</td>\n",
       "      <td>20885882368182100</td>\n",
       "      <td>发光玩具批发光纤手指灯闪光夜市热卖货源儿童玩具地摊义乌厂家</td>\n",
       "      <td>0.68</td>\n",
       "      <td>50</td>\n",
       "      <td>530449665002</td>\n",
       "      <td>0</td>\n",
       "      <td>1</td>\n",
       "      <td>1</td>\n",
       "      <td>1</td>\n",
       "      <td>0</td>\n",
       "      <td>...</td>\n",
       "      <td>0</td>\n",
       "      <td>0</td>\n",
       "      <td>0</td>\n",
       "      <td>1</td>\n",
       "      <td>0</td>\n",
       "      <td>0</td>\n",
       "      <td>0</td>\n",
       "      <td>0</td>\n",
       "      <td>0</td>\n",
       "      <td>0</td>\n",
       "    </tr>\n",
       "    <tr>\n",
       "      <td>4</td>\n",
       "      <td>20885882368182100</td>\n",
       "      <td>发光玩具批发光纤手指灯闪光夜市热卖货源儿童玩具地摊义乌厂家</td>\n",
       "      <td>0.58</td>\n",
       "      <td>50</td>\n",
       "      <td>530449665002</td>\n",
       "      <td>0</td>\n",
       "      <td>1</td>\n",
       "      <td>1</td>\n",
       "      <td>1</td>\n",
       "      <td>0</td>\n",
       "      <td>...</td>\n",
       "      <td>0</td>\n",
       "      <td>0</td>\n",
       "      <td>0</td>\n",
       "      <td>1</td>\n",
       "      <td>0</td>\n",
       "      <td>0</td>\n",
       "      <td>0</td>\n",
       "      <td>0</td>\n",
       "      <td>0</td>\n",
       "      <td>0</td>\n",
       "    </tr>\n",
       "  </tbody>\n",
       "</table>\n",
       "<p>5 rows × 32 columns</p>\n",
       "</div>"
      ],
      "text/plain": [
       "                订单编号                             标题    价格  购买数量          宝贝ID  \\\n",
       "0  21407300627014900  发光玩具批发光纤手指灯闪光夜市热卖货源儿童玩具地摊义乌厂家  0.58    12  530449665002   \n",
       "1  24043728806509300  发光玩具批发光纤手指灯闪光夜市热卖货源儿童玩具地摊义乌厂家  0.58     1  530449665002   \n",
       "2  24043728806509300  发光玩具批发光纤手指灯闪光夜市热卖货源儿童玩具地摊义乌厂家  0.68     1  530449665002   \n",
       "3  20885882368182100  发光玩具批发光纤手指灯闪光夜市热卖货源儿童玩具地摊义乌厂家  0.68    50  530449665002   \n",
       "4  20885882368182100  发光玩具批发光纤手指灯闪光夜市热卖货源儿童玩具地摊义乌厂家  0.58    50  530449665002   \n",
       "\n",
       "   年龄段_婴儿  年龄段_幼儿  年龄段_学前  年龄段_学生  品牌_0  ...  品牌_20  品牌_21  品牌_22  品牌_3  品牌_4  \\\n",
       "0       0       1       1       1     0  ...      0      0      0     1     0   \n",
       "1       0       1       1       1     0  ...      0      0      0     1     0   \n",
       "2       0       1       1       1     0  ...      0      0      0     1     0   \n",
       "3       0       1       1       1     0  ...      0      0      0     1     0   \n",
       "4       0       1       1       1     0  ...      0      0      0     1     0   \n",
       "\n",
       "   品牌_5  品牌_6  品牌_7  品牌_8  品牌_9  \n",
       "0     0     0     0     0     0  \n",
       "1     0     0     0     0     0  \n",
       "2     0     0     0     0     0  \n",
       "3     0     0     0     0     0  \n",
       "4     0     0     0     0     0  \n",
       "\n",
       "[5 rows x 32 columns]"
      ]
     },
     "execution_count": 135,
     "metadata": {},
     "output_type": "execute_result"
    }
   ],
   "source": [
    "table_01=table_01.rename(columns={'价格_x':'价格'})\n",
    "table_01.head()"
   ]
  },
  {
   "cell_type": "markdown",
   "metadata": {},
   "source": [
    "## 订单商品明细表连接\n",
    "\n",
    "订单表order存有所有的订单编号（不重复），table_01表的订单编号（有重复，同一个订单号购买多类商品导致）"
   ]
  },
  {
   "cell_type": "code",
   "execution_count": 136,
   "metadata": {
    "ExecuteTime": {
     "end_time": "2020-03-09T14:06:15.735822Z",
     "start_time": "2020-03-09T14:06:15.726830Z"
    }
   },
   "outputs": [
    {
     "data": {
      "text/plain": [
       "Index(['订单编号', '买家会员名', '买家应付货款', '买家应付邮费', '买家支付积分', '总金额', '返点积分',\n",
       "       '买家实际支付金额', '买家实际支付积分', '订单状态',\n",
       "       ...\n",
       "       '宝贝种类_46', '宝贝种类_47', '宝贝种类_48', '宝贝种类_49', '宝贝种类_5', '宝贝种类_50',\n",
       "       '宝贝种类_6', '宝贝种类_7', '宝贝种类_8', '宝贝种类_9'],\n",
       "      dtype='object', length=107)"
      ]
     },
     "execution_count": 136,
     "metadata": {},
     "output_type": "execute_result"
    }
   ],
   "source": [
    "order.columns"
   ]
  },
  {
   "cell_type": "code",
   "execution_count": 137,
   "metadata": {
    "ExecuteTime": {
     "end_time": "2020-03-09T14:06:26.635827Z",
     "start_time": "2020-03-09T14:06:26.627836Z"
    }
   },
   "outputs": [
    {
     "data": {
      "text/plain": [
       "Index(['订单编号', '标题', '价格', '购买数量', '宝贝ID', '年龄段_婴儿', '年龄段_幼儿', '年龄段_学前',\n",
       "       '年龄段_学生', '品牌_0', '品牌_1', '品牌_10', '品牌_11', '品牌_12', '品牌_13', '品牌_14',\n",
       "       '品牌_15', '品牌_16', '品牌_17', '品牌_18', '品牌_19', '品牌_2', '品牌_20', '品牌_21',\n",
       "       '品牌_22', '品牌_3', '品牌_4', '品牌_5', '品牌_6', '品牌_7', '品牌_8', '品牌_9'],\n",
       "      dtype='object')"
      ]
     },
     "execution_count": 137,
     "metadata": {},
     "output_type": "execute_result"
    }
   ],
   "source": [
    "table_01.columns"
   ]
  },
  {
   "cell_type": "code",
   "execution_count": 138,
   "metadata": {
    "ExecuteTime": {
     "end_time": "2020-03-09T14:51:22.914048Z",
     "start_time": "2020-03-09T14:51:22.732163Z"
    }
   },
   "outputs": [
    {
     "data": {
      "text/plain": [
       "(17999, 138)"
      ]
     },
     "execution_count": 138,
     "metadata": {},
     "output_type": "execute_result"
    }
   ],
   "source": [
    "order_tag=pd.merge(table_01,order,on='订单编号',how='left')\n",
    "order_tag.shape"
   ]
  },
  {
   "cell_type": "code",
   "execution_count": 140,
   "metadata": {
    "ExecuteTime": {
     "end_time": "2020-03-09T14:51:47.678913Z",
     "start_time": "2020-03-09T14:51:47.649931Z"
    }
   },
   "outputs": [
    {
     "data": {
      "text/html": [
       "<div>\n",
       "<style scoped>\n",
       "    .dataframe tbody tr th:only-of-type {\n",
       "        vertical-align: middle;\n",
       "    }\n",
       "\n",
       "    .dataframe tbody tr th {\n",
       "        vertical-align: top;\n",
       "    }\n",
       "\n",
       "    .dataframe thead th {\n",
       "        text-align: right;\n",
       "    }\n",
       "</style>\n",
       "<table border=\"1\" class=\"dataframe\">\n",
       "  <thead>\n",
       "    <tr style=\"text-align: right;\">\n",
       "      <th></th>\n",
       "      <th>订单编号</th>\n",
       "      <th>标题</th>\n",
       "      <th>价格</th>\n",
       "      <th>购买数量</th>\n",
       "      <th>宝贝ID</th>\n",
       "      <th>年龄段_婴儿</th>\n",
       "      <th>年龄段_幼儿</th>\n",
       "      <th>年龄段_学前</th>\n",
       "      <th>年龄段_学生</th>\n",
       "      <th>品牌_0</th>\n",
       "      <th>...</th>\n",
       "      <th>宝贝种类_46</th>\n",
       "      <th>宝贝种类_47</th>\n",
       "      <th>宝贝种类_48</th>\n",
       "      <th>宝贝种类_49</th>\n",
       "      <th>宝贝种类_5</th>\n",
       "      <th>宝贝种类_50</th>\n",
       "      <th>宝贝种类_6</th>\n",
       "      <th>宝贝种类_7</th>\n",
       "      <th>宝贝种类_8</th>\n",
       "      <th>宝贝种类_9</th>\n",
       "    </tr>\n",
       "  </thead>\n",
       "  <tbody>\n",
       "    <tr>\n",
       "      <td>0</td>\n",
       "      <td>21407300627014900</td>\n",
       "      <td>发光玩具批发光纤手指灯闪光夜市热卖货源儿童玩具地摊义乌厂家</td>\n",
       "      <td>0.58</td>\n",
       "      <td>12</td>\n",
       "      <td>530449665002</td>\n",
       "      <td>0</td>\n",
       "      <td>1</td>\n",
       "      <td>1</td>\n",
       "      <td>1</td>\n",
       "      <td>0</td>\n",
       "      <td>...</td>\n",
       "      <td>0</td>\n",
       "      <td>0</td>\n",
       "      <td>0</td>\n",
       "      <td>0</td>\n",
       "      <td>1</td>\n",
       "      <td>0</td>\n",
       "      <td>0</td>\n",
       "      <td>0</td>\n",
       "      <td>0</td>\n",
       "      <td>0</td>\n",
       "    </tr>\n",
       "    <tr>\n",
       "      <td>1</td>\n",
       "      <td>24043728806509300</td>\n",
       "      <td>发光玩具批发光纤手指灯闪光夜市热卖货源儿童玩具地摊义乌厂家</td>\n",
       "      <td>0.58</td>\n",
       "      <td>1</td>\n",
       "      <td>530449665002</td>\n",
       "      <td>0</td>\n",
       "      <td>1</td>\n",
       "      <td>1</td>\n",
       "      <td>1</td>\n",
       "      <td>0</td>\n",
       "      <td>...</td>\n",
       "      <td>0</td>\n",
       "      <td>0</td>\n",
       "      <td>0</td>\n",
       "      <td>0</td>\n",
       "      <td>0</td>\n",
       "      <td>0</td>\n",
       "      <td>0</td>\n",
       "      <td>0</td>\n",
       "      <td>0</td>\n",
       "      <td>0</td>\n",
       "    </tr>\n",
       "  </tbody>\n",
       "</table>\n",
       "<p>2 rows × 138 columns</p>\n",
       "</div>"
      ],
      "text/plain": [
       "                订单编号                             标题    价格  购买数量          宝贝ID  \\\n",
       "0  21407300627014900  发光玩具批发光纤手指灯闪光夜市热卖货源儿童玩具地摊义乌厂家  0.58    12  530449665002   \n",
       "1  24043728806509300  发光玩具批发光纤手指灯闪光夜市热卖货源儿童玩具地摊义乌厂家  0.58     1  530449665002   \n",
       "\n",
       "   年龄段_婴儿  年龄段_幼儿  年龄段_学前  年龄段_学生  品牌_0  ...  宝贝种类_46  宝贝种类_47  宝贝种类_48  \\\n",
       "0       0       1       1       1     0  ...        0        0        0   \n",
       "1       0       1       1       1     0  ...        0        0        0   \n",
       "\n",
       "   宝贝种类_49  宝贝种类_5  宝贝种类_50  宝贝种类_6  宝贝种类_7  宝贝种类_8  宝贝种类_9  \n",
       "0        0       1        0       0       0       0       0  \n",
       "1        0       0        0       0       0       0       0  \n",
       "\n",
       "[2 rows x 138 columns]"
      ]
     },
     "execution_count": 140,
     "metadata": {},
     "output_type": "execute_result"
    }
   ],
   "source": [
    "order_tag.head(2)"
   ]
  },
  {
   "cell_type": "code",
   "execution_count": 143,
   "metadata": {
    "ExecuteTime": {
     "end_time": "2020-03-09T14:52:23.947581Z",
     "start_time": "2020-03-09T14:52:23.880626Z"
    }
   },
   "outputs": [
    {
     "data": {
      "text/plain": [
       "133"
      ]
     },
     "execution_count": 143,
     "metadata": {},
     "output_type": "execute_result"
    }
   ],
   "source": [
    "len(order_tag.isnull().sum()[order_tag.isnull().sum()==0].index)"
   ]
  },
  {
   "cell_type": "code",
   "execution_count": 139,
   "metadata": {
    "ExecuteTime": {
     "end_time": "2020-03-09T14:51:29.553908Z",
     "start_time": "2020-03-09T14:51:29.441982Z"
    }
   },
   "outputs": [
    {
     "data": {
      "text/plain": [
       "联系手机          7\n",
       "物流单号          1\n",
       "物流公司          1\n",
       "订单备注      15307\n",
       "是否手机订单     1101\n",
       "dtype: int64"
      ]
     },
     "execution_count": 139,
     "metadata": {},
     "output_type": "execute_result"
    }
   ],
   "source": [
    "# order_tag.isnull().sum()[order_tag_02.isnull().sum()!=0]\n",
    "order_tag.isnull().sum()[order_tag.isnull().sum()!=0]"
   ]
  },
  {
   "cell_type": "code",
   "execution_count": 144,
   "metadata": {
    "ExecuteTime": {
     "end_time": "2020-03-09T14:52:58.672759Z",
     "start_time": "2020-03-09T14:52:58.629787Z"
    }
   },
   "outputs": [
    {
     "data": {
      "text/html": [
       "<div>\n",
       "<style scoped>\n",
       "    .dataframe tbody tr th:only-of-type {\n",
       "        vertical-align: middle;\n",
       "    }\n",
       "\n",
       "    .dataframe tbody tr th {\n",
       "        vertical-align: top;\n",
       "    }\n",
       "\n",
       "    .dataframe thead th {\n",
       "        text-align: right;\n",
       "    }\n",
       "</style>\n",
       "<table border=\"1\" class=\"dataframe\">\n",
       "  <thead>\n",
       "    <tr style=\"text-align: right;\">\n",
       "      <th></th>\n",
       "      <th>价格</th>\n",
       "      <th>购买数量</th>\n",
       "      <th>年龄段_婴儿</th>\n",
       "      <th>年龄段_幼儿</th>\n",
       "      <th>年龄段_学前</th>\n",
       "      <th>年龄段_学生</th>\n",
       "      <th>品牌_0</th>\n",
       "      <th>品牌_1</th>\n",
       "      <th>品牌_10</th>\n",
       "      <th>品牌_11</th>\n",
       "      <th>...</th>\n",
       "      <th>宝贝种类_46</th>\n",
       "      <th>宝贝种类_47</th>\n",
       "      <th>宝贝种类_48</th>\n",
       "      <th>宝贝种类_49</th>\n",
       "      <th>宝贝种类_5</th>\n",
       "      <th>宝贝种类_50</th>\n",
       "      <th>宝贝种类_6</th>\n",
       "      <th>宝贝种类_7</th>\n",
       "      <th>宝贝种类_8</th>\n",
       "      <th>宝贝种类_9</th>\n",
       "    </tr>\n",
       "  </thead>\n",
       "  <tbody>\n",
       "    <tr>\n",
       "      <td>0</td>\n",
       "      <td>0.58</td>\n",
       "      <td>12</td>\n",
       "      <td>0</td>\n",
       "      <td>1</td>\n",
       "      <td>1</td>\n",
       "      <td>1</td>\n",
       "      <td>0</td>\n",
       "      <td>0</td>\n",
       "      <td>0</td>\n",
       "      <td>0</td>\n",
       "      <td>...</td>\n",
       "      <td>0</td>\n",
       "      <td>0</td>\n",
       "      <td>0</td>\n",
       "      <td>0</td>\n",
       "      <td>1</td>\n",
       "      <td>0</td>\n",
       "      <td>0</td>\n",
       "      <td>0</td>\n",
       "      <td>0</td>\n",
       "      <td>0</td>\n",
       "    </tr>\n",
       "    <tr>\n",
       "      <td>1</td>\n",
       "      <td>0.58</td>\n",
       "      <td>1</td>\n",
       "      <td>0</td>\n",
       "      <td>1</td>\n",
       "      <td>1</td>\n",
       "      <td>1</td>\n",
       "      <td>0</td>\n",
       "      <td>0</td>\n",
       "      <td>0</td>\n",
       "      <td>0</td>\n",
       "      <td>...</td>\n",
       "      <td>0</td>\n",
       "      <td>0</td>\n",
       "      <td>0</td>\n",
       "      <td>0</td>\n",
       "      <td>0</td>\n",
       "      <td>0</td>\n",
       "      <td>0</td>\n",
       "      <td>0</td>\n",
       "      <td>0</td>\n",
       "      <td>0</td>\n",
       "    </tr>\n",
       "    <tr>\n",
       "      <td>2</td>\n",
       "      <td>0.68</td>\n",
       "      <td>1</td>\n",
       "      <td>0</td>\n",
       "      <td>1</td>\n",
       "      <td>1</td>\n",
       "      <td>1</td>\n",
       "      <td>0</td>\n",
       "      <td>0</td>\n",
       "      <td>0</td>\n",
       "      <td>0</td>\n",
       "      <td>...</td>\n",
       "      <td>0</td>\n",
       "      <td>0</td>\n",
       "      <td>0</td>\n",
       "      <td>0</td>\n",
       "      <td>0</td>\n",
       "      <td>0</td>\n",
       "      <td>0</td>\n",
       "      <td>0</td>\n",
       "      <td>0</td>\n",
       "      <td>0</td>\n",
       "    </tr>\n",
       "    <tr>\n",
       "      <td>3</td>\n",
       "      <td>0.68</td>\n",
       "      <td>50</td>\n",
       "      <td>0</td>\n",
       "      <td>1</td>\n",
       "      <td>1</td>\n",
       "      <td>1</td>\n",
       "      <td>0</td>\n",
       "      <td>0</td>\n",
       "      <td>0</td>\n",
       "      <td>0</td>\n",
       "      <td>...</td>\n",
       "      <td>0</td>\n",
       "      <td>0</td>\n",
       "      <td>0</td>\n",
       "      <td>0</td>\n",
       "      <td>0</td>\n",
       "      <td>0</td>\n",
       "      <td>0</td>\n",
       "      <td>0</td>\n",
       "      <td>0</td>\n",
       "      <td>0</td>\n",
       "    </tr>\n",
       "    <tr>\n",
       "      <td>4</td>\n",
       "      <td>0.58</td>\n",
       "      <td>50</td>\n",
       "      <td>0</td>\n",
       "      <td>1</td>\n",
       "      <td>1</td>\n",
       "      <td>1</td>\n",
       "      <td>0</td>\n",
       "      <td>0</td>\n",
       "      <td>0</td>\n",
       "      <td>0</td>\n",
       "      <td>...</td>\n",
       "      <td>0</td>\n",
       "      <td>0</td>\n",
       "      <td>0</td>\n",
       "      <td>0</td>\n",
       "      <td>0</td>\n",
       "      <td>0</td>\n",
       "      <td>0</td>\n",
       "      <td>0</td>\n",
       "      <td>0</td>\n",
       "      <td>0</td>\n",
       "    </tr>\n",
       "  </tbody>\n",
       "</table>\n",
       "<p>5 rows × 134 columns</p>\n",
       "</div>"
      ],
      "text/plain": [
       "     价格  购买数量  年龄段_婴儿  年龄段_幼儿  年龄段_学前  年龄段_学生  品牌_0  品牌_1  品牌_10  品牌_11  ...  \\\n",
       "0  0.58    12       0       1       1       1     0     0      0      0  ...   \n",
       "1  0.58     1       0       1       1       1     0     0      0      0  ...   \n",
       "2  0.68     1       0       1       1       1     0     0      0      0  ...   \n",
       "3  0.68    50       0       1       1       1     0     0      0      0  ...   \n",
       "4  0.58    50       0       1       1       1     0     0      0      0  ...   \n",
       "\n",
       "   宝贝种类_46  宝贝种类_47  宝贝种类_48  宝贝种类_49  宝贝种类_5  宝贝种类_50  宝贝种类_6  宝贝种类_7  \\\n",
       "0        0        0        0        0       1        0       0       0   \n",
       "1        0        0        0        0       0        0       0       0   \n",
       "2        0        0        0        0       0        0       0       0   \n",
       "3        0        0        0        0       0        0       0       0   \n",
       "4        0        0        0        0       0        0       0       0   \n",
       "\n",
       "   宝贝种类_8  宝贝种类_9  \n",
       "0       0       0  \n",
       "1       0       0  \n",
       "2       0       0  \n",
       "3       0       0  \n",
       "4       0       0  \n",
       "\n",
       "[5 rows x 134 columns]"
      ]
     },
     "execution_count": 144,
     "metadata": {},
     "output_type": "execute_result"
    }
   ],
   "source": [
    "order_tag.drop(['订单编号','标题','宝贝ID','宝贝标题 '],axis=1,inplace=True)\n",
    "order_tag.head()"
   ]
  },
  {
   "cell_type": "code",
   "execution_count": 56,
   "metadata": {
    "ExecuteTime": {
     "end_time": "2020-03-08T06:33:51.359480Z",
     "start_time": "2020-03-08T06:33:51.349485Z"
    }
   },
   "outputs": [
    {
     "data": {
      "text/plain": [
       "Index(['价格', '购买数量', '年龄段_婴儿', '年龄段_幼儿', '年龄段_学前', '年龄段_学生', '品牌_0', '品牌_1',\n",
       "       '品牌_10', '品牌_11',\n",
       "       ...\n",
       "       '宝贝种类_46', '宝贝种类_47', '宝贝种类_48', '宝贝种类_49', '宝贝种类_5', '宝贝种类_50',\n",
       "       '宝贝种类_6', '宝贝种类_7', '宝贝种类_8', '宝贝种类_9'],\n",
       "      dtype='object', length=110)"
      ]
     },
     "execution_count": 56,
     "metadata": {},
     "output_type": "execute_result"
    }
   ],
   "source": [
    "order_tag.columns"
   ]
  },
  {
   "cell_type": "code",
   "execution_count": 145,
   "metadata": {
    "ExecuteTime": {
     "end_time": "2020-03-09T14:53:13.822579Z",
     "start_time": "2020-03-09T14:53:13.590721Z"
    }
   },
   "outputs": [
    {
     "data": {
      "text/html": [
       "<div>\n",
       "<style scoped>\n",
       "    .dataframe tbody tr th:only-of-type {\n",
       "        vertical-align: middle;\n",
       "    }\n",
       "\n",
       "    .dataframe tbody tr th {\n",
       "        vertical-align: top;\n",
       "    }\n",
       "\n",
       "    .dataframe thead th {\n",
       "        text-align: right;\n",
       "    }\n",
       "</style>\n",
       "<table border=\"1\" class=\"dataframe\">\n",
       "  <thead>\n",
       "    <tr style=\"text-align: right;\">\n",
       "      <th></th>\n",
       "      <th>价格</th>\n",
       "      <th>购买数量</th>\n",
       "      <th>年龄段_婴儿</th>\n",
       "      <th>年龄段_幼儿</th>\n",
       "      <th>年龄段_学前</th>\n",
       "      <th>年龄段_学生</th>\n",
       "      <th>品牌_0</th>\n",
       "      <th>品牌_1</th>\n",
       "      <th>品牌_10</th>\n",
       "      <th>品牌_11</th>\n",
       "      <th>...</th>\n",
       "      <th>宝贝种类_46</th>\n",
       "      <th>宝贝种类_47</th>\n",
       "      <th>宝贝种类_48</th>\n",
       "      <th>宝贝种类_49</th>\n",
       "      <th>宝贝种类_5</th>\n",
       "      <th>宝贝种类_50</th>\n",
       "      <th>宝贝种类_6</th>\n",
       "      <th>宝贝种类_7</th>\n",
       "      <th>宝贝种类_8</th>\n",
       "      <th>宝贝种类_9</th>\n",
       "    </tr>\n",
       "    <tr>\n",
       "      <th>买家会员名</th>\n",
       "      <th></th>\n",
       "      <th></th>\n",
       "      <th></th>\n",
       "      <th></th>\n",
       "      <th></th>\n",
       "      <th></th>\n",
       "      <th></th>\n",
       "      <th></th>\n",
       "      <th></th>\n",
       "      <th></th>\n",
       "      <th></th>\n",
       "      <th></th>\n",
       "      <th></th>\n",
       "      <th></th>\n",
       "      <th></th>\n",
       "      <th></th>\n",
       "      <th></th>\n",
       "      <th></th>\n",
       "      <th></th>\n",
       "      <th></th>\n",
       "      <th></th>\n",
       "    </tr>\n",
       "  </thead>\n",
       "  <tbody>\n",
       "    <tr>\n",
       "      <td>0</td>\n",
       "      <td>9.90</td>\n",
       "      <td>1</td>\n",
       "      <td>0</td>\n",
       "      <td>1</td>\n",
       "      <td>1</td>\n",
       "      <td>0</td>\n",
       "      <td>0</td>\n",
       "      <td>0</td>\n",
       "      <td>0</td>\n",
       "      <td>0</td>\n",
       "      <td>...</td>\n",
       "      <td>0</td>\n",
       "      <td>0</td>\n",
       "      <td>0</td>\n",
       "      <td>0</td>\n",
       "      <td>0</td>\n",
       "      <td>0</td>\n",
       "      <td>0</td>\n",
       "      <td>0</td>\n",
       "      <td>0</td>\n",
       "      <td>0</td>\n",
       "    </tr>\n",
       "    <tr>\n",
       "      <td>1</td>\n",
       "      <td>19.83</td>\n",
       "      <td>8</td>\n",
       "      <td>0</td>\n",
       "      <td>4</td>\n",
       "      <td>4</td>\n",
       "      <td>3</td>\n",
       "      <td>0</td>\n",
       "      <td>0</td>\n",
       "      <td>0</td>\n",
       "      <td>0</td>\n",
       "      <td>...</td>\n",
       "      <td>0</td>\n",
       "      <td>0</td>\n",
       "      <td>0</td>\n",
       "      <td>0</td>\n",
       "      <td>0</td>\n",
       "      <td>0</td>\n",
       "      <td>0</td>\n",
       "      <td>0</td>\n",
       "      <td>0</td>\n",
       "      <td>0</td>\n",
       "    </tr>\n",
       "    <tr>\n",
       "      <td>2</td>\n",
       "      <td>7.45</td>\n",
       "      <td>15</td>\n",
       "      <td>0</td>\n",
       "      <td>2</td>\n",
       "      <td>2</td>\n",
       "      <td>2</td>\n",
       "      <td>0</td>\n",
       "      <td>0</td>\n",
       "      <td>0</td>\n",
       "      <td>0</td>\n",
       "      <td>...</td>\n",
       "      <td>0</td>\n",
       "      <td>0</td>\n",
       "      <td>0</td>\n",
       "      <td>0</td>\n",
       "      <td>0</td>\n",
       "      <td>0</td>\n",
       "      <td>0</td>\n",
       "      <td>0</td>\n",
       "      <td>0</td>\n",
       "      <td>0</td>\n",
       "    </tr>\n",
       "    <tr>\n",
       "      <td>3</td>\n",
       "      <td>9.04</td>\n",
       "      <td>2</td>\n",
       "      <td>0</td>\n",
       "      <td>2</td>\n",
       "      <td>2</td>\n",
       "      <td>2</td>\n",
       "      <td>0</td>\n",
       "      <td>0</td>\n",
       "      <td>0</td>\n",
       "      <td>0</td>\n",
       "      <td>...</td>\n",
       "      <td>0</td>\n",
       "      <td>0</td>\n",
       "      <td>0</td>\n",
       "      <td>0</td>\n",
       "      <td>0</td>\n",
       "      <td>0</td>\n",
       "      <td>0</td>\n",
       "      <td>0</td>\n",
       "      <td>0</td>\n",
       "      <td>0</td>\n",
       "    </tr>\n",
       "    <tr>\n",
       "      <td>4</td>\n",
       "      <td>27.91</td>\n",
       "      <td>6</td>\n",
       "      <td>0</td>\n",
       "      <td>6</td>\n",
       "      <td>6</td>\n",
       "      <td>6</td>\n",
       "      <td>0</td>\n",
       "      <td>0</td>\n",
       "      <td>0</td>\n",
       "      <td>0</td>\n",
       "      <td>...</td>\n",
       "      <td>0</td>\n",
       "      <td>0</td>\n",
       "      <td>0</td>\n",
       "      <td>0</td>\n",
       "      <td>0</td>\n",
       "      <td>0</td>\n",
       "      <td>6</td>\n",
       "      <td>0</td>\n",
       "      <td>0</td>\n",
       "      <td>0</td>\n",
       "    </tr>\n",
       "  </tbody>\n",
       "</table>\n",
       "<p>5 rows × 119 columns</p>\n",
       "</div>"
      ],
      "text/plain": [
       "          价格  购买数量  年龄段_婴儿  年龄段_幼儿  年龄段_学前  年龄段_学生  品牌_0  品牌_1  品牌_10  品牌_11  \\\n",
       "买家会员名                                                                          \n",
       "0       9.90     1       0       1       1       0     0     0      0      0   \n",
       "1      19.83     8       0       4       4       3     0     0      0      0   \n",
       "2       7.45    15       0       2       2       2     0     0      0      0   \n",
       "3       9.04     2       0       2       2       2     0     0      0      0   \n",
       "4      27.91     6       0       6       6       6     0     0      0      0   \n",
       "\n",
       "       ...  宝贝种类_46  宝贝种类_47  宝贝种类_48  宝贝种类_49  宝贝种类_5  宝贝种类_50  宝贝种类_6  \\\n",
       "买家会员名  ...                                                                \n",
       "0      ...        0        0        0        0       0        0       0   \n",
       "1      ...        0        0        0        0       0        0       0   \n",
       "2      ...        0        0        0        0       0        0       0   \n",
       "3      ...        0        0        0        0       0        0       0   \n",
       "4      ...        0        0        0        0       0        0       6   \n",
       "\n",
       "       宝贝种类_7  宝贝种类_8  宝贝种类_9  \n",
       "买家会员名                          \n",
       "0           0       0       0  \n",
       "1           0       0       0  \n",
       "2           0       0       0  \n",
       "3           0       0       0  \n",
       "4           0       0       0  \n",
       "\n",
       "[5 rows x 119 columns]"
      ]
     },
     "execution_count": 145,
     "metadata": {},
     "output_type": "execute_result"
    }
   ],
   "source": [
    "order_tag=order_tag.groupby('买家会员名').sum()\n",
    "order_tag.head()"
   ]
  },
  {
   "cell_type": "code",
   "execution_count": 146,
   "metadata": {
    "ExecuteTime": {
     "end_time": "2020-03-09T14:54:30.713170Z",
     "start_time": "2020-03-09T14:54:30.704176Z"
    }
   },
   "outputs": [
    {
     "data": {
      "text/plain": [
       "(3318, 119)"
      ]
     },
     "execution_count": 146,
     "metadata": {},
     "output_type": "execute_result"
    }
   ],
   "source": [
    "order_tag.shape"
   ]
  },
  {
   "cell_type": "markdown",
   "metadata": {},
   "source": [
    "# 归一化"
   ]
  },
  {
   "cell_type": "code",
   "execution_count": 147,
   "metadata": {
    "ExecuteTime": {
     "end_time": "2020-03-09T14:54:41.380920Z",
     "start_time": "2020-03-09T14:54:41.359933Z"
    }
   },
   "outputs": [
    {
     "name": "stdout",
     "output_type": "stream",
     "text": [
      "<class 'pandas.core.frame.DataFrame'>\n",
      "Int64Index: 3318 entries, 0 to 3410\n",
      "Columns: 119 entries, 价格 to 宝贝种类_9\n",
      "dtypes: float64(5), int32(1), int64(113)\n",
      "memory usage: 3.0 MB\n"
     ]
    }
   ],
   "source": [
    "order_tag.info()"
   ]
  },
  {
   "cell_type": "code",
   "execution_count": 148,
   "metadata": {
    "ExecuteTime": {
     "end_time": "2020-03-09T14:54:53.342139Z",
     "start_time": "2020-03-09T14:54:53.313157Z"
    }
   },
   "outputs": [
    {
     "data": {
      "text/html": [
       "<div>\n",
       "<style scoped>\n",
       "    .dataframe tbody tr th:only-of-type {\n",
       "        vertical-align: middle;\n",
       "    }\n",
       "\n",
       "    .dataframe tbody tr th {\n",
       "        vertical-align: top;\n",
       "    }\n",
       "\n",
       "    .dataframe thead th {\n",
       "        text-align: right;\n",
       "    }\n",
       "</style>\n",
       "<table border=\"1\" class=\"dataframe\">\n",
       "  <thead>\n",
       "    <tr style=\"text-align: right;\">\n",
       "      <th></th>\n",
       "      <th>价格</th>\n",
       "      <th>购买数量</th>\n",
       "      <th>年龄段_婴儿</th>\n",
       "      <th>年龄段_幼儿</th>\n",
       "      <th>年龄段_学前</th>\n",
       "      <th>年龄段_学生</th>\n",
       "      <th>品牌_0</th>\n",
       "      <th>品牌_1</th>\n",
       "      <th>品牌_10</th>\n",
       "      <th>品牌_11</th>\n",
       "      <th>...</th>\n",
       "      <th>宝贝种类_46</th>\n",
       "      <th>宝贝种类_47</th>\n",
       "      <th>宝贝种类_48</th>\n",
       "      <th>宝贝种类_49</th>\n",
       "      <th>宝贝种类_5</th>\n",
       "      <th>宝贝种类_50</th>\n",
       "      <th>宝贝种类_6</th>\n",
       "      <th>宝贝种类_7</th>\n",
       "      <th>宝贝种类_8</th>\n",
       "      <th>宝贝种类_9</th>\n",
       "    </tr>\n",
       "    <tr>\n",
       "      <th>买家会员名</th>\n",
       "      <th></th>\n",
       "      <th></th>\n",
       "      <th></th>\n",
       "      <th></th>\n",
       "      <th></th>\n",
       "      <th></th>\n",
       "      <th></th>\n",
       "      <th></th>\n",
       "      <th></th>\n",
       "      <th></th>\n",
       "      <th></th>\n",
       "      <th></th>\n",
       "      <th></th>\n",
       "      <th></th>\n",
       "      <th></th>\n",
       "      <th></th>\n",
       "      <th></th>\n",
       "      <th></th>\n",
       "      <th></th>\n",
       "      <th></th>\n",
       "      <th></th>\n",
       "    </tr>\n",
       "  </thead>\n",
       "  <tbody>\n",
       "    <tr>\n",
       "      <td>0</td>\n",
       "      <td>9.90</td>\n",
       "      <td>1</td>\n",
       "      <td>0</td>\n",
       "      <td>1</td>\n",
       "      <td>1</td>\n",
       "      <td>0</td>\n",
       "      <td>0</td>\n",
       "      <td>0</td>\n",
       "      <td>0</td>\n",
       "      <td>0</td>\n",
       "      <td>...</td>\n",
       "      <td>0</td>\n",
       "      <td>0</td>\n",
       "      <td>0</td>\n",
       "      <td>0</td>\n",
       "      <td>0</td>\n",
       "      <td>0</td>\n",
       "      <td>0</td>\n",
       "      <td>0</td>\n",
       "      <td>0</td>\n",
       "      <td>0</td>\n",
       "    </tr>\n",
       "    <tr>\n",
       "      <td>1</td>\n",
       "      <td>19.83</td>\n",
       "      <td>8</td>\n",
       "      <td>0</td>\n",
       "      <td>4</td>\n",
       "      <td>4</td>\n",
       "      <td>3</td>\n",
       "      <td>0</td>\n",
       "      <td>0</td>\n",
       "      <td>0</td>\n",
       "      <td>0</td>\n",
       "      <td>...</td>\n",
       "      <td>0</td>\n",
       "      <td>0</td>\n",
       "      <td>0</td>\n",
       "      <td>0</td>\n",
       "      <td>0</td>\n",
       "      <td>0</td>\n",
       "      <td>0</td>\n",
       "      <td>0</td>\n",
       "      <td>0</td>\n",
       "      <td>0</td>\n",
       "    </tr>\n",
       "  </tbody>\n",
       "</table>\n",
       "<p>2 rows × 119 columns</p>\n",
       "</div>"
      ],
      "text/plain": [
       "          价格  购买数量  年龄段_婴儿  年龄段_幼儿  年龄段_学前  年龄段_学生  品牌_0  品牌_1  品牌_10  品牌_11  \\\n",
       "买家会员名                                                                          \n",
       "0       9.90     1       0       1       1       0     0     0      0      0   \n",
       "1      19.83     8       0       4       4       3     0     0      0      0   \n",
       "\n",
       "       ...  宝贝种类_46  宝贝种类_47  宝贝种类_48  宝贝种类_49  宝贝种类_5  宝贝种类_50  宝贝种类_6  \\\n",
       "买家会员名  ...                                                                \n",
       "0      ...        0        0        0        0       0        0       0   \n",
       "1      ...        0        0        0        0       0        0       0   \n",
       "\n",
       "       宝贝种类_7  宝贝种类_8  宝贝种类_9  \n",
       "买家会员名                          \n",
       "0           0       0       0  \n",
       "1           0       0       0  \n",
       "\n",
       "[2 rows x 119 columns]"
      ]
     },
     "execution_count": 148,
     "metadata": {},
     "output_type": "execute_result"
    }
   ],
   "source": [
    "order_tag.head(2)"
   ]
  },
  {
   "cell_type": "code",
   "execution_count": 149,
   "metadata": {
    "ExecuteTime": {
     "end_time": "2020-03-09T14:55:00.403226Z",
     "start_time": "2020-03-09T14:55:00.385238Z"
    }
   },
   "outputs": [
    {
     "data": {
      "text/plain": [
       "Series([], dtype: int64)"
      ]
     },
     "execution_count": 149,
     "metadata": {},
     "output_type": "execute_result"
    }
   ],
   "source": [
    "order_tag.isnull().sum()[order_tag.isnull().sum()!=0]"
   ]
  },
  {
   "cell_type": "code",
   "execution_count": 150,
   "metadata": {
    "ExecuteTime": {
     "end_time": "2020-03-09T14:55:03.046960Z",
     "start_time": "2020-03-09T14:55:03.032970Z"
    }
   },
   "outputs": [
    {
     "data": {
      "text/plain": [
       "0"
      ]
     },
     "execution_count": 150,
     "metadata": {},
     "output_type": "execute_result"
    }
   ],
   "source": [
    "(order_tag.isnull().sum()!=0).sum()"
   ]
  },
  {
   "cell_type": "markdown",
   "metadata": {
    "ExecuteTime": {
     "end_time": "2020-03-09T15:11:58.676276Z",
     "start_time": "2020-03-09T15:11:58.670280Z"
    }
   },
   "source": [
    "## 将数据集转数组"
   ]
  },
  {
   "cell_type": "code",
   "execution_count": 172,
   "metadata": {
    "ExecuteTime": {
     "end_time": "2020-03-09T15:29:42.171799Z",
     "start_time": "2020-03-09T15:29:42.161808Z"
    }
   },
   "outputs": [
    {
     "data": {
      "text/plain": [
       "array([[ 9.9 ,  1.  ,  0.  , ...,  0.  ,  0.  ,  0.  ],\n",
       "       [19.83,  8.  ,  0.  , ...,  0.  ,  0.  ,  0.  ],\n",
       "       [ 7.45, 15.  ,  0.  , ...,  0.  ,  0.  ,  0.  ],\n",
       "       ...,\n",
       "       [23.75,  7.  ,  0.  , ...,  0.  ,  0.  ,  0.  ],\n",
       "       [17.45,  2.  ,  0.  , ...,  0.  ,  0.  ,  0.  ],\n",
       "       [27.55,  5.  ,  0.  , ...,  0.  ,  0.  ,  0.  ]])"
      ]
     },
     "execution_count": 172,
     "metadata": {},
     "output_type": "execute_result"
    }
   ],
   "source": [
    "# 归一化API接口接受axis=0 行值 每一行的值  axis=1 列值 每一列的值\n",
    "# 默认为axis=0 每一行的单个值进行处理 即第一列字段的所有值\n",
    "data = order_tag.values\n",
    "data"
   ]
  },
  {
   "cell_type": "markdown",
   "metadata": {},
   "source": [
    "## 调用归一化算法进行字段归一"
   ]
  },
  {
   "cell_type": "code",
   "execution_count": 152,
   "metadata": {
    "ExecuteTime": {
     "end_time": "2020-03-09T14:55:15.243694Z",
     "start_time": "2020-03-09T14:55:10.417290Z"
    }
   },
   "outputs": [],
   "source": [
    "from sklearn.preprocessing import MinMaxScaler"
   ]
  },
  {
   "cell_type": "code",
   "execution_count": 173,
   "metadata": {
    "ExecuteTime": {
     "end_time": "2020-03-09T15:29:48.461705Z",
     "start_time": "2020-03-09T15:29:48.447713Z"
    }
   },
   "outputs": [
    {
     "data": {
      "text/plain": [
       "array([[0.02022514, 0.        , 0.        , ..., 0.        , 0.        ,\n",
       "        0.        ],\n",
       "       [0.04069767, 0.00473293, 0.        , ..., 0.        , 0.        ,\n",
       "        0.        ],\n",
       "       [0.01517401, 0.00946586, 0.        , ..., 0.        , 0.        ,\n",
       "        0.        ],\n",
       "       ...,\n",
       "       [0.04877948, 0.0040568 , 0.        , ..., 0.        , 0.        ,\n",
       "        0.        ],\n",
       "       [0.03579086, 0.00067613, 0.        , ..., 0.        , 0.        ,\n",
       "        0.        ],\n",
       "       [0.05661389, 0.00270453, 0.        , ..., 0.        , 0.        ,\n",
       "        0.        ]])"
      ]
     },
     "execution_count": 173,
     "metadata": {},
     "output_type": "execute_result"
    }
   ],
   "source": [
    "mns = MinMaxScaler()\n",
    "data_norm = mns.fit_transform(data)\n",
    "data_norm\n",
    "\n",
    "# 做了onehot编码的品牌分类和年龄分类，的每一个字段，都进行归一化处理"
   ]
  },
  {
   "cell_type": "markdown",
   "metadata": {
    "ExecuteTime": {
     "end_time": "2020-03-08T07:55:46.783764Z",
     "start_time": "2020-03-08T07:55:46.776770Z"
    }
   },
   "source": [
    "# kmeans聚类\n",
    "\n",
    "- 确认K值\n",
    "- 业务经验；\n",
    "- 通过SSE-簇内误差平方差绘图曲线找拐点\n",
    "- 轮廓系数方法"
   ]
  },
  {
   "cell_type": "code",
   "execution_count": 175,
   "metadata": {
    "ExecuteTime": {
     "end_time": "2020-03-09T15:29:58.358454Z",
     "start_time": "2020-03-09T15:29:57.746081Z"
    }
   },
   "outputs": [],
   "source": [
    "from sklearn.cluster import KMeans\n",
    "import matplotlib.pyplot as plt"
   ]
  },
  {
   "cell_type": "markdown",
   "metadata": {},
   "source": [
    "# SSE簇内误差平方和评估"
   ]
  },
  {
   "cell_type": "code",
   "execution_count": 176,
   "metadata": {
    "ExecuteTime": {
     "end_time": "2020-03-09T15:30:10.711865Z",
     "start_time": "2020-03-09T15:29:59.664681Z"
    },
    "collapsed": true
   },
   "outputs": [
    {
     "data": {
      "text/plain": [
       "[953.3527851257197,\n",
       " 840.3908058526431,\n",
       " 764.2254162695119,\n",
       " 719.9670501958116,\n",
       " 665.6205993840016,\n",
       " 633.0962136866841,\n",
       " 592.9818134642791,\n",
       " 556.0239606687417,\n",
       " 512.4155787663511,\n",
       " 496.10802995132923,\n",
       " 447.872770228294,\n",
       " 428.3027223892049,\n",
       " 404.9433760834065,\n",
       " 386.049637714591,\n",
       " 359.063845670822,\n",
       " 338.02140018260803,\n",
       " 317.68025606078675,\n",
       " 309.676335778183,\n",
       " 288.43817966343613,\n",
       " 280.54978795670297,\n",
       " 259.4713301618923,\n",
       " 253.70103523798366,\n",
       " 246.60294015121306,\n",
       " 234.3418550000075]"
      ]
     },
     "execution_count": 176,
     "metadata": {},
     "output_type": "execute_result"
    }
   ],
   "source": [
    "sse = []\n",
    "\n",
    "for k in range(1,25):\n",
    "    km = KMeans(n_clusters=k)\n",
    "    km.fit(data_norm)\n",
    "    sse.append(km.inertia_)\n",
    "    \n",
    "sse"
   ]
  },
  {
   "cell_type": "markdown",
   "metadata": {
    "ExecuteTime": {
     "end_time": "2020-03-09T15:35:41.768284Z",
     "start_time": "2020-03-09T15:35:41.763287Z"
    }
   },
   "source": [
    "## 绘制所有K-SSE直线图"
   ]
  },
  {
   "cell_type": "code",
   "execution_count": 77,
   "metadata": {
    "ExecuteTime": {
     "end_time": "2020-03-08T08:11:25.348609Z",
     "start_time": "2020-03-08T08:11:25.051793Z"
    },
    "scrolled": false
   },
   "outputs": [
    {
     "data": {
      "image/png": "[encoded data removed]",
      "text/plain": [
       "<Figure size 432x288 with 1 Axes>"
      ]
     },
     "metadata": {
      "needs_background": "light"
     },
     "output_type": "display_data"
    }
   ],
   "source": [
    "plt.plot(range(1,25),sse,marker='o');\n",
    "\n",
    "# K值到达20以上SSE无法接近0，则需检查预处理中加入大量无关字段\n",
    "# 下降缓慢，未出现急剧下降K在3-5之间情况\n",
    "# 聚类模型对变量太多结果无效，可删除一些特征后进行聚类"
   ]
  },
  {
   "cell_type": "markdown",
   "metadata": {},
   "source": [
    "## 变量过多影响下降陡峭曲线"
   ]
  },
  {
   "cell_type": "code",
   "execution_count": 177,
   "metadata": {
    "ExecuteTime": {
     "end_time": "2020-03-09T15:31:11.754818Z",
     "start_time": "2020-03-09T15:31:11.744824Z"
    }
   },
   "outputs": [
    {
     "name": "stdout",
     "output_type": "stream",
     "text": [
      "['年龄段_婴儿', '年龄段_幼儿', '年龄段_学前', '年龄段_学生', '宝贝种类_1', '宝贝种类_10', '宝贝种类_11', '宝贝种类_12', '宝贝种类_13', '宝贝种类_14', '宝贝种类_15', '宝贝种类_16', '宝贝种类_17', '宝贝种类_18', '宝贝种类_19', '宝贝种类_2', '宝贝种类_20', '宝贝种类_21', '宝贝种类_22', '宝贝种类_23', '宝贝种类_24', '宝贝种类_25', '宝贝种类_26', '宝贝种类_27', '宝贝种类_28', '宝贝种类_29', '宝贝种类_3', '宝贝种类_30', '宝贝种类_31', '宝贝种类_32', '宝贝种类_33', '宝贝种类_34', '宝贝种类_35', '宝贝种类_36', '宝贝种类_37', '宝贝种类_38', '宝贝种类_39', '宝贝种类_4', '宝贝种类_40', '宝贝种类_41', '宝贝种类_43', '宝贝种类_45', '宝贝种类_46', '宝贝种类_47', '宝贝种类_48', '宝贝种类_49', '宝贝种类_5', '宝贝种类_50', '宝贝种类_6', '宝贝种类_7', '宝贝种类_8', '宝贝种类_9']\n"
     ]
    }
   ],
   "source": [
    "a=[]\n",
    "# 将地址 年龄 品牌 地址 相关字段的01编码数据进行删除\n",
    "for i in order_tag.columns:\n",
    "    if i.find(\"地址\")!=-1 or i.find(\"品牌\")!=-1 or i.find(\"宝贝种类\")!=-1 or i.find(\"年龄\")!=-1:\n",
    "        a.append(i)\n",
    "print(a)"
   ]
  },
  {
   "cell_type": "markdown",
   "metadata": {},
   "source": [
    "## 删除影响SSE字段后再归一"
   ]
  },
  {
   "cell_type": "code",
   "execution_count": null,
   "metadata": {
    "ExecuteTime": {
     "end_time": "2020-03-09T15:32:05.497773Z",
     "start_time": "2020-03-09T15:32:05.457796Z"
    }
   },
   "outputs": [],
   "source": [
    "# 删除能明显降低SSE的字段\n",
    "order_tag.drop(a,axis=1,inplace=True)\n",
    "data=order_tag.values"
   ]
  },
  {
   "cell_type": "code",
   "execution_count": 179,
   "metadata": {
    "ExecuteTime": {
     "end_time": "2020-03-09T15:32:33.370598Z",
     "start_time": "2020-03-09T15:32:33.361603Z"
    }
   },
   "outputs": [
    {
     "data": {
      "text/plain": [
       "array([[  9.9 ,   1.  ,   9.9 , ...,   0.  ,   0.  ,   0.  ],\n",
       "       [ 19.83,   8.  , 130.24, ...,   0.  ,   0.  ,   0.  ],\n",
       "       [  7.45,  15.  , 117.  , ...,   0.  ,   0.  ,   0.  ],\n",
       "       ...,\n",
       "       [ 23.75,   7.  ,  72.3 , ...,   0.  ,   0.  ,   0.  ],\n",
       "       [ 17.45,   2.  ,  62.  , ...,   0.  ,   0.  ,   0.  ],\n",
       "       [ 27.55,   5.  , 125.05, ...,   0.  ,   0.  ,   0.  ]])"
      ]
     },
     "execution_count": 179,
     "metadata": {},
     "output_type": "execute_result"
    }
   ],
   "source": [
    "data"
   ]
  },
  {
   "cell_type": "code",
   "execution_count": 180,
   "metadata": {
    "ExecuteTime": {
     "end_time": "2020-03-09T15:33:20.294327Z",
     "start_time": "2020-03-09T15:33:20.281337Z"
    },
    "scrolled": true
   },
   "outputs": [
    {
     "data": {
      "text/plain": [
       "array([[0.02022514, 0.        , 0.0002344 , ..., 0.        , 0.        ,\n",
       "        0.        ],\n",
       "       [0.04069767, 0.00473293, 0.00340383, ..., 0.        , 0.        ,\n",
       "        0.        ],\n",
       "       [0.01517401, 0.00946586, 0.00305512, ..., 0.        , 0.        ,\n",
       "        0.        ],\n",
       "       ...,\n",
       "       [0.04877948, 0.0040568 , 0.00187785, ..., 0.        , 0.        ,\n",
       "        0.        ],\n",
       "       [0.03579086, 0.00067613, 0.00160657, ..., 0.        , 0.        ,\n",
       "        0.        ],\n",
       "       [0.05661389, 0.00270453, 0.00326714, ..., 0.        , 0.        ,\n",
       "        0.        ]])"
      ]
     },
     "execution_count": 180,
     "metadata": {},
     "output_type": "execute_result"
    }
   ],
   "source": [
    "mns = MinMaxScaler()\n",
    "data_norm = mns.fit_transform(data)\n",
    "data_norm"
   ]
  },
  {
   "cell_type": "markdown",
   "metadata": {},
   "source": [
    "## 绘制删除字段后的SSE图"
   ]
  },
  {
   "cell_type": "code",
   "execution_count": 181,
   "metadata": {
    "ExecuteTime": {
     "end_time": "2020-03-09T15:33:46.134293Z",
     "start_time": "2020-03-09T15:33:36.274985Z"
    }
   },
   "outputs": [
    {
     "data": {
      "image/png": "[encoded data removed]",
      "text/plain": [
       "<Figure size 432x288 with 1 Axes>"
      ]
     },
     "metadata": {
      "needs_background": "light"
     },
     "output_type": "display_data"
    }
   ],
   "source": [
    "sse = []\n",
    "\n",
    "for k in range(1,25):\n",
    "    km = KMeans(n_clusters=k)\n",
    "    km = km.fit(data_norm)\n",
    "    sse.append(km.inertia_)\n",
    "    \n",
    "sse\n",
    "\n",
    "plt.plot(range(1,25),sse,marker='o');"
   ]
  },
  {
   "cell_type": "markdown",
   "metadata": {},
   "source": [
    "- 曲线图可知，在3-5范围的簇心K数量，较好的对Kmeans的选择\n",
    "- 具体取值3还是4还是5，可再看看轮廓系数\n",
    "- 通过簇心越紧凑，簇外越离散，则是更好的K值"
   ]
  },
  {
   "cell_type": "markdown",
   "metadata": {},
   "source": [
    "# 轮廓系数评估\n",
    "\n",
    "- 考虑了族内族外量方面的因素，系数越大越好\n",
    "- 使用轮廓系数，族数量必须大于等于2\n",
    "- SC系数(Silhouette Cofficient)轮廓系数法\n",
    "- 评估标准描述：结合了聚类的凝聚度(Cohesion)和分离度(Separation),用于评估聚类算法的效果\n",
    "\n",
    "\n",
    "- 每次聚类之后，每一个样本点都会得到一个轮廓系数，当S的取值越靠近1，当前点与周围簇距离较远，结果非常好\n",
    "- 当S的取值为0，说明当前点可能处在两个簇的边界上。\n",
    "- 当S的取值为负数时，可能这个点呗误分了。\n",
    "- 求出所有样本点的轮廓系数之后再求平均值就得到了平均轮廓系数，平均轮廓系数越大，簇内样本距离越近，簇间样本距离越远，聚类效果越好"
   ]
  },
  {
   "cell_type": "code",
   "execution_count": 183,
   "metadata": {
    "ExecuteTime": {
     "end_time": "2020-03-09T15:41:18.108181Z",
     "start_time": "2020-03-09T15:41:18.102184Z"
    }
   },
   "outputs": [],
   "source": [
    "from sklearn.metrics import silhouette_score\n",
    "# silhouette暗色轮廓；（人的）体形；（事物的）形状"
   ]
  },
  {
   "cell_type": "markdown",
   "metadata": {},
   "source": [
    "## for循环-K值-SH轮廓系数得分"
   ]
  },
  {
   "cell_type": "code",
   "execution_count": 184,
   "metadata": {
    "ExecuteTime": {
     "end_time": "2020-03-09T15:43:05.934071Z",
     "start_time": "2020-03-09T15:42:49.212022Z"
    },
    "scrolled": false
   },
   "outputs": [
    {
     "data": {
      "image/png": "[encoded data removed]",
      "text/plain": [
       "<Figure size 432x288 with 1 Axes>"
      ]
     },
     "metadata": {
      "needs_background": "light"
     },
     "output_type": "display_data"
    }
   ],
   "source": [
    "from sklearn.metrics import silhouette_score\n",
    "\n",
    "score=[]\n",
    "\n",
    "for k in range(2,25):\n",
    "    km=KMeans(n_clusters=k)\n",
    "    res_km=km.fit(data_norm)\n",
    "    score.append(silhouette_score(data_norm,res_km.labels_))\n",
    "    \n",
    "plt.plot(range(2,25),score,marker=\"o\");\n",
    "\n",
    "# K =5时候 轮廓系数显示较好 簇内紧凑 簇外离散 越大越好 下跌厉害的则效果好\n",
    "# 下跌不厉害或升高或降低，则K=10或K=11没太大区别效果"
   ]
  },
  {
   "cell_type": "markdown",
   "metadata": {},
   "source": [
    "## CH轮廓系数方法评估"
   ]
  },
  {
   "cell_type": "code",
   "execution_count": 188,
   "metadata": {
    "ExecuteTime": {
     "end_time": "2020-03-09T16:00:47.105758Z",
     "start_time": "2020-03-09T16:00:32.718624Z"
    },
    "scrolled": true
   },
   "outputs": [
    {
     "data": {
      "image/png": "[encoded data removed]",
      "text/plain": [
       "<Figure size 432x288 with 1 Axes>"
      ]
     },
     "metadata": {
      "needs_background": "light"
     },
     "output_type": "display_data"
    }
   ],
   "source": [
    "from sklearn import metrics\n",
    "import matplotlib.pyplot as plt\n",
    "from sklearn.cluster import KMeans\n",
    "import warnings\n",
    "warnings.filterwarnings(\"ignore\")\n",
    "\n",
    "# 类别内部数据的协方差越小越好，类别之间的协方差越大越好，这样的Calinski-Harabasz分数会高\n",
    "# 数值越小可以理解为：组间协方差很小，组与组之间界限不明显\n",
    "# 得分越大越好，但聚类的点就多了，找一个聚类下降好的K取值 \n",
    "# 簇点少聚类得分高但分类无意义\n",
    "# 簇内点多变成一个分类得分就差没做聚类\n",
    "# 簇得分下降厉害，则K取值效果好，不是很细，也不是很粗\n",
    "\n",
    "# scikit-learn中， Calinski-Harabasz Index对应的方法是metrics.calinski_harabaz_score\n",
    "ch_scores = []\n",
    "for i in range(2, 30):\n",
    "    km = KMeans(n_clusters=i)\n",
    "    # init='k-means++',\n",
    "    # n_init=10,\n",
    "    # max_iter=300,\n",
    "    # random_state=0      \n",
    "    km.fit(data_norm)\n",
    "    ch_scores.append(metrics.calinski_harabaz_score(data_norm, km.labels_))\n",
    "plt.plot(range(2,30), ch_scores, marker='o')\n",
    "plt.xlabel('Number of clusters')\n",
    "plt.ylabel('calinski_harabaz_score')\n",
    "plt.show()"
   ]
  },
  {
   "cell_type": "markdown",
   "metadata": {},
   "source": [
    "# Kmeans生成用户标签\n",
    "\n",
    "- 结合sse曲线和CH--SH轮廓系数曲线，选择看=5比较好"
   ]
  },
  {
   "cell_type": "code",
   "execution_count": 189,
   "metadata": {
    "ExecuteTime": {
     "end_time": "2020-03-09T17:09:28.373249Z",
     "start_time": "2020-03-09T17:09:28.094425Z"
    }
   },
   "outputs": [
    {
     "data": {
      "text/plain": [
       "KMeans(algorithm='auto', copy_x=True, init='k-means++', max_iter=300,\n",
       "       n_clusters=5, n_init=10, n_jobs=None, precompute_distances='auto',\n",
       "       random_state=None, tol=0.0001, verbose=0)"
      ]
     },
     "execution_count": 189,
     "metadata": {},
     "output_type": "execute_result"
    }
   ],
   "source": [
    "km=KMeans(n_clusters=5)\n",
    "km.fit(data_norm)"
   ]
  },
  {
   "cell_type": "markdown",
   "metadata": {
    "ExecuteTime": {
     "end_time": "2020-03-09T17:12:58.394301Z",
     "start_time": "2020-03-09T17:12:58.389304Z"
    }
   },
   "source": [
    "## 获取km.labels_标签结果"
   ]
  },
  {
   "cell_type": "code",
   "execution_count": 190,
   "metadata": {
    "ExecuteTime": {
     "end_time": "2020-03-09T17:09:31.336977Z",
     "start_time": "2020-03-09T17:09:31.329983Z"
    }
   },
   "outputs": [
    {
     "data": {
      "text/plain": [
       "array([0, 0, 0, ..., 0, 0, 0])"
      ]
     },
     "execution_count": 190,
     "metadata": {},
     "output_type": "execute_result"
    }
   ],
   "source": [
    "km.labels_"
   ]
  },
  {
   "cell_type": "code",
   "execution_count": 191,
   "metadata": {
    "ExecuteTime": {
     "end_time": "2020-03-09T17:09:39.687297Z",
     "start_time": "2020-03-09T17:09:39.660316Z"
    }
   },
   "outputs": [
    {
     "data": {
      "text/html": [
       "<div>\n",
       "<style scoped>\n",
       "    .dataframe tbody tr th:only-of-type {\n",
       "        vertical-align: middle;\n",
       "    }\n",
       "\n",
       "    .dataframe tbody tr th {\n",
       "        vertical-align: top;\n",
       "    }\n",
       "\n",
       "    .dataframe thead th {\n",
       "        text-align: right;\n",
       "    }\n",
       "</style>\n",
       "<table border=\"1\" class=\"dataframe\">\n",
       "  <thead>\n",
       "    <tr style=\"text-align: right;\">\n",
       "      <th></th>\n",
       "      <th>价格</th>\n",
       "      <th>购买数量</th>\n",
       "      <th>买家应付货款</th>\n",
       "      <th>买家应付邮费</th>\n",
       "      <th>买家支付积分</th>\n",
       "      <th>总金额</th>\n",
       "      <th>返点积分</th>\n",
       "      <th>买家实际支付金额</th>\n",
       "      <th>买家实际支付积分</th>\n",
       "      <th>收货人姓名</th>\n",
       "      <th>宝贝总数量</th>\n",
       "      <th>店铺Id</th>\n",
       "      <th>店铺名称</th>\n",
       "      <th>卖家服务费</th>\n",
       "      <th>退款金额</th>\n",
       "    </tr>\n",
       "    <tr>\n",
       "      <th>买家会员名</th>\n",
       "      <th></th>\n",
       "      <th></th>\n",
       "      <th></th>\n",
       "      <th></th>\n",
       "      <th></th>\n",
       "      <th></th>\n",
       "      <th></th>\n",
       "      <th></th>\n",
       "      <th></th>\n",
       "      <th></th>\n",
       "      <th></th>\n",
       "      <th></th>\n",
       "      <th></th>\n",
       "      <th></th>\n",
       "      <th></th>\n",
       "    </tr>\n",
       "  </thead>\n",
       "  <tbody>\n",
       "    <tr>\n",
       "      <td>0</td>\n",
       "      <td>9.90</td>\n",
       "      <td>1</td>\n",
       "      <td>9.90</td>\n",
       "      <td>5.0</td>\n",
       "      <td>0</td>\n",
       "      <td>14.90</td>\n",
       "      <td>0</td>\n",
       "      <td>14.90</td>\n",
       "      <td>0</td>\n",
       "      <td>1963</td>\n",
       "      <td>1</td>\n",
       "      <td>0</td>\n",
       "      <td>0</td>\n",
       "      <td>0</td>\n",
       "      <td>0</td>\n",
       "    </tr>\n",
       "    <tr>\n",
       "      <td>1</td>\n",
       "      <td>19.83</td>\n",
       "      <td>8</td>\n",
       "      <td>130.24</td>\n",
       "      <td>20.0</td>\n",
       "      <td>0</td>\n",
       "      <td>150.24</td>\n",
       "      <td>0</td>\n",
       "      <td>150.24</td>\n",
       "      <td>0</td>\n",
       "      <td>11072</td>\n",
       "      <td>32</td>\n",
       "      <td>0</td>\n",
       "      <td>0</td>\n",
       "      <td>0</td>\n",
       "      <td>0</td>\n",
       "    </tr>\n",
       "  </tbody>\n",
       "</table>\n",
       "</div>"
      ],
      "text/plain": [
       "          价格  购买数量  买家应付货款  买家应付邮费  买家支付积分     总金额  返点积分  买家实际支付金额  买家实际支付积分  \\\n",
       "买家会员名                                                                          \n",
       "0       9.90     1    9.90     5.0       0   14.90     0     14.90         0   \n",
       "1      19.83     8  130.24    20.0       0  150.24     0    150.24         0   \n",
       "\n",
       "       收货人姓名  宝贝总数量  店铺Id  店铺名称  卖家服务费  退款金额  \n",
       "买家会员名                                         \n",
       "0       1963      1     0     0      0     0  \n",
       "1      11072     32     0     0      0     0  "
      ]
     },
     "execution_count": 191,
     "metadata": {},
     "output_type": "execute_result"
    }
   ],
   "source": [
    "order_tag.head(2)"
   ]
  },
  {
   "cell_type": "code",
   "execution_count": 93,
   "metadata": {
    "ExecuteTime": {
     "end_time": "2020-03-08T08:27:17.780627Z",
     "start_time": "2020-03-08T08:27:17.769635Z"
    }
   },
   "outputs": [
    {
     "data": {
      "text/plain": [
       "0    2403\n",
       "2     501\n",
       "3     230\n",
       "1     113\n",
       "4      71\n",
       "dtype: int64"
      ]
     },
     "execution_count": 93,
     "metadata": {},
     "output_type": "execute_result"
    }
   ],
   "source": [
    "pd.Series(km.labels_).value_counts()"
   ]
  },
  {
   "cell_type": "code",
   "execution_count": 192,
   "metadata": {
    "ExecuteTime": {
     "end_time": "2020-03-09T17:10:06.402996Z",
     "start_time": "2020-03-09T17:10:06.373018Z"
    }
   },
   "outputs": [
    {
     "data": {
      "text/html": [
       "<div>\n",
       "<style scoped>\n",
       "    .dataframe tbody tr th:only-of-type {\n",
       "        vertical-align: middle;\n",
       "    }\n",
       "\n",
       "    .dataframe tbody tr th {\n",
       "        vertical-align: top;\n",
       "    }\n",
       "\n",
       "    .dataframe thead th {\n",
       "        text-align: right;\n",
       "    }\n",
       "</style>\n",
       "<table border=\"1\" class=\"dataframe\">\n",
       "  <thead>\n",
       "    <tr style=\"text-align: right;\">\n",
       "      <th></th>\n",
       "      <th>价格</th>\n",
       "      <th>购买数量</th>\n",
       "      <th>买家应付货款</th>\n",
       "      <th>买家应付邮费</th>\n",
       "      <th>买家支付积分</th>\n",
       "      <th>总金额</th>\n",
       "      <th>返点积分</th>\n",
       "      <th>买家实际支付金额</th>\n",
       "      <th>买家实际支付积分</th>\n",
       "      <th>收货人姓名</th>\n",
       "      <th>宝贝总数量</th>\n",
       "      <th>店铺Id</th>\n",
       "      <th>店铺名称</th>\n",
       "      <th>卖家服务费</th>\n",
       "      <th>退款金额</th>\n",
       "      <th>类别</th>\n",
       "    </tr>\n",
       "    <tr>\n",
       "      <th>买家会员名</th>\n",
       "      <th></th>\n",
       "      <th></th>\n",
       "      <th></th>\n",
       "      <th></th>\n",
       "      <th></th>\n",
       "      <th></th>\n",
       "      <th></th>\n",
       "      <th></th>\n",
       "      <th></th>\n",
       "      <th></th>\n",
       "      <th></th>\n",
       "      <th></th>\n",
       "      <th></th>\n",
       "      <th></th>\n",
       "      <th></th>\n",
       "      <th></th>\n",
       "    </tr>\n",
       "  </thead>\n",
       "  <tbody>\n",
       "    <tr>\n",
       "      <td>0</td>\n",
       "      <td>9.90</td>\n",
       "      <td>1</td>\n",
       "      <td>9.90</td>\n",
       "      <td>5.0</td>\n",
       "      <td>0</td>\n",
       "      <td>14.90</td>\n",
       "      <td>0</td>\n",
       "      <td>14.90</td>\n",
       "      <td>0</td>\n",
       "      <td>1963</td>\n",
       "      <td>1</td>\n",
       "      <td>0</td>\n",
       "      <td>0</td>\n",
       "      <td>0</td>\n",
       "      <td>0</td>\n",
       "      <td>0</td>\n",
       "    </tr>\n",
       "    <tr>\n",
       "      <td>1</td>\n",
       "      <td>19.83</td>\n",
       "      <td>8</td>\n",
       "      <td>130.24</td>\n",
       "      <td>20.0</td>\n",
       "      <td>0</td>\n",
       "      <td>150.24</td>\n",
       "      <td>0</td>\n",
       "      <td>150.24</td>\n",
       "      <td>0</td>\n",
       "      <td>11072</td>\n",
       "      <td>32</td>\n",
       "      <td>0</td>\n",
       "      <td>0</td>\n",
       "      <td>0</td>\n",
       "      <td>0</td>\n",
       "      <td>0</td>\n",
       "    </tr>\n",
       "  </tbody>\n",
       "</table>\n",
       "</div>"
      ],
      "text/plain": [
       "          价格  购买数量  买家应付货款  买家应付邮费  买家支付积分     总金额  返点积分  买家实际支付金额  买家实际支付积分  \\\n",
       "买家会员名                                                                          \n",
       "0       9.90     1    9.90     5.0       0   14.90     0     14.90         0   \n",
       "1      19.83     8  130.24    20.0       0  150.24     0    150.24         0   \n",
       "\n",
       "       收货人姓名  宝贝总数量  店铺Id  店铺名称  卖家服务费  退款金额  类别  \n",
       "买家会员名                                             \n",
       "0       1963      1     0     0      0     0   0  \n",
       "1      11072     32     0     0      0     0   0  "
      ]
     },
     "execution_count": 192,
     "metadata": {},
     "output_type": "execute_result"
    }
   ],
   "source": [
    "# del order_tag['列表']\n",
    "order_tag['类别'] = km.labels_\n",
    "order_tag.head(2)"
   ]
  },
  {
   "cell_type": "code",
   "execution_count": 98,
   "metadata": {
    "ExecuteTime": {
     "end_time": "2020-03-08T08:31:16.665716Z",
     "start_time": "2020-03-08T08:31:15.019148Z"
    }
   },
   "outputs": [
    {
     "name": "stderr",
     "output_type": "stream",
     "text": [
      "C:\\ProgramData\\Anaconda3\\lib\\site-packages\\ipykernel_launcher.py:2: FutureWarning: The signature of `Series.to_csv` was aligned to that of `DataFrame.to_csv`, and argument 'header' will change its default value from False to True: please pass an explicit value to suppress this warning.\n",
      "  \n"
     ]
    }
   ],
   "source": [
    "clusters = order_tag['类别']\n",
    "clusters.to_csv(r'D:\\会员标签.csv')"
   ]
  },
  {
   "attachments": {},
   "cell_type": "markdown",
   "metadata": {},
   "source": [
    "# 生成推荐规则\n",
    "\n",
    "- 推荐系统的策略：\n",
    "\n",
    "- 推荐给每个客户的产品，都是他没购买过的。\n",
    "- 在没购买过的产品里面，哪些产品是和他同类客户里面，最受欢迎\n",
    "- 同类客户里面，购买数量（次数）最多的那款产品，就属于受欢迎产品\n",
    "- 同类客户里面，平均购买数量（平均购买次数）最多的那款产品，就属于受欢迎的产品\n",
    "\n",
    "\n",
    "- 买家会员名\n",
    "- 标题：对应买家没购买过的商品名称\n",
    "- 类别：对应买家所属的类别\n",
    "- 购买次数：同类客户对该款产品的平均购买次数（同类客户对该款产品的偏好程度）"
   ]
  },
  {
   "attachments": {},
   "cell_type": "markdown",
   "metadata": {},
   "source": [
    "## 用户-购买商品次数表\n",
    "\n",
    "- 用户信息，订单编号信息，在order\n",
    "- 订单购买过哪些商品，在订单详情表里order_detail"
   ]
  },
  {
   "cell_type": "code",
   "execution_count": 194,
   "metadata": {
    "ExecuteTime": {
     "end_time": "2020-03-09T17:14:34.755146Z",
     "start_time": "2020-03-09T17:14:34.572258Z"
    }
   },
   "outputs": [
    {
     "data": {
      "text/html": [
       "<div>\n",
       "<style scoped>\n",
       "    .dataframe tbody tr th:only-of-type {\n",
       "        vertical-align: middle;\n",
       "    }\n",
       "\n",
       "    .dataframe tbody tr th {\n",
       "        vertical-align: top;\n",
       "    }\n",
       "\n",
       "    .dataframe thead th {\n",
       "        text-align: right;\n",
       "    }\n",
       "</style>\n",
       "<table border=\"1\" class=\"dataframe\">\n",
       "  <thead>\n",
       "    <tr style=\"text-align: right;\">\n",
       "      <th></th>\n",
       "      <th>订单编号</th>\n",
       "      <th>买家会员名</th>\n",
       "      <th>买家应付货款</th>\n",
       "      <th>买家应付邮费</th>\n",
       "      <th>买家支付积分</th>\n",
       "      <th>总金额</th>\n",
       "      <th>返点积分</th>\n",
       "      <th>买家实际支付金额</th>\n",
       "      <th>买家实际支付积分</th>\n",
       "      <th>订单状态</th>\n",
       "      <th>...</th>\n",
       "      <th>宝贝种类_49</th>\n",
       "      <th>宝贝种类_5</th>\n",
       "      <th>宝贝种类_50</th>\n",
       "      <th>宝贝种类_6</th>\n",
       "      <th>宝贝种类_7</th>\n",
       "      <th>宝贝种类_8</th>\n",
       "      <th>宝贝种类_9</th>\n",
       "      <th>标题</th>\n",
       "      <th>价格</th>\n",
       "      <th>购买数量</th>\n",
       "    </tr>\n",
       "  </thead>\n",
       "  <tbody>\n",
       "    <tr>\n",
       "      <td>0</td>\n",
       "      <td>21407300627014900</td>\n",
       "      <td>1425</td>\n",
       "      <td>58.51</td>\n",
       "      <td>0.0</td>\n",
       "      <td>0</td>\n",
       "      <td>58.51</td>\n",
       "      <td>0</td>\n",
       "      <td>58.51</td>\n",
       "      <td>0</td>\n",
       "      <td>交易成功</td>\n",
       "      <td>...</td>\n",
       "      <td>0</td>\n",
       "      <td>1</td>\n",
       "      <td>0</td>\n",
       "      <td>0</td>\n",
       "      <td>0</td>\n",
       "      <td>0</td>\n",
       "      <td>0</td>\n",
       "      <td>发光玩具批发光纤手指灯闪光夜市热卖货源儿童玩具地摊义乌厂家</td>\n",
       "      <td>0.58</td>\n",
       "      <td>12</td>\n",
       "    </tr>\n",
       "    <tr>\n",
       "      <td>1</td>\n",
       "      <td>21407300627014900</td>\n",
       "      <td>1425</td>\n",
       "      <td>58.51</td>\n",
       "      <td>0.0</td>\n",
       "      <td>0</td>\n",
       "      <td>58.51</td>\n",
       "      <td>0</td>\n",
       "      <td>58.51</td>\n",
       "      <td>0</td>\n",
       "      <td>交易成功</td>\n",
       "      <td>...</td>\n",
       "      <td>0</td>\n",
       "      <td>1</td>\n",
       "      <td>0</td>\n",
       "      <td>0</td>\n",
       "      <td>0</td>\n",
       "      <td>0</td>\n",
       "      <td>0</td>\n",
       "      <td>特价5号AA普通干电池 电动玩具配件 厂家直销批</td>\n",
       "      <td>1.00</td>\n",
       "      <td>20</td>\n",
       "    </tr>\n",
       "  </tbody>\n",
       "</table>\n",
       "<p>2 rows × 110 columns</p>\n",
       "</div>"
      ],
      "text/plain": [
       "                订单编号  买家会员名  买家应付货款  买家应付邮费  买家支付积分    总金额  返点积分  买家实际支付金额  \\\n",
       "0  21407300627014900   1425   58.51     0.0       0  58.51     0     58.51   \n",
       "1  21407300627014900   1425   58.51     0.0       0  58.51     0     58.51   \n",
       "\n",
       "   买家实际支付积分  订单状态  ...  宝贝种类_49 宝贝种类_5 宝贝种类_50 宝贝种类_6 宝贝种类_7 宝贝种类_8 宝贝种类_9  \\\n",
       "0         0  交易成功  ...        0      1       0      0      0      0      0   \n",
       "1         0  交易成功  ...        0      1       0      0      0      0      0   \n",
       "\n",
       "                              标题    价格  购买数量  \n",
       "0  发光玩具批发光纤手指灯闪光夜市热卖货源儿童玩具地摊义乌厂家  0.58    12  \n",
       "1       特价5号AA普通干电池 电动玩具配件 厂家直销批  1.00    20  \n",
       "\n",
       "[2 rows x 110 columns]"
      ]
     },
     "execution_count": 194,
     "metadata": {},
     "output_type": "execute_result"
    }
   ],
   "source": [
    "user_items = pd.merge(order,order_detail,how='left',on='订单编号')\n",
    "user_items.head(2)"
   ]
  },
  {
   "cell_type": "code",
   "execution_count": 195,
   "metadata": {
    "ExecuteTime": {
     "end_time": "2020-03-09T17:14:44.446523Z",
     "start_time": "2020-03-09T17:14:44.390558Z"
    }
   },
   "outputs": [
    {
     "data": {
      "text/html": [
       "<div>\n",
       "<style scoped>\n",
       "    .dataframe tbody tr th:only-of-type {\n",
       "        vertical-align: middle;\n",
       "    }\n",
       "\n",
       "    .dataframe tbody tr th {\n",
       "        vertical-align: top;\n",
       "    }\n",
       "\n",
       "    .dataframe thead th {\n",
       "        text-align: right;\n",
       "    }\n",
       "</style>\n",
       "<table border=\"1\" class=\"dataframe\">\n",
       "  <thead>\n",
       "    <tr style=\"text-align: right;\">\n",
       "      <th></th>\n",
       "      <th>买家会员名</th>\n",
       "      <th>标题</th>\n",
       "    </tr>\n",
       "  </thead>\n",
       "  <tbody>\n",
       "    <tr>\n",
       "      <td>0</td>\n",
       "      <td>1425</td>\n",
       "      <td>发光玩具批发光纤手指灯闪光夜市热卖货源儿童玩具地摊义乌厂家</td>\n",
       "    </tr>\n",
       "    <tr>\n",
       "      <td>1</td>\n",
       "      <td>1425</td>\n",
       "      <td>特价5号AA普通干电池 电动玩具配件 厂家直销批</td>\n",
       "    </tr>\n",
       "  </tbody>\n",
       "</table>\n",
       "</div>"
      ],
      "text/plain": [
       "   买家会员名                             标题\n",
       "0   1425  发光玩具批发光纤手指灯闪光夜市热卖货源儿童玩具地摊义乌厂家\n",
       "1   1425       特价5号AA普通干电池 电动玩具配件 厂家直销批"
      ]
     },
     "execution_count": 195,
     "metadata": {},
     "output_type": "execute_result"
    }
   ],
   "source": [
    "user_items = user_items[['买家会员名','标题']]\n",
    "user_items.head(2)"
   ]
  },
  {
   "cell_type": "code",
   "execution_count": 196,
   "metadata": {
    "ExecuteTime": {
     "end_time": "2020-03-09T17:15:03.125997Z",
     "start_time": "2020-03-09T17:15:03.111006Z"
    }
   },
   "outputs": [
    {
     "data": {
      "text/html": [
       "<div>\n",
       "<style scoped>\n",
       "    .dataframe tbody tr th:only-of-type {\n",
       "        vertical-align: middle;\n",
       "    }\n",
       "\n",
       "    .dataframe tbody tr th {\n",
       "        vertical-align: top;\n",
       "    }\n",
       "\n",
       "    .dataframe thead th {\n",
       "        text-align: right;\n",
       "    }\n",
       "</style>\n",
       "<table border=\"1\" class=\"dataframe\">\n",
       "  <thead>\n",
       "    <tr style=\"text-align: right;\">\n",
       "      <th></th>\n",
       "      <th>买家会员名</th>\n",
       "      <th>标题</th>\n",
       "      <th>购买次数</th>\n",
       "    </tr>\n",
       "  </thead>\n",
       "  <tbody>\n",
       "    <tr>\n",
       "      <td>0</td>\n",
       "      <td>1425</td>\n",
       "      <td>发光玩具批发光纤手指灯闪光夜市热卖货源儿童玩具地摊义乌厂家</td>\n",
       "      <td>1</td>\n",
       "    </tr>\n",
       "    <tr>\n",
       "      <td>1</td>\n",
       "      <td>1425</td>\n",
       "      <td>特价5号AA普通干电池 电动玩具配件 厂家直销批</td>\n",
       "      <td>1</td>\n",
       "    </tr>\n",
       "  </tbody>\n",
       "</table>\n",
       "</div>"
      ],
      "text/plain": [
       "   买家会员名                             标题  购买次数\n",
       "0   1425  发光玩具批发光纤手指灯闪光夜市热卖货源儿童玩具地摊义乌厂家     1\n",
       "1   1425       特价5号AA普通干电池 电动玩具配件 厂家直销批     1"
      ]
     },
     "execution_count": 196,
     "metadata": {},
     "output_type": "execute_result"
    }
   ],
   "source": [
    "user_items[\"购买次数\"]=1\n",
    "user_items.head(2)"
   ]
  },
  {
   "cell_type": "code",
   "execution_count": 197,
   "metadata": {
    "ExecuteTime": {
     "end_time": "2020-03-09T17:15:36.167548Z",
     "start_time": "2020-03-09T17:15:35.814769Z"
    }
   },
   "outputs": [
    {
     "data": {
      "text/html": [
       "<div>\n",
       "<style scoped>\n",
       "    .dataframe tbody tr th:only-of-type {\n",
       "        vertical-align: middle;\n",
       "    }\n",
       "\n",
       "    .dataframe tbody tr th {\n",
       "        vertical-align: top;\n",
       "    }\n",
       "\n",
       "    .dataframe thead th {\n",
       "        text-align: right;\n",
       "    }\n",
       "</style>\n",
       "<table border=\"1\" class=\"dataframe\">\n",
       "  <thead>\n",
       "    <tr style=\"text-align: right;\">\n",
       "      <th>标题</th>\n",
       "      <th>0-1岁婴幼儿摇铃3-6个月宝宝拼接动物手摇铃牙胶男女孩玩具袋装</th>\n",
       "      <th>10元以下儿童小玩具批发创意棒棒糖发光棒女孩闪光棒夜市地摊货源</th>\n",
       "      <th>2017创意发光玩具七彩闪光飞轮拉哨旋转男孩儿童玩具地摊货源批发</th>\n",
       "      <th>2017创意台球桌小玩具儿童礼物男孩义乌玩具批发地摊货源免邮好玩</th>\n",
       "      <th>2017创意惯性工程车推土机男孩儿童玩具车批发新奇礼物地摊热卖</th>\n",
       "      <th>2017创意新款惯性工程车 槽罐水泥车汽车男生礼物儿童玩具车批发</th>\n",
       "      <th>2017创意新款拉线110警车好玩的儿童义乌地摊货源热卖玩具车批发</th>\n",
       "      <th>2017创意新款磁性钓鱼玩具 桶装早教益智儿童玩具批发地摊货免邮</th>\n",
       "      <th>2017创意新款音乐枪猴子电动枪满天星发光枪儿童玩具地摊货批发</th>\n",
       "      <th>2017新品创意发条玩具上链嘻哈猴地摊热卖幼儿园礼品儿童玩具批发</th>\n",
       "      <th>...</th>\n",
       "      <th>益智拼装积木玩具卡通动物乐园系列3-6岁儿童早教认知大颗粒积木</th>\n",
       "      <th>磁性钓鱼套装益智儿童钓鱼玩具小猫宝宝钓鱼池洗澡戏水男孩1-3岁</th>\n",
       "      <th>经典发条玩具会跑会跳创意上链发条玩具动物儿童好玩的地摊货批发</th>\n",
       "      <th>美食过家家创意儿童玩具益智早教宝宝礼物女生玩具地摊货热卖批发</th>\n",
       "      <th>苹果磁性写字板画板 热销幼儿园礼品六一节儿童地摊玩具货源批发</th>\n",
       "      <th>过家家切切乐礼盒套装女孩厨房玩具儿童礼物宝宝做饭仿真厨具餐具</th>\n",
       "      <th>过家家厨房玩具仿真小家电电动热卖单只装迷你儿童玩具女孩童创意</th>\n",
       "      <th>迷你儿童玩具推土机工程车新奇特挖机益智儿童幼儿园礼品玩具批发</th>\n",
       "      <th>遥控坦克车越野车玩具军事模型可充电动汽车大炮儿童男孩3-6周岁</th>\n",
       "      <th>遥控警车可充电儿童电动玩具车大方向盘重力感应漂移赛车男孩礼物</th>\n",
       "    </tr>\n",
       "    <tr>\n",
       "      <th>买家会员名</th>\n",
       "      <th></th>\n",
       "      <th></th>\n",
       "      <th></th>\n",
       "      <th></th>\n",
       "      <th></th>\n",
       "      <th></th>\n",
       "      <th></th>\n",
       "      <th></th>\n",
       "      <th></th>\n",
       "      <th></th>\n",
       "      <th></th>\n",
       "      <th></th>\n",
       "      <th></th>\n",
       "      <th></th>\n",
       "      <th></th>\n",
       "      <th></th>\n",
       "      <th></th>\n",
       "      <th></th>\n",
       "      <th></th>\n",
       "      <th></th>\n",
       "      <th></th>\n",
       "    </tr>\n",
       "  </thead>\n",
       "  <tbody>\n",
       "    <tr>\n",
       "      <td>0</td>\n",
       "      <td>0.0</td>\n",
       "      <td>0.0</td>\n",
       "      <td>0.0</td>\n",
       "      <td>0.0</td>\n",
       "      <td>0.0</td>\n",
       "      <td>0.0</td>\n",
       "      <td>0.0</td>\n",
       "      <td>0.0</td>\n",
       "      <td>0.0</td>\n",
       "      <td>0.0</td>\n",
       "      <td>...</td>\n",
       "      <td>0.0</td>\n",
       "      <td>0.0</td>\n",
       "      <td>0.0</td>\n",
       "      <td>0.0</td>\n",
       "      <td>0.0</td>\n",
       "      <td>0.0</td>\n",
       "      <td>0.0</td>\n",
       "      <td>0.0</td>\n",
       "      <td>0.0</td>\n",
       "      <td>0.0</td>\n",
       "    </tr>\n",
       "    <tr>\n",
       "      <td>1</td>\n",
       "      <td>0.0</td>\n",
       "      <td>0.0</td>\n",
       "      <td>0.0</td>\n",
       "      <td>0.0</td>\n",
       "      <td>0.0</td>\n",
       "      <td>0.0</td>\n",
       "      <td>0.0</td>\n",
       "      <td>0.0</td>\n",
       "      <td>0.0</td>\n",
       "      <td>0.0</td>\n",
       "      <td>...</td>\n",
       "      <td>0.0</td>\n",
       "      <td>0.0</td>\n",
       "      <td>0.0</td>\n",
       "      <td>0.0</td>\n",
       "      <td>0.0</td>\n",
       "      <td>0.0</td>\n",
       "      <td>0.0</td>\n",
       "      <td>0.0</td>\n",
       "      <td>0.0</td>\n",
       "      <td>0.0</td>\n",
       "    </tr>\n",
       "    <tr>\n",
       "      <td>2</td>\n",
       "      <td>0.0</td>\n",
       "      <td>0.0</td>\n",
       "      <td>0.0</td>\n",
       "      <td>0.0</td>\n",
       "      <td>0.0</td>\n",
       "      <td>0.0</td>\n",
       "      <td>0.0</td>\n",
       "      <td>0.0</td>\n",
       "      <td>0.0</td>\n",
       "      <td>0.0</td>\n",
       "      <td>...</td>\n",
       "      <td>0.0</td>\n",
       "      <td>0.0</td>\n",
       "      <td>0.0</td>\n",
       "      <td>0.0</td>\n",
       "      <td>0.0</td>\n",
       "      <td>0.0</td>\n",
       "      <td>0.0</td>\n",
       "      <td>0.0</td>\n",
       "      <td>0.0</td>\n",
       "      <td>0.0</td>\n",
       "    </tr>\n",
       "    <tr>\n",
       "      <td>3</td>\n",
       "      <td>0.0</td>\n",
       "      <td>0.0</td>\n",
       "      <td>0.0</td>\n",
       "      <td>0.0</td>\n",
       "      <td>0.0</td>\n",
       "      <td>0.0</td>\n",
       "      <td>0.0</td>\n",
       "      <td>0.0</td>\n",
       "      <td>0.0</td>\n",
       "      <td>0.0</td>\n",
       "      <td>...</td>\n",
       "      <td>0.0</td>\n",
       "      <td>0.0</td>\n",
       "      <td>0.0</td>\n",
       "      <td>0.0</td>\n",
       "      <td>0.0</td>\n",
       "      <td>0.0</td>\n",
       "      <td>0.0</td>\n",
       "      <td>0.0</td>\n",
       "      <td>0.0</td>\n",
       "      <td>0.0</td>\n",
       "    </tr>\n",
       "    <tr>\n",
       "      <td>4</td>\n",
       "      <td>0.0</td>\n",
       "      <td>0.0</td>\n",
       "      <td>0.0</td>\n",
       "      <td>0.0</td>\n",
       "      <td>0.0</td>\n",
       "      <td>0.0</td>\n",
       "      <td>0.0</td>\n",
       "      <td>0.0</td>\n",
       "      <td>0.0</td>\n",
       "      <td>0.0</td>\n",
       "      <td>...</td>\n",
       "      <td>0.0</td>\n",
       "      <td>0.0</td>\n",
       "      <td>0.0</td>\n",
       "      <td>0.0</td>\n",
       "      <td>0.0</td>\n",
       "      <td>0.0</td>\n",
       "      <td>0.0</td>\n",
       "      <td>0.0</td>\n",
       "      <td>0.0</td>\n",
       "      <td>0.0</td>\n",
       "    </tr>\n",
       "  </tbody>\n",
       "</table>\n",
       "<p>5 rows × 327 columns</p>\n",
       "</div>"
      ],
      "text/plain": [
       "标题     0-1岁婴幼儿摇铃3-6个月宝宝拼接动物手摇铃牙胶男女孩玩具袋装  10元以下儿童小玩具批发创意棒棒糖发光棒女孩闪光棒夜市地摊货源  \\\n",
       "买家会员名                                                                      \n",
       "0                                   0.0                              0.0   \n",
       "1                                   0.0                              0.0   \n",
       "2                                   0.0                              0.0   \n",
       "3                                   0.0                              0.0   \n",
       "4                                   0.0                              0.0   \n",
       "\n",
       "标题     2017创意发光玩具七彩闪光飞轮拉哨旋转男孩儿童玩具地摊货源批发  2017创意台球桌小玩具儿童礼物男孩义乌玩具批发地摊货源免邮好玩  \\\n",
       "买家会员名                                                                       \n",
       "0                                   0.0                               0.0   \n",
       "1                                   0.0                               0.0   \n",
       "2                                   0.0                               0.0   \n",
       "3                                   0.0                               0.0   \n",
       "4                                   0.0                               0.0   \n",
       "\n",
       "标题     2017创意惯性工程车推土机男孩儿童玩具车批发新奇礼物地摊热卖  2017创意新款惯性工程车 槽罐水泥车汽车男生礼物儿童玩具车批发  \\\n",
       "买家会员名                                                                      \n",
       "0                                  0.0                               0.0   \n",
       "1                                  0.0                               0.0   \n",
       "2                                  0.0                               0.0   \n",
       "3                                  0.0                               0.0   \n",
       "4                                  0.0                               0.0   \n",
       "\n",
       "标题     2017创意新款拉线110警车好玩的儿童义乌地摊货源热卖玩具车批发  2017创意新款磁性钓鱼玩具 桶装早教益智儿童玩具批发地摊货免邮  \\\n",
       "买家会员名                                                                        \n",
       "0                                    0.0                               0.0   \n",
       "1                                    0.0                               0.0   \n",
       "2                                    0.0                               0.0   \n",
       "3                                    0.0                               0.0   \n",
       "4                                    0.0                               0.0   \n",
       "\n",
       "标题     2017创意新款音乐枪猴子电动枪满天星发光枪儿童玩具地摊货批发  2017新品创意发条玩具上链嘻哈猴地摊热卖幼儿园礼品儿童玩具批发  ...  \\\n",
       "买家会员名                                                                     ...   \n",
       "0                                  0.0                               0.0  ...   \n",
       "1                                  0.0                               0.0  ...   \n",
       "2                                  0.0                               0.0  ...   \n",
       "3                                  0.0                               0.0  ...   \n",
       "4                                  0.0                               0.0  ...   \n",
       "\n",
       "标题     益智拼装积木玩具卡通动物乐园系列3-6岁儿童早教认知大颗粒积木  磁性钓鱼套装益智儿童钓鱼玩具小猫宝宝钓鱼池洗澡戏水男孩1-3岁  \\\n",
       "买家会员名                                                                     \n",
       "0                                  0.0                              0.0   \n",
       "1                                  0.0                              0.0   \n",
       "2                                  0.0                              0.0   \n",
       "3                                  0.0                              0.0   \n",
       "4                                  0.0                              0.0   \n",
       "\n",
       "标题     经典发条玩具会跑会跳创意上链发条玩具动物儿童好玩的地摊货批发  美食过家家创意儿童玩具益智早教宝宝礼物女生玩具地摊货热卖批发  \\\n",
       "买家会员名                                                                   \n",
       "0                                 0.0                             0.0   \n",
       "1                                 0.0                             0.0   \n",
       "2                                 0.0                             0.0   \n",
       "3                                 0.0                             0.0   \n",
       "4                                 0.0                             0.0   \n",
       "\n",
       "标题     苹果磁性写字板画板 热销幼儿园礼品六一节儿童地摊玩具货源批发  过家家切切乐礼盒套装女孩厨房玩具儿童礼物宝宝做饭仿真厨具餐具  \\\n",
       "买家会员名                                                                   \n",
       "0                                 0.0                             0.0   \n",
       "1                                 0.0                             0.0   \n",
       "2                                 0.0                             0.0   \n",
       "3                                 0.0                             0.0   \n",
       "4                                 0.0                             0.0   \n",
       "\n",
       "标题     过家家厨房玩具仿真小家电电动热卖单只装迷你儿童玩具女孩童创意  迷你儿童玩具推土机工程车新奇特挖机益智儿童幼儿园礼品玩具批发  \\\n",
       "买家会员名                                                                   \n",
       "0                                 0.0                             0.0   \n",
       "1                                 0.0                             0.0   \n",
       "2                                 0.0                             0.0   \n",
       "3                                 0.0                             0.0   \n",
       "4                                 0.0                             0.0   \n",
       "\n",
       "标题     遥控坦克车越野车玩具军事模型可充电动汽车大炮儿童男孩3-6周岁  遥控警车可充电儿童电动玩具车大方向盘重力感应漂移赛车男孩礼物  \n",
       "买家会员名                                                                   \n",
       "0                                  0.0                             0.0  \n",
       "1                                  0.0                             0.0  \n",
       "2                                  0.0                             0.0  \n",
       "3                                  0.0                             0.0  \n",
       "4                                  0.0                             0.0  \n",
       "\n",
       "[5 rows x 327 columns]"
      ]
     },
     "execution_count": 197,
     "metadata": {},
     "output_type": "execute_result"
    }
   ],
   "source": [
    "user_items=user_items.pivot_table(\"购买次数\",index=\"买家会员名\",columns=\"标题\").fillna(0)\n",
    "user_items.head()"
   ]
  },
  {
   "cell_type": "code",
   "execution_count": 198,
   "metadata": {
    "ExecuteTime": {
     "end_time": "2020-03-09T17:17:34.858076Z",
     "start_time": "2020-03-09T17:17:34.686183Z"
    }
   },
   "outputs": [
    {
     "data": {
      "text/html": [
       "<div>\n",
       "<style scoped>\n",
       "    .dataframe tbody tr th:only-of-type {\n",
       "        vertical-align: middle;\n",
       "    }\n",
       "\n",
       "    .dataframe tbody tr th {\n",
       "        vertical-align: top;\n",
       "    }\n",
       "\n",
       "    .dataframe thead th {\n",
       "        text-align: right;\n",
       "    }\n",
       "</style>\n",
       "<table border=\"1\" class=\"dataframe\">\n",
       "  <thead>\n",
       "    <tr style=\"text-align: right;\">\n",
       "      <th></th>\n",
       "      <th>买家会员名</th>\n",
       "      <th>标题</th>\n",
       "      <th>购买次数</th>\n",
       "    </tr>\n",
       "  </thead>\n",
       "  <tbody>\n",
       "    <tr>\n",
       "      <td>0</td>\n",
       "      <td>0</td>\n",
       "      <td>0-1岁婴幼儿摇铃3-6个月宝宝拼接动物手摇铃牙胶男女孩玩具袋装</td>\n",
       "      <td>0.0</td>\n",
       "    </tr>\n",
       "    <tr>\n",
       "      <td>1</td>\n",
       "      <td>0</td>\n",
       "      <td>10元以下儿童小玩具批发创意棒棒糖发光棒女孩闪光棒夜市地摊货源</td>\n",
       "      <td>0.0</td>\n",
       "    </tr>\n",
       "    <tr>\n",
       "      <td>2</td>\n",
       "      <td>0</td>\n",
       "      <td>2017创意发光玩具七彩闪光飞轮拉哨旋转男孩儿童玩具地摊货源批发</td>\n",
       "      <td>0.0</td>\n",
       "    </tr>\n",
       "    <tr>\n",
       "      <td>3</td>\n",
       "      <td>0</td>\n",
       "      <td>2017创意台球桌小玩具儿童礼物男孩义乌玩具批发地摊货源免邮好玩</td>\n",
       "      <td>0.0</td>\n",
       "    </tr>\n",
       "    <tr>\n",
       "      <td>4</td>\n",
       "      <td>0</td>\n",
       "      <td>2017创意惯性工程车推土机男孩儿童玩具车批发新奇礼物地摊热卖</td>\n",
       "      <td>0.0</td>\n",
       "    </tr>\n",
       "  </tbody>\n",
       "</table>\n",
       "</div>"
      ],
      "text/plain": [
       "   买家会员名                                标题  购买次数\n",
       "0      0  0-1岁婴幼儿摇铃3-6个月宝宝拼接动物手摇铃牙胶男女孩玩具袋装   0.0\n",
       "1      0   10元以下儿童小玩具批发创意棒棒糖发光棒女孩闪光棒夜市地摊货源   0.0\n",
       "2      0  2017创意发光玩具七彩闪光飞轮拉哨旋转男孩儿童玩具地摊货源批发   0.0\n",
       "3      0  2017创意台球桌小玩具儿童礼物男孩义乌玩具批发地摊货源免邮好玩   0.0\n",
       "4      0   2017创意惯性工程车推土机男孩儿童玩具车批发新奇礼物地摊热卖   0.0"
      ]
     },
     "execution_count": 198,
     "metadata": {},
     "output_type": "execute_result"
    }
   ],
   "source": [
    "user_items=user_items.stack().reset_index()\n",
    "user_items.rename(columns={0:'购买次数'},inplace=True)\n",
    "user_items.head()"
   ]
  },
  {
   "cell_type": "markdown",
   "metadata": {},
   "source": [
    "## 用户-未购买商品表"
   ]
  },
  {
   "cell_type": "code",
   "execution_count": 199,
   "metadata": {
    "ExecuteTime": {
     "end_time": "2020-03-09T17:19:45.775717Z",
     "start_time": "2020-03-09T17:19:45.688771Z"
    }
   },
   "outputs": [
    {
     "data": {
      "text/html": [
       "<div>\n",
       "<style scoped>\n",
       "    .dataframe tbody tr th:only-of-type {\n",
       "        vertical-align: middle;\n",
       "    }\n",
       "\n",
       "    .dataframe tbody tr th {\n",
       "        vertical-align: top;\n",
       "    }\n",
       "\n",
       "    .dataframe thead th {\n",
       "        text-align: right;\n",
       "    }\n",
       "</style>\n",
       "<table border=\"1\" class=\"dataframe\">\n",
       "  <thead>\n",
       "    <tr style=\"text-align: right;\">\n",
       "      <th></th>\n",
       "      <th>买家会员名</th>\n",
       "      <th>标题</th>\n",
       "      <th>购买次数</th>\n",
       "    </tr>\n",
       "  </thead>\n",
       "  <tbody>\n",
       "    <tr>\n",
       "      <td>0</td>\n",
       "      <td>0</td>\n",
       "      <td>0-1岁婴幼儿摇铃3-6个月宝宝拼接动物手摇铃牙胶男女孩玩具袋装</td>\n",
       "      <td>0.0</td>\n",
       "    </tr>\n",
       "    <tr>\n",
       "      <td>1</td>\n",
       "      <td>0</td>\n",
       "      <td>10元以下儿童小玩具批发创意棒棒糖发光棒女孩闪光棒夜市地摊货源</td>\n",
       "      <td>0.0</td>\n",
       "    </tr>\n",
       "  </tbody>\n",
       "</table>\n",
       "</div>"
      ],
      "text/plain": [
       "   买家会员名                                标题  购买次数\n",
       "0      0  0-1岁婴幼儿摇铃3-6个月宝宝拼接动物手摇铃牙胶男女孩玩具袋装   0.0\n",
       "1      0   10元以下儿童小玩具批发创意棒棒糖发光棒女孩闪光棒夜市地摊货源   0.0"
      ]
     },
     "execution_count": 199,
     "metadata": {},
     "output_type": "execute_result"
    }
   ],
   "source": [
    "user_items_notbuy=user_items[user_items.购买次数==0]\n",
    "user_items_notbuy.head(2)"
   ]
  },
  {
   "cell_type": "code",
   "execution_count": 200,
   "metadata": {
    "ExecuteTime": {
     "end_time": "2020-03-09T17:20:02.922309Z",
     "start_time": "2020-03-09T17:20:02.776400Z"
    }
   },
   "outputs": [
    {
     "data": {
      "text/html": [
       "<div>\n",
       "<style scoped>\n",
       "    .dataframe tbody tr th:only-of-type {\n",
       "        vertical-align: middle;\n",
       "    }\n",
       "\n",
       "    .dataframe tbody tr th {\n",
       "        vertical-align: top;\n",
       "    }\n",
       "\n",
       "    .dataframe thead th {\n",
       "        text-align: right;\n",
       "    }\n",
       "</style>\n",
       "<table border=\"1\" class=\"dataframe\">\n",
       "  <thead>\n",
       "    <tr style=\"text-align: right;\">\n",
       "      <th></th>\n",
       "      <th>count</th>\n",
       "      <th>mean</th>\n",
       "      <th>std</th>\n",
       "      <th>min</th>\n",
       "      <th>25%</th>\n",
       "      <th>50%</th>\n",
       "      <th>75%</th>\n",
       "      <th>max</th>\n",
       "    </tr>\n",
       "  </thead>\n",
       "  <tbody>\n",
       "    <tr>\n",
       "      <td>买家会员名</td>\n",
       "      <td>1098365.0</td>\n",
       "      <td>1704.921767</td>\n",
       "      <td>984.810587</td>\n",
       "      <td>0.0</td>\n",
       "      <td>852.0</td>\n",
       "      <td>1705.0</td>\n",
       "      <td>2558.0</td>\n",
       "      <td>3410.0</td>\n",
       "    </tr>\n",
       "    <tr>\n",
       "      <td>购买次数</td>\n",
       "      <td>1098365.0</td>\n",
       "      <td>0.000000</td>\n",
       "      <td>0.000000</td>\n",
       "      <td>0.0</td>\n",
       "      <td>0.0</td>\n",
       "      <td>0.0</td>\n",
       "      <td>0.0</td>\n",
       "      <td>0.0</td>\n",
       "    </tr>\n",
       "  </tbody>\n",
       "</table>\n",
       "</div>"
      ],
      "text/plain": [
       "           count         mean         std  min    25%     50%     75%     max\n",
       "买家会员名  1098365.0  1704.921767  984.810587  0.0  852.0  1705.0  2558.0  3410.0\n",
       "购买次数   1098365.0     0.000000    0.000000  0.0    0.0     0.0     0.0     0.0"
      ]
     },
     "execution_count": 200,
     "metadata": {},
     "output_type": "execute_result"
    }
   ],
   "source": [
    "user_items_notbuy.describe().T"
   ]
  },
  {
   "cell_type": "code",
   "execution_count": 201,
   "metadata": {
    "ExecuteTime": {
     "end_time": "2020-03-09T17:20:21.937726Z",
     "start_time": "2020-03-09T17:20:21.930729Z"
    }
   },
   "outputs": [],
   "source": [
    "user_items_notbuy.reset_index(drop=True,inplace=True)"
   ]
  },
  {
   "cell_type": "code",
   "execution_count": 202,
   "metadata": {
    "ExecuteTime": {
     "end_time": "2020-03-09T17:20:33.194996Z",
     "start_time": "2020-03-09T17:20:33.158019Z"
    }
   },
   "outputs": [
    {
     "data": {
      "text/html": [
       "<div>\n",
       "<style scoped>\n",
       "    .dataframe tbody tr th:only-of-type {\n",
       "        vertical-align: middle;\n",
       "    }\n",
       "\n",
       "    .dataframe tbody tr th {\n",
       "        vertical-align: top;\n",
       "    }\n",
       "\n",
       "    .dataframe thead th {\n",
       "        text-align: right;\n",
       "    }\n",
       "</style>\n",
       "<table border=\"1\" class=\"dataframe\">\n",
       "  <thead>\n",
       "    <tr style=\"text-align: right;\">\n",
       "      <th></th>\n",
       "      <th>买家会员名</th>\n",
       "      <th>标题</th>\n",
       "    </tr>\n",
       "  </thead>\n",
       "  <tbody>\n",
       "    <tr>\n",
       "      <td>0</td>\n",
       "      <td>0</td>\n",
       "      <td>0-1岁婴幼儿摇铃3-6个月宝宝拼接动物手摇铃牙胶男女孩玩具袋装</td>\n",
       "    </tr>\n",
       "    <tr>\n",
       "      <td>1</td>\n",
       "      <td>0</td>\n",
       "      <td>10元以下儿童小玩具批发创意棒棒糖发光棒女孩闪光棒夜市地摊货源</td>\n",
       "    </tr>\n",
       "    <tr>\n",
       "      <td>2</td>\n",
       "      <td>0</td>\n",
       "      <td>2017创意发光玩具七彩闪光飞轮拉哨旋转男孩儿童玩具地摊货源批发</td>\n",
       "    </tr>\n",
       "    <tr>\n",
       "      <td>3</td>\n",
       "      <td>0</td>\n",
       "      <td>2017创意台球桌小玩具儿童礼物男孩义乌玩具批发地摊货源免邮好玩</td>\n",
       "    </tr>\n",
       "    <tr>\n",
       "      <td>4</td>\n",
       "      <td>0</td>\n",
       "      <td>2017创意惯性工程车推土机男孩儿童玩具车批发新奇礼物地摊热卖</td>\n",
       "    </tr>\n",
       "  </tbody>\n",
       "</table>\n",
       "</div>"
      ],
      "text/plain": [
       "   买家会员名                                标题\n",
       "0      0  0-1岁婴幼儿摇铃3-6个月宝宝拼接动物手摇铃牙胶男女孩玩具袋装\n",
       "1      0   10元以下儿童小玩具批发创意棒棒糖发光棒女孩闪光棒夜市地摊货源\n",
       "2      0  2017创意发光玩具七彩闪光飞轮拉哨旋转男孩儿童玩具地摊货源批发\n",
       "3      0  2017创意台球桌小玩具儿童礼物男孩义乌玩具批发地摊货源免邮好玩\n",
       "4      0   2017创意惯性工程车推土机男孩儿童玩具车批发新奇礼物地摊热卖"
      ]
     },
     "execution_count": 202,
     "metadata": {},
     "output_type": "execute_result"
    }
   ],
   "source": [
    "user_items_notbuy.drop(\"购买次数\",axis=1,inplace=True)\n",
    "user_items_notbuy.head()"
   ]
  },
  {
   "cell_type": "markdown",
   "metadata": {},
   "source": [
    "## 用户-未购买-类群表"
   ]
  },
  {
   "cell_type": "code",
   "execution_count": 223,
   "metadata": {
    "ExecuteTime": {
     "end_time": "2020-03-09T17:41:18.592184Z",
     "start_time": "2020-03-09T17:41:18.582194Z"
    }
   },
   "outputs": [
    {
     "data": {
      "text/plain": [
       "买家会员名\n",
       "0       0\n",
       "1       0\n",
       "2       0\n",
       "3       0\n",
       "4       0\n",
       "       ..\n",
       "3406    3\n",
       "3407    0\n",
       "3408    0\n",
       "3409    0\n",
       "3410    0\n",
       "Name: 类别, Length: 3318, dtype: int32"
      ]
     },
     "execution_count": 223,
     "metadata": {},
     "output_type": "execute_result"
    }
   ],
   "source": [
    "clusters=order_tag[\"类别\"]\n",
    "clusters"
   ]
  },
  {
   "cell_type": "code",
   "execution_count": 224,
   "metadata": {
    "ExecuteTime": {
     "end_time": "2020-03-09T17:41:42.397715Z",
     "start_time": "2020-03-09T17:41:42.075903Z"
    },
    "scrolled": true
   },
   "outputs": [
    {
     "data": {
      "text/html": [
       "<div>\n",
       "<style scoped>\n",
       "    .dataframe tbody tr th:only-of-type {\n",
       "        vertical-align: middle;\n",
       "    }\n",
       "\n",
       "    .dataframe tbody tr th {\n",
       "        vertical-align: top;\n",
       "    }\n",
       "\n",
       "    .dataframe thead th {\n",
       "        text-align: right;\n",
       "    }\n",
       "</style>\n",
       "<table border=\"1\" class=\"dataframe\">\n",
       "  <thead>\n",
       "    <tr style=\"text-align: right;\">\n",
       "      <th></th>\n",
       "      <th>买家会员名</th>\n",
       "      <th>标题</th>\n",
       "      <th>类别</th>\n",
       "    </tr>\n",
       "  </thead>\n",
       "  <tbody>\n",
       "    <tr>\n",
       "      <td>0</td>\n",
       "      <td>0</td>\n",
       "      <td>0-1岁婴幼儿摇铃3-6个月宝宝拼接动物手摇铃牙胶男女孩玩具袋装</td>\n",
       "      <td>0.0</td>\n",
       "    </tr>\n",
       "    <tr>\n",
       "      <td>1</td>\n",
       "      <td>0</td>\n",
       "      <td>10元以下儿童小玩具批发创意棒棒糖发光棒女孩闪光棒夜市地摊货源</td>\n",
       "      <td>0.0</td>\n",
       "    </tr>\n",
       "    <tr>\n",
       "      <td>2</td>\n",
       "      <td>0</td>\n",
       "      <td>2017创意发光玩具七彩闪光飞轮拉哨旋转男孩儿童玩具地摊货源批发</td>\n",
       "      <td>0.0</td>\n",
       "    </tr>\n",
       "    <tr>\n",
       "      <td>3</td>\n",
       "      <td>0</td>\n",
       "      <td>2017创意台球桌小玩具儿童礼物男孩义乌玩具批发地摊货源免邮好玩</td>\n",
       "      <td>0.0</td>\n",
       "    </tr>\n",
       "    <tr>\n",
       "      <td>4</td>\n",
       "      <td>0</td>\n",
       "      <td>2017创意惯性工程车推土机男孩儿童玩具车批发新奇礼物地摊热卖</td>\n",
       "      <td>0.0</td>\n",
       "    </tr>\n",
       "  </tbody>\n",
       "</table>\n",
       "</div>"
      ],
      "text/plain": [
       "   买家会员名                                标题   类别\n",
       "0      0  0-1岁婴幼儿摇铃3-6个月宝宝拼接动物手摇铃牙胶男女孩玩具袋装  0.0\n",
       "1      0   10元以下儿童小玩具批发创意棒棒糖发光棒女孩闪光棒夜市地摊货源  0.0\n",
       "2      0  2017创意发光玩具七彩闪光飞轮拉哨旋转男孩儿童玩具地摊货源批发  0.0\n",
       "3      0  2017创意台球桌小玩具儿童礼物男孩义乌玩具批发地摊货源免邮好玩  0.0\n",
       "4      0   2017创意惯性工程车推土机男孩儿童玩具车批发新奇礼物地摊热卖  0.0"
      ]
     },
     "execution_count": 224,
     "metadata": {},
     "output_type": "execute_result"
    }
   ],
   "source": [
    "user_itme_notbuy_cluster=pd.merge(user_items_notbuy,clusters,on='买家会员名',how=\"left\")\n",
    "user_itme_notbuy_cluster.head()"
   ]
  },
  {
   "cell_type": "markdown",
   "metadata": {},
   "source": [
    "## 类群-商品-购买次数表\n",
    "\n",
    "对所有类别的会员，根据购买商品次数的信息，统计出不同类别的会员对哪些商品更加偏好"
   ]
  },
  {
   "cell_type": "code",
   "execution_count": 204,
   "metadata": {
    "ExecuteTime": {
     "end_time": "2020-03-09T17:22:25.451772Z",
     "start_time": "2020-03-09T17:22:25.436782Z"
    }
   },
   "outputs": [
    {
     "data": {
      "text/html": [
       "<div>\n",
       "<style scoped>\n",
       "    .dataframe tbody tr th:only-of-type {\n",
       "        vertical-align: middle;\n",
       "    }\n",
       "\n",
       "    .dataframe tbody tr th {\n",
       "        vertical-align: top;\n",
       "    }\n",
       "\n",
       "    .dataframe thead th {\n",
       "        text-align: right;\n",
       "    }\n",
       "</style>\n",
       "<table border=\"1\" class=\"dataframe\">\n",
       "  <thead>\n",
       "    <tr style=\"text-align: right;\">\n",
       "      <th></th>\n",
       "      <th>买家会员名</th>\n",
       "      <th>标题</th>\n",
       "      <th>购买次数</th>\n",
       "    </tr>\n",
       "  </thead>\n",
       "  <tbody>\n",
       "    <tr>\n",
       "      <td>0</td>\n",
       "      <td>0</td>\n",
       "      <td>0-1岁婴幼儿摇铃3-6个月宝宝拼接动物手摇铃牙胶男女孩玩具袋装</td>\n",
       "      <td>0.0</td>\n",
       "    </tr>\n",
       "    <tr>\n",
       "      <td>1</td>\n",
       "      <td>0</td>\n",
       "      <td>10元以下儿童小玩具批发创意棒棒糖发光棒女孩闪光棒夜市地摊货源</td>\n",
       "      <td>0.0</td>\n",
       "    </tr>\n",
       "    <tr>\n",
       "      <td>2</td>\n",
       "      <td>0</td>\n",
       "      <td>2017创意发光玩具七彩闪光飞轮拉哨旋转男孩儿童玩具地摊货源批发</td>\n",
       "      <td>0.0</td>\n",
       "    </tr>\n",
       "    <tr>\n",
       "      <td>3</td>\n",
       "      <td>0</td>\n",
       "      <td>2017创意台球桌小玩具儿童礼物男孩义乌玩具批发地摊货源免邮好玩</td>\n",
       "      <td>0.0</td>\n",
       "    </tr>\n",
       "    <tr>\n",
       "      <td>4</td>\n",
       "      <td>0</td>\n",
       "      <td>2017创意惯性工程车推土机男孩儿童玩具车批发新奇礼物地摊热卖</td>\n",
       "      <td>0.0</td>\n",
       "    </tr>\n",
       "  </tbody>\n",
       "</table>\n",
       "</div>"
      ],
      "text/plain": [
       "   买家会员名                                标题  购买次数\n",
       "0      0  0-1岁婴幼儿摇铃3-6个月宝宝拼接动物手摇铃牙胶男女孩玩具袋装   0.0\n",
       "1      0   10元以下儿童小玩具批发创意棒棒糖发光棒女孩闪光棒夜市地摊货源   0.0\n",
       "2      0  2017创意发光玩具七彩闪光飞轮拉哨旋转男孩儿童玩具地摊货源批发   0.0\n",
       "3      0  2017创意台球桌小玩具儿童礼物男孩义乌玩具批发地摊货源免邮好玩   0.0\n",
       "4      0   2017创意惯性工程车推土机男孩儿童玩具车批发新奇礼物地摊热卖   0.0"
      ]
     },
     "execution_count": 204,
     "metadata": {},
     "output_type": "execute_result"
    }
   ],
   "source": [
    "user_items.head()  \n",
    "\n",
    "# 记录所有会员对所有商品的购买次数"
   ]
  },
  {
   "cell_type": "code",
   "execution_count": 225,
   "metadata": {
    "ExecuteTime": {
     "end_time": "2020-03-09T17:41:57.341808Z",
     "start_time": "2020-03-09T17:41:57.043995Z"
    }
   },
   "outputs": [
    {
     "data": {
      "text/html": [
       "<div>\n",
       "<style scoped>\n",
       "    .dataframe tbody tr th:only-of-type {\n",
       "        vertical-align: middle;\n",
       "    }\n",
       "\n",
       "    .dataframe tbody tr th {\n",
       "        vertical-align: top;\n",
       "    }\n",
       "\n",
       "    .dataframe thead th {\n",
       "        text-align: right;\n",
       "    }\n",
       "</style>\n",
       "<table border=\"1\" class=\"dataframe\">\n",
       "  <thead>\n",
       "    <tr style=\"text-align: right;\">\n",
       "      <th></th>\n",
       "      <th>买家会员名</th>\n",
       "      <th>标题</th>\n",
       "      <th>购买次数</th>\n",
       "      <th>类别</th>\n",
       "    </tr>\n",
       "  </thead>\n",
       "  <tbody>\n",
       "    <tr>\n",
       "      <td>0</td>\n",
       "      <td>0</td>\n",
       "      <td>0-1岁婴幼儿摇铃3-6个月宝宝拼接动物手摇铃牙胶男女孩玩具袋装</td>\n",
       "      <td>0.0</td>\n",
       "      <td>0.0</td>\n",
       "    </tr>\n",
       "    <tr>\n",
       "      <td>1</td>\n",
       "      <td>0</td>\n",
       "      <td>10元以下儿童小玩具批发创意棒棒糖发光棒女孩闪光棒夜市地摊货源</td>\n",
       "      <td>0.0</td>\n",
       "      <td>0.0</td>\n",
       "    </tr>\n",
       "    <tr>\n",
       "      <td>2</td>\n",
       "      <td>0</td>\n",
       "      <td>2017创意发光玩具七彩闪光飞轮拉哨旋转男孩儿童玩具地摊货源批发</td>\n",
       "      <td>0.0</td>\n",
       "      <td>0.0</td>\n",
       "    </tr>\n",
       "    <tr>\n",
       "      <td>3</td>\n",
       "      <td>0</td>\n",
       "      <td>2017创意台球桌小玩具儿童礼物男孩义乌玩具批发地摊货源免邮好玩</td>\n",
       "      <td>0.0</td>\n",
       "      <td>0.0</td>\n",
       "    </tr>\n",
       "    <tr>\n",
       "      <td>4</td>\n",
       "      <td>0</td>\n",
       "      <td>2017创意惯性工程车推土机男孩儿童玩具车批发新奇礼物地摊热卖</td>\n",
       "      <td>0.0</td>\n",
       "      <td>0.0</td>\n",
       "    </tr>\n",
       "  </tbody>\n",
       "</table>\n",
       "</div>"
      ],
      "text/plain": [
       "   买家会员名                                标题  购买次数   类别\n",
       "0      0  0-1岁婴幼儿摇铃3-6个月宝宝拼接动物手摇铃牙胶男女孩玩具袋装   0.0  0.0\n",
       "1      0   10元以下儿童小玩具批发创意棒棒糖发光棒女孩闪光棒夜市地摊货源   0.0  0.0\n",
       "2      0  2017创意发光玩具七彩闪光飞轮拉哨旋转男孩儿童玩具地摊货源批发   0.0  0.0\n",
       "3      0  2017创意台球桌小玩具儿童礼物男孩义乌玩具批发地摊货源免邮好玩   0.0  0.0\n",
       "4      0   2017创意惯性工程车推土机男孩儿童玩具车批发新奇礼物地摊热卖   0.0  0.0"
      ]
     },
     "execution_count": 225,
     "metadata": {},
     "output_type": "execute_result"
    }
   ],
   "source": [
    "user_items_num_cluster=pd.merge(user_items,clusters,on=\"买家会员名\",how=\"left\")\n",
    "user_items_num_cluster.head()"
   ]
  },
  {
   "cell_type": "code",
   "execution_count": 226,
   "metadata": {
    "ExecuteTime": {
     "end_time": "2020-03-09T17:42:03.735252Z",
     "start_time": "2020-03-09T17:42:03.231561Z"
    }
   },
   "outputs": [
    {
     "data": {
      "text/html": [
       "<div>\n",
       "<style scoped>\n",
       "    .dataframe tbody tr th:only-of-type {\n",
       "        vertical-align: middle;\n",
       "    }\n",
       "\n",
       "    .dataframe tbody tr th {\n",
       "        vertical-align: top;\n",
       "    }\n",
       "\n",
       "    .dataframe thead th {\n",
       "        text-align: right;\n",
       "    }\n",
       "</style>\n",
       "<table border=\"1\" class=\"dataframe\">\n",
       "  <thead>\n",
       "    <tr style=\"text-align: right;\">\n",
       "      <th></th>\n",
       "      <th>类别</th>\n",
       "      <th>标题</th>\n",
       "      <th>购买次数</th>\n",
       "    </tr>\n",
       "  </thead>\n",
       "  <tbody>\n",
       "    <tr>\n",
       "      <td>0</td>\n",
       "      <td>0.0</td>\n",
       "      <td>0-1岁婴幼儿摇铃3-6个月宝宝拼接动物手摇铃牙胶男女孩玩具袋装</td>\n",
       "      <td>5.0</td>\n",
       "    </tr>\n",
       "    <tr>\n",
       "      <td>1</td>\n",
       "      <td>0.0</td>\n",
       "      <td>10元以下儿童小玩具批发创意棒棒糖发光棒女孩闪光棒夜市地摊货源</td>\n",
       "      <td>23.0</td>\n",
       "    </tr>\n",
       "    <tr>\n",
       "      <td>2</td>\n",
       "      <td>0.0</td>\n",
       "      <td>2017创意发光玩具七彩闪光飞轮拉哨旋转男孩儿童玩具地摊货源批发</td>\n",
       "      <td>1.0</td>\n",
       "    </tr>\n",
       "    <tr>\n",
       "      <td>3</td>\n",
       "      <td>0.0</td>\n",
       "      <td>2017创意台球桌小玩具儿童礼物男孩义乌玩具批发地摊货源免邮好玩</td>\n",
       "      <td>36.0</td>\n",
       "    </tr>\n",
       "    <tr>\n",
       "      <td>4</td>\n",
       "      <td>0.0</td>\n",
       "      <td>2017创意惯性工程车推土机男孩儿童玩具车批发新奇礼物地摊热卖</td>\n",
       "      <td>7.0</td>\n",
       "    </tr>\n",
       "  </tbody>\n",
       "</table>\n",
       "</div>"
      ],
      "text/plain": [
       "    类别                                标题  购买次数\n",
       "0  0.0  0-1岁婴幼儿摇铃3-6个月宝宝拼接动物手摇铃牙胶男女孩玩具袋装   5.0\n",
       "1  0.0   10元以下儿童小玩具批发创意棒棒糖发光棒女孩闪光棒夜市地摊货源  23.0\n",
       "2  0.0  2017创意发光玩具七彩闪光飞轮拉哨旋转男孩儿童玩具地摊货源批发   1.0\n",
       "3  0.0  2017创意台球桌小玩具儿童礼物男孩义乌玩具批发地摊货源免邮好玩  36.0\n",
       "4  0.0   2017创意惯性工程车推土机男孩儿童玩具车批发新奇礼物地摊热卖   7.0"
      ]
     },
     "execution_count": 226,
     "metadata": {},
     "output_type": "execute_result"
    }
   ],
   "source": [
    "cluster_item_num=user_items_num_cluster.groupby([\"类别\",\"标题\"])[\"购买次数\"].sum().reset_index()\n",
    "cluster_item_num.head()"
   ]
  },
  {
   "cell_type": "markdown",
   "metadata": {},
   "source": [
    "##  用户-商品-类别-购买次数表"
   ]
  },
  {
   "cell_type": "code",
   "execution_count": 227,
   "metadata": {
    "ExecuteTime": {
     "end_time": "2020-03-09T17:42:10.346426Z",
     "start_time": "2020-03-09T17:42:10.333439Z"
    }
   },
   "outputs": [
    {
     "data": {
      "text/html": [
       "<div>\n",
       "<style scoped>\n",
       "    .dataframe tbody tr th:only-of-type {\n",
       "        vertical-align: middle;\n",
       "    }\n",
       "\n",
       "    .dataframe tbody tr th {\n",
       "        vertical-align: top;\n",
       "    }\n",
       "\n",
       "    .dataframe thead th {\n",
       "        text-align: right;\n",
       "    }\n",
       "</style>\n",
       "<table border=\"1\" class=\"dataframe\">\n",
       "  <thead>\n",
       "    <tr style=\"text-align: right;\">\n",
       "      <th></th>\n",
       "      <th>买家会员名</th>\n",
       "      <th>标题</th>\n",
       "      <th>类别</th>\n",
       "    </tr>\n",
       "  </thead>\n",
       "  <tbody>\n",
       "    <tr>\n",
       "      <td>0</td>\n",
       "      <td>0</td>\n",
       "      <td>0-1岁婴幼儿摇铃3-6个月宝宝拼接动物手摇铃牙胶男女孩玩具袋装</td>\n",
       "      <td>0.0</td>\n",
       "    </tr>\n",
       "    <tr>\n",
       "      <td>1</td>\n",
       "      <td>0</td>\n",
       "      <td>10元以下儿童小玩具批发创意棒棒糖发光棒女孩闪光棒夜市地摊货源</td>\n",
       "      <td>0.0</td>\n",
       "    </tr>\n",
       "    <tr>\n",
       "      <td>2</td>\n",
       "      <td>0</td>\n",
       "      <td>2017创意发光玩具七彩闪光飞轮拉哨旋转男孩儿童玩具地摊货源批发</td>\n",
       "      <td>0.0</td>\n",
       "    </tr>\n",
       "    <tr>\n",
       "      <td>3</td>\n",
       "      <td>0</td>\n",
       "      <td>2017创意台球桌小玩具儿童礼物男孩义乌玩具批发地摊货源免邮好玩</td>\n",
       "      <td>0.0</td>\n",
       "    </tr>\n",
       "    <tr>\n",
       "      <td>4</td>\n",
       "      <td>0</td>\n",
       "      <td>2017创意惯性工程车推土机男孩儿童玩具车批发新奇礼物地摊热卖</td>\n",
       "      <td>0.0</td>\n",
       "    </tr>\n",
       "  </tbody>\n",
       "</table>\n",
       "</div>"
      ],
      "text/plain": [
       "   买家会员名                                标题   类别\n",
       "0      0  0-1岁婴幼儿摇铃3-6个月宝宝拼接动物手摇铃牙胶男女孩玩具袋装  0.0\n",
       "1      0   10元以下儿童小玩具批发创意棒棒糖发光棒女孩闪光棒夜市地摊货源  0.0\n",
       "2      0  2017创意发光玩具七彩闪光飞轮拉哨旋转男孩儿童玩具地摊货源批发  0.0\n",
       "3      0  2017创意台球桌小玩具儿童礼物男孩义乌玩具批发地摊货源免邮好玩  0.0\n",
       "4      0   2017创意惯性工程车推土机男孩儿童玩具车批发新奇礼物地摊热卖  0.0"
      ]
     },
     "execution_count": 227,
     "metadata": {},
     "output_type": "execute_result"
    }
   ],
   "source": [
    "user_itme_notbuy_cluster.head()"
   ]
  },
  {
   "cell_type": "code",
   "execution_count": 228,
   "metadata": {
    "ExecuteTime": {
     "end_time": "2020-03-09T17:42:14.904874Z",
     "start_time": "2020-03-09T17:42:14.891882Z"
    }
   },
   "outputs": [
    {
     "data": {
      "text/html": [
       "<div>\n",
       "<style scoped>\n",
       "    .dataframe tbody tr th:only-of-type {\n",
       "        vertical-align: middle;\n",
       "    }\n",
       "\n",
       "    .dataframe tbody tr th {\n",
       "        vertical-align: top;\n",
       "    }\n",
       "\n",
       "    .dataframe thead th {\n",
       "        text-align: right;\n",
       "    }\n",
       "</style>\n",
       "<table border=\"1\" class=\"dataframe\">\n",
       "  <thead>\n",
       "    <tr style=\"text-align: right;\">\n",
       "      <th></th>\n",
       "      <th>类别</th>\n",
       "      <th>标题</th>\n",
       "      <th>购买次数</th>\n",
       "    </tr>\n",
       "  </thead>\n",
       "  <tbody>\n",
       "    <tr>\n",
       "      <td>0</td>\n",
       "      <td>0.0</td>\n",
       "      <td>0-1岁婴幼儿摇铃3-6个月宝宝拼接动物手摇铃牙胶男女孩玩具袋装</td>\n",
       "      <td>5.0</td>\n",
       "    </tr>\n",
       "    <tr>\n",
       "      <td>1</td>\n",
       "      <td>0.0</td>\n",
       "      <td>10元以下儿童小玩具批发创意棒棒糖发光棒女孩闪光棒夜市地摊货源</td>\n",
       "      <td>23.0</td>\n",
       "    </tr>\n",
       "    <tr>\n",
       "      <td>2</td>\n",
       "      <td>0.0</td>\n",
       "      <td>2017创意发光玩具七彩闪光飞轮拉哨旋转男孩儿童玩具地摊货源批发</td>\n",
       "      <td>1.0</td>\n",
       "    </tr>\n",
       "    <tr>\n",
       "      <td>3</td>\n",
       "      <td>0.0</td>\n",
       "      <td>2017创意台球桌小玩具儿童礼物男孩义乌玩具批发地摊货源免邮好玩</td>\n",
       "      <td>36.0</td>\n",
       "    </tr>\n",
       "    <tr>\n",
       "      <td>4</td>\n",
       "      <td>0.0</td>\n",
       "      <td>2017创意惯性工程车推土机男孩儿童玩具车批发新奇礼物地摊热卖</td>\n",
       "      <td>7.0</td>\n",
       "    </tr>\n",
       "  </tbody>\n",
       "</table>\n",
       "</div>"
      ],
      "text/plain": [
       "    类别                                标题  购买次数\n",
       "0  0.0  0-1岁婴幼儿摇铃3-6个月宝宝拼接动物手摇铃牙胶男女孩玩具袋装   5.0\n",
       "1  0.0   10元以下儿童小玩具批发创意棒棒糖发光棒女孩闪光棒夜市地摊货源  23.0\n",
       "2  0.0  2017创意发光玩具七彩闪光飞轮拉哨旋转男孩儿童玩具地摊货源批发   1.0\n",
       "3  0.0  2017创意台球桌小玩具儿童礼物男孩义乌玩具批发地摊货源免邮好玩  36.0\n",
       "4  0.0   2017创意惯性工程车推土机男孩儿童玩具车批发新奇礼物地摊热卖   7.0"
      ]
     },
     "execution_count": 228,
     "metadata": {},
     "output_type": "execute_result"
    }
   ],
   "source": [
    "cluster_item_num.head()"
   ]
  },
  {
   "cell_type": "code",
   "execution_count": 229,
   "metadata": {
    "ExecuteTime": {
     "end_time": "2020-03-09T17:42:22.656118Z",
     "start_time": "2020-03-09T17:42:22.074471Z"
    }
   },
   "outputs": [
    {
     "data": {
      "text/html": [
       "<div>\n",
       "<style scoped>\n",
       "    .dataframe tbody tr th:only-of-type {\n",
       "        vertical-align: middle;\n",
       "    }\n",
       "\n",
       "    .dataframe tbody tr th {\n",
       "        vertical-align: top;\n",
       "    }\n",
       "\n",
       "    .dataframe thead th {\n",
       "        text-align: right;\n",
       "    }\n",
       "</style>\n",
       "<table border=\"1\" class=\"dataframe\">\n",
       "  <thead>\n",
       "    <tr style=\"text-align: right;\">\n",
       "      <th></th>\n",
       "      <th>买家会员名</th>\n",
       "      <th>标题</th>\n",
       "      <th>类别</th>\n",
       "      <th>购买次数</th>\n",
       "    </tr>\n",
       "  </thead>\n",
       "  <tbody>\n",
       "    <tr>\n",
       "      <td>0</td>\n",
       "      <td>0</td>\n",
       "      <td>0-1岁婴幼儿摇铃3-6个月宝宝拼接动物手摇铃牙胶男女孩玩具袋装</td>\n",
       "      <td>0.0</td>\n",
       "      <td>5.0</td>\n",
       "    </tr>\n",
       "    <tr>\n",
       "      <td>1</td>\n",
       "      <td>0</td>\n",
       "      <td>10元以下儿童小玩具批发创意棒棒糖发光棒女孩闪光棒夜市地摊货源</td>\n",
       "      <td>0.0</td>\n",
       "      <td>23.0</td>\n",
       "    </tr>\n",
       "    <tr>\n",
       "      <td>2</td>\n",
       "      <td>0</td>\n",
       "      <td>2017创意发光玩具七彩闪光飞轮拉哨旋转男孩儿童玩具地摊货源批发</td>\n",
       "      <td>0.0</td>\n",
       "      <td>1.0</td>\n",
       "    </tr>\n",
       "    <tr>\n",
       "      <td>3</td>\n",
       "      <td>0</td>\n",
       "      <td>2017创意台球桌小玩具儿童礼物男孩义乌玩具批发地摊货源免邮好玩</td>\n",
       "      <td>0.0</td>\n",
       "      <td>36.0</td>\n",
       "    </tr>\n",
       "    <tr>\n",
       "      <td>4</td>\n",
       "      <td>0</td>\n",
       "      <td>2017创意惯性工程车推土机男孩儿童玩具车批发新奇礼物地摊热卖</td>\n",
       "      <td>0.0</td>\n",
       "      <td>7.0</td>\n",
       "    </tr>\n",
       "  </tbody>\n",
       "</table>\n",
       "</div>"
      ],
      "text/plain": [
       "   买家会员名                                标题   类别  购买次数\n",
       "0      0  0-1岁婴幼儿摇铃3-6个月宝宝拼接动物手摇铃牙胶男女孩玩具袋装  0.0   5.0\n",
       "1      0   10元以下儿童小玩具批发创意棒棒糖发光棒女孩闪光棒夜市地摊货源  0.0  23.0\n",
       "2      0  2017创意发光玩具七彩闪光飞轮拉哨旋转男孩儿童玩具地摊货源批发  0.0   1.0\n",
       "3      0  2017创意台球桌小玩具儿童礼物男孩义乌玩具批发地摊货源免邮好玩  0.0  36.0\n",
       "4      0   2017创意惯性工程车推土机男孩儿童玩具车批发新奇礼物地摊热卖  0.0   7.0"
      ]
     },
     "execution_count": 229,
     "metadata": {},
     "output_type": "execute_result"
    }
   ],
   "source": [
    "user_notbuy_num=pd.merge(user_itme_notbuy_cluster,cluster_item_num,on=[\"类别\",\"标题\"],how=\"left\")\n",
    "user_notbuy_num.head()"
   ]
  },
  {
   "cell_type": "markdown",
   "metadata": {},
   "source": [
    "# 新增列生成推荐指数"
   ]
  },
  {
   "cell_type": "code",
   "execution_count": 220,
   "metadata": {
    "ExecuteTime": {
     "end_time": "2020-03-09T17:36:15.993107Z",
     "start_time": "2020-03-09T17:36:15.988111Z"
    }
   },
   "outputs": [],
   "source": [
    "def topk(x):\n",
    "    res=x.sort_values('购买次数',ascending=False)[:5]\n",
    "    res[\"推荐指数\"]=[5,4,3,2,1]\n",
    "    return res"
   ]
  },
  {
   "cell_type": "code",
   "execution_count": 230,
   "metadata": {
    "ExecuteTime": {
     "end_time": "2020-03-09T17:42:54.366801Z",
     "start_time": "2020-03-09T17:42:44.028097Z"
    }
   },
   "outputs": [
    {
     "data": {
      "text/html": [
       "<div>\n",
       "<style scoped>\n",
       "    .dataframe tbody tr th:only-of-type {\n",
       "        vertical-align: middle;\n",
       "    }\n",
       "\n",
       "    .dataframe tbody tr th {\n",
       "        vertical-align: top;\n",
       "    }\n",
       "\n",
       "    .dataframe thead th {\n",
       "        text-align: right;\n",
       "    }\n",
       "</style>\n",
       "<table border=\"1\" class=\"dataframe\">\n",
       "  <thead>\n",
       "    <tr style=\"text-align: right;\">\n",
       "      <th></th>\n",
       "      <th></th>\n",
       "      <th>买家会员名</th>\n",
       "      <th>标题</th>\n",
       "      <th>类别</th>\n",
       "      <th>购买次数</th>\n",
       "      <th>推荐指数</th>\n",
       "    </tr>\n",
       "    <tr>\n",
       "      <th>买家会员名</th>\n",
       "      <th></th>\n",
       "      <th></th>\n",
       "      <th></th>\n",
       "      <th></th>\n",
       "      <th></th>\n",
       "      <th></th>\n",
       "    </tr>\n",
       "  </thead>\n",
       "  <tbody>\n",
       "    <tr>\n",
       "      <td rowspan=\"5\" valign=\"top\">0</td>\n",
       "      <td>165</td>\n",
       "      <td>0</td>\n",
       "      <td>创意新款发光翅膀背带儿童演出服装天使蝴蝶翅膀地摊货源玩具批发</td>\n",
       "      <td>0.0</td>\n",
       "      <td>208.0</td>\n",
       "      <td>5</td>\n",
       "    </tr>\n",
       "    <tr>\n",
       "      <td>123</td>\n",
       "      <td>0</td>\n",
       "      <td>创意发光球闪光透明发光水晶弹力球儿童小玩具 夜市地摊货源批发</td>\n",
       "      <td>0.0</td>\n",
       "      <td>165.0</td>\n",
       "      <td>4</td>\n",
       "    </tr>\n",
       "    <tr>\n",
       "      <td>148</td>\n",
       "      <td>0</td>\n",
       "      <td>创意恐龙玩具卡装仿真恐龙模型小孩礼物宝宝玩具地摊货批发免邮</td>\n",
       "      <td>0.0</td>\n",
       "      <td>124.0</td>\n",
       "      <td>3</td>\n",
       "    </tr>\n",
       "    <tr>\n",
       "      <td>15</td>\n",
       "      <td>0</td>\n",
       "      <td>2017热卖大号仿真惯性挖土机儿童益智礼品创意义乌地摊货玩具批发</td>\n",
       "      <td>0.0</td>\n",
       "      <td>113.0</td>\n",
       "      <td>2</td>\n",
       "    </tr>\n",
       "    <tr>\n",
       "      <td>141</td>\n",
       "      <td>0</td>\n",
       "      <td>创意婴幼儿学习故事机小兔子早教玩具儿童益智地摊货小孩玩具批发</td>\n",
       "      <td>0.0</td>\n",
       "      <td>113.0</td>\n",
       "      <td>1</td>\n",
       "    </tr>\n",
       "  </tbody>\n",
       "</table>\n",
       "</div>"
      ],
      "text/plain": [
       "           买家会员名                                标题   类别   购买次数  推荐指数\n",
       "买家会员名                                                               \n",
       "0     165      0    创意新款发光翅膀背带儿童演出服装天使蝴蝶翅膀地摊货源玩具批发  0.0  208.0     5\n",
       "      123      0    创意发光球闪光透明发光水晶弹力球儿童小玩具 夜市地摊货源批发  0.0  165.0     4\n",
       "      148      0     创意恐龙玩具卡装仿真恐龙模型小孩礼物宝宝玩具地摊货批发免邮  0.0  124.0     3\n",
       "      15       0  2017热卖大号仿真惯性挖土机儿童益智礼品创意义乌地摊货玩具批发  0.0  113.0     2\n",
       "      141      0    创意婴幼儿学习故事机小兔子早教玩具儿童益智地摊货小孩玩具批发  0.0  113.0     1"
      ]
     },
     "execution_count": 230,
     "metadata": {},
     "output_type": "execute_result"
    }
   ],
   "source": [
    "recom=user_notbuy_num.groupby(\"买家会员名\").apply(topk)\n",
    "recom.head()"
   ]
  },
  {
   "cell_type": "code",
   "execution_count": 231,
   "metadata": {
    "ExecuteTime": {
     "end_time": "2020-03-09T17:43:02.961762Z",
     "start_time": "2020-03-09T17:43:02.957764Z"
    }
   },
   "outputs": [],
   "source": [
    "recom.reset_index(drop=True,inplace=True)"
   ]
  },
  {
   "cell_type": "code",
   "execution_count": 232,
   "metadata": {
    "ExecuteTime": {
     "end_time": "2020-03-09T17:43:06.921961Z",
     "start_time": "2020-03-09T17:43:06.901974Z"
    }
   },
   "outputs": [
    {
     "data": {
      "text/html": [
       "<div>\n",
       "<style scoped>\n",
       "    .dataframe tbody tr th:only-of-type {\n",
       "        vertical-align: middle;\n",
       "    }\n",
       "\n",
       "    .dataframe tbody tr th {\n",
       "        vertical-align: top;\n",
       "    }\n",
       "\n",
       "    .dataframe thead th {\n",
       "        text-align: right;\n",
       "    }\n",
       "</style>\n",
       "<table border=\"1\" class=\"dataframe\">\n",
       "  <thead>\n",
       "    <tr style=\"text-align: right;\">\n",
       "      <th></th>\n",
       "      <th>买家会员名</th>\n",
       "      <th>标题</th>\n",
       "      <th>类别</th>\n",
       "      <th>购买次数</th>\n",
       "      <th>推荐指数</th>\n",
       "    </tr>\n",
       "  </thead>\n",
       "  <tbody>\n",
       "    <tr>\n",
       "      <td>0</td>\n",
       "      <td>0</td>\n",
       "      <td>创意新款发光翅膀背带儿童演出服装天使蝴蝶翅膀地摊货源玩具批发</td>\n",
       "      <td>0.0</td>\n",
       "      <td>208.0</td>\n",
       "      <td>5</td>\n",
       "    </tr>\n",
       "    <tr>\n",
       "      <td>1</td>\n",
       "      <td>0</td>\n",
       "      <td>创意发光球闪光透明发光水晶弹力球儿童小玩具 夜市地摊货源批发</td>\n",
       "      <td>0.0</td>\n",
       "      <td>165.0</td>\n",
       "      <td>4</td>\n",
       "    </tr>\n",
       "    <tr>\n",
       "      <td>2</td>\n",
       "      <td>0</td>\n",
       "      <td>创意恐龙玩具卡装仿真恐龙模型小孩礼物宝宝玩具地摊货批发免邮</td>\n",
       "      <td>0.0</td>\n",
       "      <td>124.0</td>\n",
       "      <td>3</td>\n",
       "    </tr>\n",
       "    <tr>\n",
       "      <td>3</td>\n",
       "      <td>0</td>\n",
       "      <td>2017热卖大号仿真惯性挖土机儿童益智礼品创意义乌地摊货玩具批发</td>\n",
       "      <td>0.0</td>\n",
       "      <td>113.0</td>\n",
       "      <td>2</td>\n",
       "    </tr>\n",
       "    <tr>\n",
       "      <td>4</td>\n",
       "      <td>0</td>\n",
       "      <td>创意婴幼儿学习故事机小兔子早教玩具儿童益智地摊货小孩玩具批发</td>\n",
       "      <td>0.0</td>\n",
       "      <td>113.0</td>\n",
       "      <td>1</td>\n",
       "    </tr>\n",
       "  </tbody>\n",
       "</table>\n",
       "</div>"
      ],
      "text/plain": [
       "   买家会员名                                标题   类别   购买次数  推荐指数\n",
       "0      0    创意新款发光翅膀背带儿童演出服装天使蝴蝶翅膀地摊货源玩具批发  0.0  208.0     5\n",
       "1      0    创意发光球闪光透明发光水晶弹力球儿童小玩具 夜市地摊货源批发  0.0  165.0     4\n",
       "2      0     创意恐龙玩具卡装仿真恐龙模型小孩礼物宝宝玩具地摊货批发免邮  0.0  124.0     3\n",
       "3      0  2017热卖大号仿真惯性挖土机儿童益智礼品创意义乌地摊货玩具批发  0.0  113.0     2\n",
       "4      0    创意婴幼儿学习故事机小兔子早教玩具儿童益智地摊货小孩玩具批发  0.0  113.0     1"
      ]
     },
     "execution_count": 232,
     "metadata": {},
     "output_type": "execute_result"
    }
   ],
   "source": [
    "recom.head()"
   ]
  },
  {
   "cell_type": "code",
   "execution_count": null,
   "metadata": {},
   "outputs": [],
   "source": [
    "recom.to_excel(\"客户商品推荐列表top5.xlsx\")"
   ]
  }
 ],
 "metadata": {
  "kernelspec": {
   "display_name": "Python 3",
   "language": "python",
   "name": "python3"
  },
  "language_info": {
   "codemirror_mode": {
    "name": "ipython",
    "version": 3
   },
   "file_extension": ".py",
   "mimetype": "text/x-python",
   "name": "python",
   "nbconvert_exporter": "python",
   "pygments_lexer": "ipython3",
   "version": "3.7.4"
  },
  "toc": {
   "base_numbering": 1,
   "nav_menu": {},
   "number_sections": true,
   "sideBar": true,
   "skip_h1_title": false,
   "title_cell": "Table of Contents",
   "title_sidebar": "Contents",
   "toc_cell": false,
   "toc_position": {
    "height": "calc(100% - 180px)",
    "left": "10px",
    "top": "150px",
    "width": "259px"
   },
   "toc_section_display": true,
   "toc_window_display": true
  }
 },
 "nbformat": 4,
 "nbformat_minor": 2
}
